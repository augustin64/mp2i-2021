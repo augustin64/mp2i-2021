{
 "cells": [
  {
   "cell_type": "code",
   "execution_count": 2,
   "metadata": {
    "vscode": {
     "languageId": "ocaml"
    }
   },
   "outputs": [
    {
     "data": {
      "text/plain": [
       "type tree = E | N of tree * tree\n"
      ]
     },
     "execution_count": 2,
     "metadata": {},
     "output_type": "execute_result"
    }
   ],
   "source": [
    "type tree = E | N of tree * tree"
   ]
  },
  {
   "cell_type": "code",
   "execution_count": 5,
   "metadata": {
    "vscode": {
     "languageId": "ocaml"
    }
   },
   "outputs": [
    {
     "data": {
      "text/plain": [
       "val aux1 : tree -> (int -> 'a) -> 'a = <fun>\n"
      ]
     },
     "execution_count": 5,
     "metadata": {},
     "output_type": "execute_result"
    },
    {
     "data": {
      "text/plain": [
       "val height1 : tree -> int = <fun>\n"
      ]
     },
     "execution_count": 5,
     "metadata": {},
     "output_type": "execute_result"
    }
   ],
   "source": [
    "let rec aux1 t k =\n",
    "  match t with\n",
    "  | E -> k 0\n",
    "  | N (l, r) ->\n",
    "    aux1 l ((*1*) fun hl ->\n",
    "      aux1 r ((*2*) fun hr ->\n",
    "        k (1 + max hl hr)))\n",
    "  \n",
    "let height1 t =\n",
    "  aux1 t ((*3*) fun h -> h)"
   ]
  },
  {
   "cell_type": "code",
   "execution_count": 6,
   "metadata": {
    "vscode": {
     "languageId": "ocaml"
    }
   },
   "outputs": [
    {
     "data": {
      "text/plain": [
       "- : int = 2\n"
      ]
     },
     "execution_count": 6,
     "metadata": {},
     "output_type": "execute_result"
    }
   ],
   "source": [
    "height1 (N(E, N(E, E)))"
   ]
  },
  {
   "cell_type": "code",
   "execution_count": 7,
   "metadata": {
    "vscode": {
     "languageId": "ocaml"
    }
   },
   "outputs": [
    {
     "data": {
      "text/plain": [
       "type cont = K1 of tree * cont | K2 of int * cont | K3\n"
      ]
     },
     "execution_count": 7,
     "metadata": {},
     "output_type": "execute_result"
    },
    {
     "data": {
      "text/plain": [
       "val aux2 : tree -> cont -> int = <fun>\n",
       "val apply : cont -> int -> int = <fun>\n"
      ]
     },
     "execution_count": 7,
     "metadata": {},
     "output_type": "execute_result"
    },
    {
     "data": {
      "text/plain": [
       "val height2 : tree -> int = <fun>\n"
      ]
     },
     "execution_count": 7,
     "metadata": {},
     "output_type": "execute_result"
    }
   ],
   "source": [
    "(* Q8. *)\n",
    "type cont =\n",
    "  | K1 of tree * cont\n",
    "  | K2 of int * cont\n",
    "  | K3\n",
    "\n",
    "let rec aux2 t k =\n",
    "  match t with\n",
    "  | E -> apply k 0\n",
    "  | N (l, r) -> aux2 l (K1(r, k))\n",
    "and apply k v =\n",
    "  match k with\n",
    "  | K1 (r, k) -> aux2 r (K2(v, k))\n",
    "  | K2 (h, k) -> apply k (1 + if v > h then v else h)\n",
    "  | K3 -> v\n",
    "\n",
    "let height2 t =\n",
    "  aux2 t K3"
   ]
  },
  {
   "cell_type": "code",
   "execution_count": 8,
   "metadata": {
    "vscode": {
     "languageId": "ocaml"
    }
   },
   "outputs": [
    {
     "data": {
      "text/plain": [
       "- : int = 2\n"
      ]
     },
     "execution_count": 8,
     "metadata": {},
     "output_type": "execute_result"
    }
   ],
   "source": [
    "height2 (N(E, N(E, E)))"
   ]
  },
  {
   "cell_type": "code",
   "execution_count": 39,
   "metadata": {
    "vscode": {
     "languageId": "ocaml"
    }
   },
   "outputs": [
    {
     "data": {
      "text/plain": [
       "val split : 'a list -> ('a list * 'a list -> 'b) -> 'b = <fun>\n"
      ]
     },
     "execution_count": 39,
     "metadata": {},
     "output_type": "execute_result"
    },
    {
     "data": {
      "text/plain": [
       "val merge : 'a list -> 'a list -> ('a list -> 'b) -> 'b = <fun>\n"
      ]
     },
     "execution_count": 39,
     "metadata": {},
     "output_type": "execute_result"
    },
    {
     "data": {
      "text/plain": [
       "val mergesort : 'a list -> ('a list -> 'b) -> 'b = <fun>\n"
      ]
     },
     "execution_count": 39,
     "metadata": {},
     "output_type": "execute_result"
    },
    {
     "data": {
      "text/plain": [
       "val sort : 'a list -> 'a list = <fun>\n"
      ]
     },
     "execution_count": 39,
     "metadata": {},
     "output_type": "execute_result"
    }
   ],
   "source": [
    "(* Q10 *)\n",
    "let rec split l k =\n",
    "  match l with\n",
    "    | [] -> k ([], [])\n",
    "    | x::r -> split r (fun (a, b) -> k (b, x::a))\n",
    "\n",
    "let rec merge l1 l2 k =\n",
    "  match l1, l2 with\n",
    "  | [], l | l, [] -> k l\n",
    "  | x1::r1, x2::r2 ->\n",
    "    if x1 < x2 then merge r1 l2 (fun l -> k (x1::l))\n",
    "    else merge r2 l1 (fun l -> k (x2::l))\n",
    "\n",
    "let rec mergesort l k =\n",
    "  match l with\n",
    "  | [] | [_] -> k l\n",
    "  | _ -> \n",
    "    let l1, l2 = split l (fun x -> x) in \n",
    "    mergesort l1 (fun l1' -> mergesort l2 (fun l2' -> merge l1' l2' k))\n",
    "\n",
    "let sort l = mergesort l (fun x -> x)"
   ]
  },
  {
   "cell_type": "code",
   "execution_count": 44,
   "metadata": {
    "vscode": {
     "languageId": "ocaml"
    }
   },
   "outputs": [
    {
     "data": {
      "text/plain": [
       "- : int list = [1; 2; 3; 5; 6]\n"
      ]
     },
     "execution_count": 44,
     "metadata": {},
     "output_type": "execute_result"
    },
    {
     "data": {
      "text/plain": [
       "- : int list = [0; 1; 2; 3; 4]\n"
      ]
     },
     "execution_count": 44,
     "metadata": {},
     "output_type": "execute_result"
    }
   ],
   "source": [
    "sort [3; 1; 2; 6; 5];;\n",
    "sort [4; 3; 2; 1; 0];;"
   ]
  }
 ],
 "metadata": {
  "kernelspec": {
   "display_name": "OCaml 4.12.0",
   "language": "OCaml",
   "name": "ocaml-jupyter"
  },
  "language_info": {
   "codemirror_mode": "text/x-ocaml",
   "file_extension": ".ml",
   "mimetype": "text/x-ocaml",
   "name": "OCaml",
   "nbconverter_exporter": null,
   "pygments_lexer": "OCaml",
   "version": "4.12.0"
  }
 },
 "nbformat": 4,
 "nbformat_minor": 2
}
