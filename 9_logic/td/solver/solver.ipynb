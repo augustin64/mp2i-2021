{
 "cells": [
  {
   "cell_type": "markdown",
   "metadata": {},
   "source": [
    "# <center><a href='https://mybinder.org/v2/gh/fortierq/binder-mp2i/main?urlpath=git-pull%3Frepo%3Dhttps%253A%252F%252Fgithub.com%252Fmp2i-fsm%252Fmp2i-2021%26urlpath%3Dlab%252Ftree%252Fmp2i-2021%252F9_logic%252Ftd%252Fsolver%252Fsolver.ipynb%26branch%3Dmain'>Utilisation d'un solver (minisat)<img src=https://mybinder.org/badge.svg></a></center>\n",
    "[`minisat`](http://minisat.se/) est un solveur de formules SAT en ligne de commande : on lui donne une formule sous forme d'un fichier texte et il tente de déterminer si la formule est satisfiable et, si oui, pour quelles valeurs de variables.  \n",
    "**Pour pouvoir utiliser minisat, veuillez utiliser Binder (cliquer sur le titre du TP) ou installer minisat sur votre machine (si vous avez OCaml)**  "
   ]
  },
  {
   "cell_type": "markdown",
   "metadata": {},
   "source": [
    "## Fichier dimacs cnf\n",
    "\n",
    "Imaginons que l'on souhaite savoir si la formule suivante est satisfiable :\n",
    "$$(x_1 \\lor x_2 \\lor x_3) \\land (x_1 \\lor \\lnot x_2) \\land (x_2 \\lor \\lnot x_3) \\land (\\lnot x_2 \\lor \\lnot x_3 \\lor \\lnot x_1) $$\n",
    "\n",
    "On encode pour cela la formule dans un fichier au format DIMACS CNF (`test.cnf` dans cet exemple) :\n",
    "```\n",
    "p cnf 3 4\n",
    "1 2 3 0\n",
    "1 -2 0\n",
    "2 -3 0\n",
    "-1 -2 -3 0\n",
    "```\n",
    "`p cnf 3 4` signifie que la formule est en CNF, qu'elle comporte $3$ variables et $4$ clauses.  \n",
    "Chacune des lignes suivantes correspond à une clause, où un nombre positif correspond à une variable et un nombre négatif à sa négation. $0$ indique la fin d'une ligne."
   ]
  },
  {
   "cell_type": "markdown",
   "metadata": {},
   "source": [
    "Puis on appelle `minisat` sur le fichier, ce qui produit un fichier de sortie nommé ici `test.out` :"
   ]
  },
  {
   "cell_type": "code",
   "execution_count": 1,
   "metadata": {
    "vscode": {
     "languageId": "ocaml"
    }
   },
   "outputs": [
    {
     "name": "stdout",
     "output_type": "stream",
     "text": [
      "WARNING: for repeatability, setting FPU to use double precision\n",
      "============================[ Problem Statistics ]=============================\n",
      "|                                                                             |\n",
      "|  Number of variables:             3                                         |\n",
      "|  Number of clauses:               4                                         |\n",
      "|  Parse time:                   0.00 s                                       |\n",
      "|  Eliminated clauses:           0.00 Mb                                      |\n",
      "|  Simplification time:          0.00 s                                       |\n",
      "|                                                                             |\n",
      "============================[ Search Statistics ]==============================\n",
      "| Conflicts |          ORIGINAL         |          LEARNT          | Progress |\n",
      "|           |    Vars  Clauses Literals |    Limit  Clauses Lit/Cl |          |\n",
      "===============================================================================\n",
      "===============================================================================\n",
      "restarts              : 1\n",
      "conflicts             : 0              (-nan /sec)\n",
      "decisions             : 1              (0.00 % random) (inf /sec)\n",
      "propagations          : 2              (inf /sec)\n",
      "conflict literals     : 0              (-nan % deleted)\n",
      "Memory used           : 11.00 MB\n",
      "CPU time              : 0 s\n",
      "\n",
      "SATISFIABLE\n",
      "SAT\n",
      "1 -2 -3 0\n"
     ]
    },
    {
     "data": {
      "text/plain": [
       "- : int = 0\n"
      ]
     },
     "execution_count": 1,
     "metadata": {},
     "output_type": "execute_result"
    }
   ],
   "source": [
    "Sys.command \"minisat test.cnf test.out; cat test.out\""
   ]
  },
  {
   "cell_type": "markdown",
   "metadata": {},
   "source": [
    "`minisat` a donc trouvé que la formule est satisfiable avec comme assignation :\n",
    "$$v(x_1) = 1, ~v(x_2) = 0, ~v(x_3) = 0$$"
   ]
  },
  {
   "cell_type": "markdown",
   "metadata": {},
   "source": [
    "## Écriture et lecture dans un fichier en OCaml\n",
    "\n",
    "Il est pratique d'utiliser un langage de programmation pour générer un fichier .cnf correspondant à une grosse formule.  \n",
    "L'écriture et la lecture dans un fichier en OCaml se fait à travers un channel.  \n",
    "`open_out` donne un channel pour pouvoir écrire dans un fichier :"
   ]
  },
  {
   "cell_type": "code",
   "execution_count": 2,
   "metadata": {
    "vscode": {
     "languageId": "ocaml"
    }
   },
   "outputs": [
    {
     "data": {
      "text/plain": [
       "val f : out_channel = <abstr>\n"
      ]
     },
     "execution_count": 2,
     "metadata": {},
     "output_type": "execute_result"
    }
   ],
   "source": [
    "let f = open_out \"test\" (* ouvre un fichier test en écriture *)"
   ]
  },
  {
   "cell_type": "markdown",
   "metadata": {},
   "source": [
    "`Printf.fprintf` est une fonction ressemblant à la fonction `printf` en C et permettant d'écrire sur un channel (et notamment dans un fichier) :"
   ]
  },
  {
   "cell_type": "code",
   "execution_count": 3,
   "metadata": {
    "vscode": {
     "languageId": "python"
    }
   },
   "outputs": [
    {
     "data": {
      "text/plain": [
       "- : unit = ()\n"
      ]
     },
     "execution_count": 3,
     "metadata": {},
     "output_type": "execute_result"
    }
   ],
   "source": [
    "Printf.fprintf f \"blabla\\n\" (* écrit blabla dans le fichier, puis un saut de ligne *)"
   ]
  },
  {
   "cell_type": "markdown",
   "metadata": {},
   "source": [
    "Comme pour `printf`, on peut écrire le contenu de variables en utilisant `%d` (pour un entier), `%s` (pour une string)... :"
   ]
  },
  {
   "cell_type": "code",
   "execution_count": 4,
   "metadata": {
    "vscode": {
     "languageId": "ocaml"
    }
   },
   "outputs": [
    {
     "data": {
      "text/plain": [
       "- : unit = ()\n"
      ]
     },
     "execution_count": 4,
     "metadata": {},
     "output_type": "execute_result"
    }
   ],
   "source": [
    "let x = 2 in\n",
    "let text = \"abc\" in\n",
    "Printf.fprintf f \"%s %d\" text x; (* écrit \"abc 2\" dans le fichier *)"
   ]
  },
  {
   "cell_type": "markdown",
   "metadata": {},
   "source": [
    "Quand la modification du fichier est terminée, on peut flush (forcer l'écriture du texte) et fermer le channel :"
   ]
  },
  {
   "cell_type": "code",
   "execution_count": 5,
   "metadata": {
    "vscode": {
     "languageId": "ocaml"
    }
   },
   "outputs": [
    {
     "data": {
      "text/plain": [
       "- : unit = ()\n"
      ]
     },
     "execution_count": 5,
     "metadata": {},
     "output_type": "execute_result"
    }
   ],
   "source": [
    "flush f;\n",
    "close_out f"
   ]
  },
  {
   "cell_type": "markdown",
   "metadata": {
    "tags": [
     "exo"
    ]
   },
   "source": [
    "**Exercice** : Vérifier le contenu du fichier `test` sur Jupyter (en allant dans le même dossier que ce notebook)."
   ]
  },
  {
   "cell_type": "markdown",
   "metadata": {},
   "source": [
    "Pour avoir plus d'informations sur l'écriture et la lecture, regarder https://ocaml.org/docs/file-manipulation.  \n",
    "Vous aurez besoin de lire dans un fichier pour afficher proprement la solution des exercices suivants.  \n",
    "Voici une fonction pour afficher le contenu d'un fichier :"
   ]
  },
  {
   "cell_type": "code",
   "execution_count": 6,
   "metadata": {
    "vscode": {
     "languageId": "ocaml"
    }
   },
   "outputs": [
    {
     "data": {
      "text/plain": [
       "val print_file : string -> unit = <fun>\n"
      ]
     },
     "execution_count": 6,
     "metadata": {},
     "output_type": "execute_result"
    },
    {
     "name": "stdout",
     "output_type": "stream",
     "text": [
      "blablaabc 2\n"
     ]
    },
    {
     "data": {
      "text/plain": [
       "- : unit = ()\n"
      ]
     },
     "execution_count": 6,
     "metadata": {},
     "output_type": "execute_result"
    }
   ],
   "source": [
    "let print_file file =\n",
    "    let f = open_in file in\n",
    "    try while true do\n",
    "        print_endline (input_line f)\n",
    "        done\n",
    "    with _ -> ();;\n",
    "\n",
    "print_file \"test\""
   ]
  },
  {
   "cell_type": "markdown",
   "metadata": {},
   "source": [
    "## Problème des 8 dames\n",
    "\n",
    "On considère un échiquier $n\\times n$ et on souhaite y placer $n$ dames dessus sans qu'elles ne puissent se prendrent l'une l'autre (c'est-à-dire qu'il n'y a pas deux dames sur la même ligne, colonne ou diagonale).  "
   ]
  },
  {
   "cell_type": "markdown",
   "metadata": {
    "tags": [
     "exo"
    ]
   },
   "source": [
    "**Exercice** :  \n",
    "1. Écrire une fonction `dames n` pour écrire dans un fichier une formule SAT sous forme CNF pour résoudre ce problème. Pour cela, on pourra utiliser une variable booléenne pour chaque case et encoder les contraintes suivantes :\n",
    "- Pour chaque ligne, il y a au moins une dame.  \n",
    "- Pour tout $p = (i_1, j_1) \\neq q = (i_2, j_2)$, si $p$ et $q$ sont sur la même ligne, colonne ou diagonale, alors $p$ ou $q$ est faux.  \n",
    "2. Résoudre le problème avec minisat.  \n",
    "3. Lire dans le fichier solution et l'afficher graphiquement."
   ]
  },
  {
   "cell_type": "markdown",
   "metadata": {},
   "source": [
    "## 3-coloration"
   ]
  },
  {
   "cell_type": "markdown",
   "metadata": {
    "tags": [
     "exo"
    ]
   },
   "source": [
    "**Exercice** : Faire de même pour résoudre le problème de $3$-coloration d'un graphe (transformer un graphe - sous forme de liste d'adjacence, par exemple - en formule SAT qui soit satisfiable si et seulement si le graphe est $3$-coloriable. Vérifier sur des exemples."
   ]
  }
 ],
 "metadata": {
  "kernelspec": {
   "display_name": "OCaml default",
   "language": "OCaml",
   "name": "ocaml-jupyter"
  },
  "language_info": {
   "codemirror_mode": "text/x-ocaml",
   "file_extension": ".ml",
   "mimetype": "text/x-ocaml",
   "name": "OCaml",
   "nbconverter_exporter": null,
   "pygments_lexer": "OCaml",
   "version": "4.08.1"
  }
 },
 "nbformat": 4,
 "nbformat_minor": 4
}
