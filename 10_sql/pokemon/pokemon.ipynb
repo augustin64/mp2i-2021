{
 "cells": [
  {
   "cell_type": "markdown",
   "metadata": {},
   "source": [
    "# <center><a href='https://notebook.basthon.fr/sql/?from=https://raw.githubusercontent.com/mp2i-fsm/mp2i-2021/main/10_sql/pokemon/pokemon.ipynb&module=https://raw.githubusercontent.com/mp2i-fsm/mp2i-2021/main/10_sql/pokemon/pokemon.sql'>Exemple SQL : Pokémon <img src=https://framagit.org/uploads/-/system/project/avatar/55763/basthon_shadow.png width=100></a></center>\n",
    "\n",
    "Les données ont été obtenues sur [https://github.com/bthouverez/Pokemon-BDD](https://github.com/bthouverez/Pokemon-BDD)"
   ]
  },
  {
   "cell_type": "code",
   "execution_count": 2,
   "metadata": {},
   "outputs": [
    {
     "data": {
      "text/html": [
       "<table class=\"dataframe\" border=\"1\"><thead><tr style=\"text-align: right;\"><th>name</th></tr></thead><tbody><tr><td>attaques</td></tr><tr><td>detient_pokemons</td></tr><tr><td>dresseurs</td></tr><tr><td>est_type</td></tr><tr><td>evolue_en</td></tr><tr><td>pokemons</td></tr><tr><td>types</td></tr></tbody></table>"
      ],
      "text/plain": [
       "name\n",
       "attaques\n",
       "detient_pokemons\n",
       "dresseurs\n",
       "est_type\n",
       "evolue_en\n",
       "pokemons\n",
       "types"
      ]
     },
     "execution_count": 2,
     "metadata": {},
     "output_type": "execute_result"
    }
   ],
   "source": [
    ".tables"
   ]
  }
 ],
 "metadata": {
  "kernelspec": {
   "display_name": "SQL",
   "language": "sql",
   "name": "sql"
  }
 },
 "nbformat": 4,
 "nbformat_minor": 2
}
