{
 "cells": [
  {
   "cell_type": "markdown",
   "metadata": {},
   "source": [
    "# <center><a href='https://mybinder.org/v2/gh/fortierq/binder-mp2i/main?urlpath=git-pull%3Frepo%3Dhttps%253A%252F%252Fgithub.com%252Fmp2i-info%252Fmp2i-info.github.io%26urlpath%3Dlab%252Ftree%252Fmp2i-info.github.io%252F9_logic%252Ftd%252Fsolver%252Fsolver.ipynb%26branch%3Dmain'>Utilisation d'un solver (minisat)<img src=https://mybinder.org/badge.svg></a></center>\n",
    "[`minisat`](http://minisat.se/) est un solveur de formules SAT en ligne de commande : on lui donne une formule sous forme d'un fichier texte et il tente de déterminer si la formule est satisfiable et, si oui, pour quelles valeurs de variables.  \n",
    "**Pour pouvoir utiliser minisat, veuillez utiliser Binder (cliquer sur le titre du TP) ou installer minisat sur votre machine (si vous avez OCaml)**  "
   ]
  },
  {
   "cell_type": "markdown",
   "metadata": {},
   "source": [
    "## Fichier dimacs cnf\n",
    "\n",
    "Imaginons que l'on souhaite savoir si la formule suivante est satisfiable :\n",
    "$$(x_1 \\lor x_2 \\lor x_3) \\land (x_1 \\lor \\lnot x_2) \\land (x_2 \\lor \\lnot x_3) \\land (\\lnot x_2 \\lor \\lnot x_3 \\lor \\lnot x_1) $$\n",
    "\n",
    "On encode pour cela la formule dans un fichier au format DIMACS CNF (`test.cnf` dans cet exemple) :\n",
    "```\n",
    "p cnf 3 4\n",
    "1 2 3 0\n",
    "1 -2 0\n",
    "2 -3 0\n",
    "-1 -2 -3 0\n",
    "```\n",
    "`p cnf 3 4` signifie que la formule est en CNF, qu'elle comporte $3$ variables et $4$ clauses.  \n",
    "Chacune des lignes suivantes correspond à une clause, où un nombre positif correspond à une variable et un nombre négatif à sa négation. $0$ indique la fin d'une ligne."
   ]
  },
  {
   "cell_type": "markdown",
   "metadata": {},
   "source": [
    "Puis on appelle `minisat` sur le fichier, ce qui produit un fichier de sortie nommé ici `test.out` :"
   ]
  },
  {
   "cell_type": "code",
   "execution_count": 1,
   "metadata": {
    "vscode": {
     "languageId": "ocaml"
    }
   },
   "outputs": [
    {
     "name": "stdout",
     "output_type": "stream",
     "text": [
      "WARNING: for repeatability, setting FPU to use double precision\n",
      "============================[ Problem Statistics ]=============================\n",
      "|                                                                             |\n",
      "|  Number of variables:             3                                         |\n",
      "|  Number of clauses:               4                                         |\n",
      "|  Parse time:                   0.00 s                                       |\n",
      "|  Eliminated clauses:           0.00 Mb                                      |\n",
      "|  Simplification time:          0.00 s                                       |\n",
      "|                                                                             |\n",
      "============================[ Search Statistics ]==============================\n",
      "| Conflicts |          ORIGINAL         |          LEARNT          | Progress |\n",
      "|           |    Vars  Clauses Literals |    Limit  Clauses Lit/Cl |          |\n",
      "===============================================================================\n",
      "===============================================================================\n",
      "restarts              : 1\n",
      "conflicts             : 0              (-nan /sec)\n",
      "decisions             : 1              (0.00 % random) (inf /sec)\n",
      "propagations          : 2              (inf /sec)\n",
      "conflict literals     : 0              (-nan % deleted)\n",
      "Memory used           : 11.00 MB\n",
      "CPU time              : 0 s\n",
      "\n",
      "SATISFIABLE\n",
      "SAT\n",
      "1 -2 -3 0\n"
     ]
    },
    {
     "data": {
      "text/plain": [
       "- : int = 0\n"
      ]
     },
     "execution_count": 1,
     "metadata": {},
     "output_type": "execute_result"
    }
   ],
   "source": [
    "Sys.command \"minisat test.cnf test.out; cat test.out\""
   ]
  },
  {
   "cell_type": "markdown",
   "metadata": {},
   "source": [
    "`minisat` a donc trouvé que la formule est satisfiable avec comme assignation :\n",
    "$$v(x_1) = 1, ~v(x_2) = 0, ~v(x_3) = 0$$"
   ]
  },
  {
   "cell_type": "markdown",
   "metadata": {},
   "source": [
    "## Écriture et lecture dans un fichier en OCaml\n",
    "\n",
    "Il est pratique d'utiliser un langage de programmation pour générer un fichier .cnf correspondant à une grosse formule.  \n",
    "L'écriture et la lecture dans un fichier en OCaml se fait à travers un channel.  \n",
    "`open_out` donne un channel pour pouvoir écrire dans un fichier :"
   ]
  },
  {
   "cell_type": "code",
   "execution_count": 2,
   "metadata": {
    "vscode": {
     "languageId": "ocaml"
    }
   },
   "outputs": [
    {
     "data": {
      "text/plain": [
       "val f : out_channel = <abstr>\n"
      ]
     },
     "execution_count": 2,
     "metadata": {},
     "output_type": "execute_result"
    }
   ],
   "source": [
    "let f = open_out \"test\" (* ouvre un fichier test en écriture *)"
   ]
  },
  {
   "cell_type": "markdown",
   "metadata": {},
   "source": [
    "`Printf.fprintf` est une fonction ressemblant à la fonction `printf` en C et permettant d'écrire sur un channel (et notamment dans un fichier) :"
   ]
  },
  {
   "cell_type": "code",
   "execution_count": 3,
   "metadata": {
    "vscode": {
     "languageId": "python"
    }
   },
   "outputs": [
    {
     "data": {
      "text/plain": [
       "- : unit = ()\n"
      ]
     },
     "execution_count": 3,
     "metadata": {},
     "output_type": "execute_result"
    }
   ],
   "source": [
    "Printf.fprintf f \"blabla\\n\" (* écrit blabla dans le fichier, puis un saut de ligne *)"
   ]
  },
  {
   "cell_type": "markdown",
   "metadata": {},
   "source": [
    "Comme pour `printf`, on peut écrire le contenu de variables en utilisant `%d` (pour un entier), `%s` (pour une string)... :"
   ]
  },
  {
   "cell_type": "code",
   "execution_count": 4,
   "metadata": {
    "vscode": {
     "languageId": "ocaml"
    }
   },
   "outputs": [
    {
     "data": {
      "text/plain": [
       "- : unit = ()\n"
      ]
     },
     "execution_count": 4,
     "metadata": {},
     "output_type": "execute_result"
    }
   ],
   "source": [
    "let x = 2 in\n",
    "let text = \"abc\" in\n",
    "Printf.fprintf f \"%s %d\" text x; (* écrit \"abc 2\" dans le fichier *)"
   ]
  },
  {
   "cell_type": "markdown",
   "metadata": {},
   "source": [
    "Quand la modification du fichier est terminée, on peut flush (forcer l'écriture du texte) et fermer le channel :"
   ]
  },
  {
   "cell_type": "code",
   "execution_count": 5,
   "metadata": {
    "vscode": {
     "languageId": "ocaml"
    }
   },
   "outputs": [
    {
     "data": {
      "text/plain": [
       "- : unit = ()\n"
      ]
     },
     "execution_count": 5,
     "metadata": {},
     "output_type": "execute_result"
    }
   ],
   "source": [
    "flush f;\n",
    "close_out f"
   ]
  },
  {
   "cell_type": "markdown",
   "metadata": {
    "tags": [
     "exo"
    ]
   },
   "source": [
    "**Exercice** : Vérifier le contenu du fichier `test` sur Jupyter (en allant dans le même dossier que ce notebook)."
   ]
  },
  {
   "cell_type": "markdown",
   "metadata": {},
   "source": [
    "Pour avoir plus d'informations sur l'écriture et la lecture, regarder https://ocaml.org/docs/file-manipulation.  \n",
    "Vous aurez besoin de lire dans un fichier pour afficher proprement la solution des exercices suivants.  \n",
    "Voici une fonction pour afficher le contenu d'un fichier :"
   ]
  },
  {
   "cell_type": "code",
   "execution_count": 6,
   "metadata": {
    "vscode": {
     "languageId": "ocaml"
    }
   },
   "outputs": [
    {
     "data": {
      "text/plain": [
       "val print_file : string -> unit = <fun>\n"
      ]
     },
     "execution_count": 6,
     "metadata": {},
     "output_type": "execute_result"
    },
    {
     "name": "stdout",
     "output_type": "stream",
     "text": [
      "blablaabc 2\n"
     ]
    },
    {
     "data": {
      "text/plain": [
       "- : unit = ()\n"
      ]
     },
     "execution_count": 6,
     "metadata": {},
     "output_type": "execute_result"
    }
   ],
   "source": [
    "let print_file file =\n",
    "    let f = open_in file in\n",
    "    try while true do\n",
    "        print_endline (input_line f)\n",
    "        done\n",
    "    with _ -> ();;\n",
    "\n",
    "print_file \"test\""
   ]
  },
  {
   "cell_type": "markdown",
   "metadata": {},
   "source": [
    "## Problème des 8 dames\n",
    "\n",
    "On considère un échiquier $n\\times n$ et on souhaite y placer $n$ dames dessus sans qu'elles ne puissent se prendrent l'une l'autre (c'est-à-dire qu'il n'y a pas deux dames sur la même ligne, colonne ou diagonale).  "
   ]
  },
  {
   "cell_type": "markdown",
   "metadata": {
    "tags": [
     "exo"
    ]
   },
   "source": [
    "**Exercice** :  \n",
    "1. Écrire une fonction `dames n` pour écrire dans un fichier une formule SAT sous forme CNF pour résoudre ce problème. Pour cela, on pourra utiliser une variable booléenne pour chaque case et encoder les contraintes suivantes :\n",
    "- Pour chaque ligne, il y a au moins une dame.  \n",
    "- Pour tout $p = (i_1, j_1) \\neq q = (i_2, j_2)$, si $p$ et $q$ sont sur la même ligne, colonne ou diagonale, alors $p$ ou $q$ est faux.  \n",
    "2. Résoudre le problème avec minisat.  \n",
    "3. Lire dans le fichier solution et l'afficher graphiquement."
   ]
  },
  {
   "cell_type": "code",
   "execution_count": 59,
   "metadata": {
    "tags": [
     "cor"
    ],
    "vscode": {
     "languageId": "ocaml"
    }
   },
   "outputs": [
    {
     "data": {
      "text/plain": [
       "val dames : int -> unit = <fun>\n"
      ]
     },
     "execution_count": 59,
     "metadata": {},
     "output_type": "execute_result"
    },
    {
     "name": "stderr",
     "output_type": "stream",
     "text": [
      "WARNING! DIMACS header mismatch: wrong number of variables.\n",
      "WARNING! DIMACS header mismatch: wrong number of clauses.\n"
     ]
    },
    {
     "name": "stdout",
     "output_type": "stream",
     "text": [
      "WARNING: for repeatability, setting FPU to use double precision\n",
      "============================[ Problem Statistics ]=============================\n",
      "|                                                                             |\n",
      "|  Number of variables:          1600                                         |\n",
      "|  Number of clauses:          207000                                         |\n",
      "|  Parse time:                   0.02 s                                       |\n",
      "|  Simplification time:          0.07 s                                       |\n",
      "|                                                                             |\n",
      "============================[ Search Statistics ]==============================\n",
      "| Conflicts |          ORIGINAL         |          LEARNT          | Progress |\n",
      "|           |    Vars  Clauses Literals |    Limit  Clauses Lit/Cl |          |\n",
      "===============================================================================\n",
      "|       100 |    1600   103520   208560 |    37957      100    184 |  0.000 % |\n",
      "===============================================================================\n",
      "restarts              : 3\n",
      "conflicts             : 223            (2373 /sec)\n",
      "decisions             : 2010           (0.00 % random) (21389 /sec)\n",
      "propagations          : 13049          (138861 /sec)\n",
      "conflict literals     : 49491          (0.70 % deleted)\n",
      "Memory used           : 20.00 MB\n",
      "CPU time              : 0.093972 s\n",
      "\n",
      "SATISFIABLE\n"
     ]
    },
    {
     "data": {
      "text/plain": [
       "- : int = 10\n"
      ]
     },
     "execution_count": 59,
     "metadata": {},
     "output_type": "execute_result"
    }
   ],
   "source": [
    "let dames n =\n",
    "    let f = open_out \"dames.cnf\" in\n",
    "    let endl () = Printf.fprintf f \"0\\n\" in\n",
    "    Printf.fprintf f \"p cnf 0 0\\n\";\n",
    "    for i = 0 to n - 1 do\n",
    "        for j = 1 to n do Printf.fprintf f \"%d \" (i*n + j) done;\n",
    "        endl ();\n",
    "    done;\n",
    "    for i1 = 0 to n - 1 do\n",
    "        for j1 = 1 to n do\n",
    "            for i2 = 0 to n - 1 do\n",
    "                for j2 = 1 to n do\n",
    "                    if (i1, j1) <> (i2, j2) && \n",
    "                       (i1 = i2 || j1 = j2 || abs (i1 - i2) = abs (j1 - j2))\n",
    "                    then Printf.fprintf f \"-%d -%d 0\\n\" (i1*n + j1) (i2*n + j2);\n",
    "                done\n",
    "            done\n",
    "        done\n",
    "    done;\n",
    "    flush f;\n",
    "    close_out f;;\n",
    "\n",
    "dames 40;\n",
    "Sys.command \"minisat dames.cnf dames.out\";;\n",
    "(*print_file \"dames.out\"*)"
   ]
  },
  {
   "cell_type": "code",
   "execution_count": 60,
   "metadata": {
    "tags": [
     "cor"
    ],
    "vscode": {
     "languageId": "ocaml"
    }
   },
   "outputs": [
    {
     "name": "stdout",
     "output_type": "stream",
     "text": [
      "........................................................................||......\n",
      "............................||..................................................\n",
      "....||..........................................................................\n",
      "..............................................................||................\n",
      "..........................................||....................................\n",
      "........||......................................................................\n",
      "..................................................||............................\n",
      "............................................||..................................\n",
      "..............................||................................................\n",
      "..........................||....................................................\n",
      "........................................||......................................\n",
      "................................||..............................................\n",
      "..........||....................................................................\n",
      "......................................||........................................\n",
      "..............................................................................||\n",
      "......................||........................................................\n",
      "............................................................................||..\n",
      "......................................................................||........\n",
      "....................||..........................................................\n",
      "......................................................||........................\n",
      "||..............................................................................\n",
      "..........................................................................||....\n",
      "..................................................................||............\n",
      "..||............................................................................\n",
      "....................................||..........................................\n",
      "....................................................................||..........\n",
      "..............................................||................................\n",
      "..........................................................||....................\n",
      "........................||......................................................\n",
      "................||..............................................................\n",
      "..................................||............................................\n",
      "..............||................................................................\n",
      "..................||............................................................\n",
      "................................................||..............................\n",
      "................................................................||..............\n",
      "............................................................||..................\n",
      "......||........................................................................\n",
      "............||..................................................................\n",
      "....................................................||..........................\n",
      "........................................................||......................\n",
      "\n"
     ]
    },
    {
     "data": {
      "text/plain": [
       "- : unit = ()\n"
      ]
     },
     "execution_count": 60,
     "metadata": {},
     "output_type": "execute_result"
    }
   ],
   "source": [
    "let get_vars file =\n",
    "    let f = open_in file in\n",
    "    let _ = input_line f in\n",
    "    input_line f \n",
    "    |> String.split_on_char ' '\n",
    "    |> List.map int_of_string \n",
    "    |> List.filter ((<) 0) in\n",
    "let print_sol n vars =\n",
    "    for i = 0 to n - 1 do\n",
    "        for j = 1 to n do\n",
    "            if List.mem (i*n + j) vars then Format.printf \"||\"\n",
    "            else Format.printf \"..\"\n",
    "        done;\n",
    "        Format.printf \"\\n\"\n",
    "    done;\n",
    "    Format.printf \"@.\" in\n",
    "    \n",
    "get_vars \"dames.out\" |> print_sol 40"
   ]
  },
  {
   "cell_type": "markdown",
   "metadata": {},
   "source": [
    "## 3-coloration"
   ]
  },
  {
   "cell_type": "markdown",
   "metadata": {
    "tags": [
     "exo"
    ]
   },
   "source": [
    "**Exercice** : Faire de même pour résoudre le problème de $3$-coloration d'un graphe (transformer un graphe - sous forme de liste d'adjacence, par exemple - en formule SAT qui soit satisfiable si et seulement si le graphe est $3$-coloriable. Vérifier sur des exemples."
   ]
  }
 ],
 "metadata": {
  "kernelspec": {
   "display_name": "OCaml default",
   "language": "OCaml",
   "name": "ocaml-jupyter"
  },
  "language_info": {
   "codemirror_mode": "text/x-ocaml",
   "file_extension": ".ml",
   "mimetype": "text/x-ocaml",
   "name": "OCaml",
   "nbconverter_exporter": null,
   "pygments_lexer": "OCaml",
   "version": "4.08.1"
  }
 },
 "nbformat": 4,
 "nbformat_minor": 4
}
