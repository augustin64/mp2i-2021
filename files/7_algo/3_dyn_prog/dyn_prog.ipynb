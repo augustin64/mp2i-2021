{
 "cells": [
  {
   "cell_type": "code",
   "execution_count": 4,
   "id": "4f00590d-b4e0-4f14-b4d8-06edee111509",
   "metadata": {
    "kernel": "C++17",
    "tags": []
   },
   "outputs": [],
   "source": [
    "int max(int a, int b) {\n",
    "    return a < b ? b : a;\n",
    "}"
   ]
  },
  {
   "cell_type": "code",
   "execution_count": 5,
   "id": "2bd2a55c-b2f3-4ae4-8896-0210ba67a0ad",
   "metadata": {
    "kernel": "C++17",
    "tags": []
   },
   "outputs": [
    {
     "data": {
      "text/plain": [
       "18"
      ]
     },
     "execution_count": 5,
     "metadata": {},
     "output_type": "execute_result"
    }
   ],
   "source": [
    "#include <stdio.h>\n",
    "#include <stdlib.h>\n",
    "\n",
    "int knapsack(int c, int n, int *w, int *v) {\n",
    "    int *dp = (int*)malloc((c + 1)*sizeof(int));\n",
    "    for (int i = 0; i <= c; i++)\n",
    "        dp[i] = 0;\n",
    "\n",
    "    for (int j = 0; j <= n; j++) {\n",
    "        int *dp_ = (int*)malloc((c + 1)*sizeof(int));\n",
    "        memcpy(dp_, dp, (c + 1)*sizeof(int));\n",
    "        for (int i = 0; i <= c; i++)\n",
    "            if (w[j] <= i)\n",
    "                dp[i] = max(dp[i], v[j] + dp_[i - w[j]]);\n",
    "    }\n",
    "    return dp[c];\n",
    "}\n",
    "\n",
    "int weights[] = {2, 3, 6, 5, 8, 2, 2};\n",
    "int values[] = {1, 7, 10, 10, 13, 1, 1};\n",
    "knapsack(10, 7, weights, values)"
   ]
  },
  {
   "cell_type": "code",
   "execution_count": 2,
   "id": "128f3416-e1e0-46fb-bc3f-816bbaf61bc6",
   "metadata": {
    "kernel": "OCaml default",
    "tags": []
   },
   "outputs": [
    {
     "data": {
      "text/plain": [
       "val fibo : Int.t -> int = <fun>\n"
      ]
     },
     "execution_count": 2,
     "metadata": {},
     "output_type": "execute_result"
    },
    {
     "data": {
      "text/plain": [
       "- : int = 55\n"
      ]
     },
     "execution_count": 2,
     "metadata": {},
     "output_type": "execute_result"
    }
   ],
   "source": [
    "let fibo n =\n",
    "  let module M = Map.Make(Int) in\n",
    "  let rec aux i d =\n",
    "    if i <= 2 then 1, d\n",
    "    else match M.find_opt i d with\n",
    "      | Some v -> v, d\n",
    "      | None ->\n",
    "          let v1, d1 = aux (i - 1) d in\n",
    "          let v2, d2 = aux (i - 2) d1 in\n",
    "          v1 + v2, M.add i (v1 + v2) d2\n",
    "  in aux n M.empty |> fst;;\n",
    "  \n",
    "fibo 10"
   ]
  },
  {
   "cell_type": "code",
   "execution_count": 3,
   "id": "0ee7550c-e019-457c-82a5-d0ae6ce98791",
   "metadata": {
    "kernel": "OCaml default",
    "tags": []
   },
   "outputs": [
    {
     "data": {
      "text/plain": [
       "module T :\n",
       "  sig type t = int * int val compare : int * 'a -> int * 'b -> int end\n"
      ]
     },
     "execution_count": 3,
     "metadata": {},
     "output_type": "execute_result"
    },
    {
     "data": {
      "text/plain": [
       "val knapsack : int -> int array -> int array -> int = <fun>\n"
      ]
     },
     "execution_count": 3,
     "metadata": {},
     "output_type": "execute_result"
    },
    {
     "data": {
      "text/plain": [
       "- : int = 18\n"
      ]
     },
     "execution_count": 3,
     "metadata": {},
     "output_type": "execute_result"
    }
   ],
   "source": [
    "module T = struct\n",
    "    type t = int*int\n",
    "    let compare p q = fst p - fst q\n",
    "end\n",
    "\n",
    "let knapsack c v w =\n",
    "    let module M = Map.Make(T) in\n",
    "    let rec aux i j m = match M.find_opt (i, j) m with\n",
    "        | Some r -> r, m\n",
    "        | None ->\n",
    "            if j = 0 then 0, m\n",
    "            else let r1, m1 = aux i (j - 1) m in\n",
    "            if w.(j) > i then r1, m1\n",
    "            else \n",
    "                let r2, m2 = aux (i - w.(j)) (j - 1) m1 in\n",
    "                let r2 = r2 + v.(j) in\n",
    "                max r1 r2, M.add (i, j) r2 m2\n",
    "    in fst (aux c (Array.length v - 1) M.empty);;\n",
    "\n",
    "let w = [|2; 3; 6; 5; 8; 2; 2|] in\n",
    "let v = [|1; 7; 10; 10; 13; 1; 1|] in\n",
    "knapsack 10 v w"
   ]
  },
  {
   "cell_type": "code",
   "execution_count": null,
   "id": "60099944-64c8-421e-965d-6680c1a1163b",
   "metadata": {
    "kernel": "SoS"
   },
   "outputs": [],
   "source": []
  }
 ],
 "metadata": {
  "kernelspec": {
   "display_name": "SoS",
   "language": "sos",
   "name": "sos"
  },
  "language_info": {
   "codemirror_mode": "sos",
   "file_extension": ".sos",
   "mimetype": "text/x-sos",
   "name": "sos",
   "nbconvert_exporter": "sos_notebook.converter.SoS_Exporter",
   "pygments_lexer": "sos"
  },
  "sos": {
   "kernels": [
    [
     "C++17",
     "xcpp17",
     "C++17",
     "",
     "text/x-c++src"
    ],
    [
     "OCaml default",
     "ocaml-jupyter",
     "OCaml",
     "",
     "text/x-ocaml"
    ],
    [
     "SoS",
     "sos",
     "",
     "",
     "sos"
    ]
   ],
   "version": "0.22.3"
  }
 },
 "nbformat": 4,
 "nbformat_minor": 5
}
