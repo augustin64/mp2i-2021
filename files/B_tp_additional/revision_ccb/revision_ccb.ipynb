{
 "cells": [
  {
   "cell_type": "markdown",
   "metadata": {},
   "source": [
    "# <center><a href='https://notebook.basthon.fr/?from=https://raw.githubusercontent.com/mp2i-info/mp2i-info.github.io/main/files/B_tp_additional/revision_ccb/revision_ccb.ipynb'>Révision des algorithmes au programme <img src=https://framagit.org/uploads/-/system/project/avatar/55763/basthon_shadow.png width=100></a></center>\n",
    "\n",
    "L'objectif de ce TP est de réécrire les algorithmes et structures de données les plus importants du programme. Si possible, vous pouvez écrire $2$ versions de chaque algorithme : une en C et une en OCaml. Un bon exercice est de réécrire en C les programmes qu'on a écrit en OCaml (et inversement). Revoir brièvement le cours si besoin."
   ]
  },
  {
   "cell_type": "markdown",
   "metadata": {},
   "source": [
    "## Diviser pour régner"
   ]
  },
  {
   "cell_type": "markdown",
   "metadata": {
    "tags": [
     "exo"
    ]
   },
   "source": [
    "**Exercice** : Écrire une fonction `dicho : int array -> int -> false` en OCaml/`int dicho(int* t, int e)` en C, pour déterminer si `e` appartient à au tableau `t` trié (méthode par dichotomie)."
   ]
  },
  {
   "cell_type": "markdown",
   "metadata": {
    "tags": [
     "exo"
    ]
   },
   "source": [
    "**Exercice** : Le tri rapide d'une liste l consiste à :  \n",
    "- Choisir un élément (appelé pivot) de `l`. Ici on prendra le premier élément `p` de `l` comme pivot.  \n",
    "- Séparer les éléments de `l` autres que `p` en deux listes : la liste `l1` des éléments strictement inférieurs à `p` et la liste `l2` des éléments supérieurs à `p`.  \n",
    "- Trier récursivement `l1` et `l2` pour obtenir des listes triées `l1` et `l2`.  \n",
    "- Renvoyer la concaténation de `l1`, `p` et `l2`.  \n",
    "Écrire une fonction `quicksort : int list -> int list` en OCaml qui trie une liste avec le tri rapide."
   ]
  },
  {
   "cell_type": "markdown",
   "metadata": {},
   "source": [
    "## Structures linéaires"
   ]
  },
  {
   "cell_type": "markdown",
   "metadata": {
    "tags": [
     "exo"
    ]
   },
   "source": [
    "**Exercice** : Définir un type de liste chaînée en C, puis définir des fonctions d'insertion et de suppression."
   ]
  },
  {
   "cell_type": "markdown",
   "metadata": {
    "tags": [
     "exo"
    ]
   },
   "source": [
    "**Exercice** : Implémenter une file (ayant des opérations `add` et `pop`) en utilisant deux listes, en C et OCaml."
   ]
  },
  {
   "cell_type": "markdown",
   "metadata": {
    "tags": [
     "exo"
    ]
   },
   "source": [
    "**Exercice** : Définir un dictionnaire (éventuellement sous forme de module) implémenté par table de hachage, en OCaml/C. On rappelle qu'un dictionnaire possède des opérations `add` et `get`, pour ajouter des associations clé-valeur."
   ]
  },
  {
   "cell_type": "markdown",
   "metadata": {},
   "source": [
    "## Arbres"
   ]
  },
  {
   "cell_type": "markdown",
   "metadata": {
    "tags": [
     "exo"
    ]
   },
   "source": [
    "**Exercice** : Écrire en OCaml le parcours infixe d'un arbre binaire et en déduire un algorithme de tri de liste."
   ]
  },
  {
   "cell_type": "markdown",
   "metadata": {
    "tags": [
     "exo"
    ]
   },
   "source": [
    "**Exercice** : Écrire la fonction `del : 'a -> 'a arb -> 'a arb` de suppression d'un élément dans un arbre binaire de recherche (défini par `type 'a arb = E | N of 'a * 'a arb 'a arb`)."
   ]
  },
  {
   "cell_type": "markdown",
   "metadata": {},
   "source": [
    "## Graphes"
   ]
  },
  {
   "cell_type": "markdown",
   "metadata": {
    "tags": [
     "exo"
    ]
   },
   "source": [
    "**Exercice** : Réécrire le parcours en largeur/profondeur d'un graphe en OCaml."
   ]
  },
  {
   "cell_type": "markdown",
   "metadata": {
    "tags": [
     "exo"
    ]
   },
   "source": [
    "**Exercice** : Réécrire l'algorithme de Bellman-Ford en OCaml sous forme d'une fonction `bellman : float array array -> int -> float array` qui s'applique sur un graphe représenté par matrice d'adjacence pondérée (contrairement à la version du cours avec une liste d'adjacence). On rappellera l'équation de récurrence utilisée pour cette méthode de programmation dynamique."
   ]
  },
  {
   "cell_type": "markdown",
   "metadata": {
    "tags": [
     "exo"
    ]
   },
   "source": [
    "**Exercice** : Réécrire l'algorithme de Floyd-Warshall en C."
   ]
  },
  {
   "cell_type": "markdown",
   "metadata": {
    "tags": [
     "exo"
    ]
   },
   "source": [
    "**Exercice** : Rappeler les différences entre Dijkstra, Bellman-Ford et Floyd-Warshall (complexité? conditions d'utilisations?)."
   ]
  },
  {
   "cell_type": "markdown",
   "metadata": {},
   "source": [
    "Si vous avez terminé, vous pouvez reprendre le TP sur les modules OCaml."
   ]
  }
 ],
 "metadata": {
  "interpreter": {
   "hash": "31f2aee4e71d21fbe5cf8b01ff0e069b9275f58929596ceb00d14d90e3e16cd6"
  },
  "kernelspec": {
   "display_name": "Python 3 (ipykernel)",
   "language": "python",
   "name": "python3"
  },
  "language_info": {
   "codemirror_mode": {
    "name": "ipython",
    "version": 3
   },
   "file_extension": ".py",
   "mimetype": "text/x-python",
   "name": "python",
   "nbconvert_exporter": "python",
   "pygments_lexer": "ipython3",
   "version": "3.9.6"
  }
 },
 "nbformat": 4,
 "nbformat_minor": 4
}
