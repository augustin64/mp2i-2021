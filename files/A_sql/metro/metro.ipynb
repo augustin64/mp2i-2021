{
 "cells": [
  {
   "cell_type": "markdown",
   "metadata": {},
   "source": [
    "# <center><a href='https://notebook.basthon.fr/sql/?from=https://raw.githubusercontent.com/mp2i-info/mp2i-info.github.io/main/A_sql/metro/metro.ipynb&module=https://raw.githubusercontent.com/mp2i-info/mp2i-info.github.io/main/A_sql/metro/metro.sql'>Exemple : Métro de Paris <img src=https://framagit.org/uploads/-/system/project/avatar/55763/basthon_shadow.png width=100></a></center>\n",
    "\n",
    "[Les données ont été obtenues sur https://data.ratp.fr](https://data.ratp.fr/explore/dataset/trafic-annuel-entrant-par-station-du-reseau-ferre-2021/information/)"
   ]
  },
  {
   "cell_type": "code",
   "execution_count": 2,
   "metadata": {
    "vscode": {
     "languageId": "sql"
    }
   },
   "outputs": [
    {
     "data": {
      "text/html": [
       "<table class=\"dataframe\" border=\"1\"><thead><tr style=\"text-align: right;\"><th>index</th><th>Rang</th><th>Réseau</th><th>Station</th><th>Trafic</th><th>Correspondance_1</th><th>Correspondance_2</th><th>Correspondance_3</th><th>Correspondance_4</th><th>Correspondance_5</th><th>Ville</th><th>Arrondissement pour Paris</th></tr></thead><tbody><tr><td>0</td><td>7</td><td>Métro</td><td>REPUBLIQUE</td><td>11079708</td><td>3</td><td>5</td><td>8</td><td>9</td><td>11</td><td>Paris</td><td>11</td></tr><tr><td>1</td><td>9</td><td>Métro</td><td>LA DEFENSE</td><td>9256802</td><td>1</td><td>null</td><td>null</td><td>null</td><td>null</td><td>Puteaux</td><td>null</td></tr><tr><td>2</td><td>13</td><td>Métro</td><td>HOTEL DE VILLE</td><td>7251729</td><td>1</td><td>11</td><td>null</td><td>null</td><td>null</td><td>Paris</td><td>4</td></tr><tr><td>3</td><td>30</td><td>Métro</td><td>VILLEJUIF-LOUIS ARAGON</td><td>5218070</td><td>7</td><td>null</td><td>null</td><td>null</td><td>null</td><td>Villejuif</td><td>null</td></tr><tr><td>4</td><td>40</td><td>Métro</td><td>PALAIS-ROYAL</td><td>4822599</td><td>1</td><td>7</td><td>null</td><td>null</td><td>null</td><td>Paris</td><td>1</td></tr><tr><td>5</td><td>54</td><td>Métro</td><td>BASILIQUE DE SAINT-DENIS</td><td>3991395</td><td>13</td><td>null</td><td>null</td><td>null</td><td>null</td><td>Saint Denis</td><td>null</td></tr><tr><td>6</td><td>76</td><td>Métro</td><td>PLAISANCE</td><td>3521753</td><td>13</td><td>null</td><td>null</td><td>null</td><td>null</td><td>Paris</td><td>14</td></tr><tr><td>7</td><td>80</td><td>Métro</td><td>ODEON</td><td>3478491</td><td>4</td><td>10</td><td>null</td><td>null</td><td>null</td><td>Paris</td><td>6</td></tr><tr><td>8</td><td>86</td><td>Métro</td><td>CONCORDE</td><td>3401219</td><td>1</td><td>8</td><td>12</td><td>null</td><td>null</td><td>Paris</td><td>8</td></tr><tr><td>9</td><td>92</td><td>Métro</td><td>CRETEIL-PREFECTURE</td><td>3330602</td><td>8</td><td>null</td><td>null</td><td>null</td><td>null</td><td>Créteil</td><td>null</td></tr><tr><td>10</td><td>94</td><td>Métro</td><td>LAUMIERE</td><td>3258568</td><td>5</td><td>null</td><td>null</td><td>null</td><td>null</td><td>Paris</td><td>19</td></tr><tr><td>11</td><td>96</td><td>Métro</td><td>OBERKAMPF</td><td>3205110</td><td>5</td><td>9</td><td>null</td><td>null</td><td>null</td><td>Paris</td><td>11</td></tr><tr><td>12</td><td>99</td><td>Métro</td><td>FORT D'AUBERVILLIERS</td><td>3103518</td><td>7</td><td>null</td><td>null</td><td>null</td><td>null</td><td>Aubervilliers</td><td>null</td></tr><tr><td>13</td><td>100</td><td>Métro</td><td>ALESIA</td><td>3098136</td><td>4</td><td>null</td><td>null</td><td>null</td><td>null</td><td>Paris</td><td>14</td></tr><tr><td>14</td><td>101</td><td>Métro</td><td>PORTE DE BAGNOLET</td><td>3085790</td><td>3</td><td>null</td><td>null</td><td>null</td><td>null</td><td>Paris</td><td>20</td></tr><tr><td>15</td><td>105</td><td>Métro</td><td>PASTEUR</td><td>3026286</td><td>6</td><td>12</td><td>null</td><td>null</td><td>null</td><td>Paris</td><td>9</td></tr><tr><td>16</td><td>113</td><td>Métro</td><td>MAIRIE DES LILAS</td><td>2894622</td><td>11</td><td>null</td><td>null</td><td>null</td><td>null</td><td>Les Lilas</td><td>null</td></tr><tr><td>17</td><td>116</td><td>Métro</td><td>OURCQ</td><td>2862337</td><td>5</td><td>null</td><td>null</td><td>null</td><td>null</td><td>Paris</td><td>19</td></tr><tr><td>18</td><td>121</td><td>Métro</td><td>ECOLE MILITAIRE</td><td>2805976</td><td>8</td><td>null</td><td>null</td><td>null</td><td>null</td><td>Paris</td><td>7</td></tr><tr><td>19</td><td>123</td><td>Métro</td><td>VICTOR HUGO</td><td>2801041</td><td>2</td><td>null</td><td>null</td><td>null</td><td>null</td><td>Paris</td><td>16</td></tr><tr><td>20</td><td>126</td><td>Métro</td><td>PORTE DE LA VILLETTE</td><td>2706288</td><td>7</td><td>null</td><td>null</td><td>null</td><td>null</td><td>Paris</td><td>19</td></tr><tr><td>21</td><td>128</td><td>Métro</td><td>BOULOGNE-JEAN JAURES</td><td>2700354</td><td>10</td><td>null</td><td>null</td><td>null</td><td>null</td><td>Boulogne Billancourt</td><td>null</td></tr><tr><td>22</td><td>131</td><td>Métro</td><td>LEDRU-ROLLIN</td><td>2570283</td><td>8</td><td>null</td><td>null</td><td>null</td><td>null</td><td>Paris</td><td>12</td></tr><tr><td>23</td><td>137</td><td>Métro</td><td>ALEXANDRE DUMAS</td><td>2476608</td><td>2</td><td>null</td><td>null</td><td>null</td><td>null</td><td>Paris</td><td>11</td></tr><tr><td>24</td><td>141</td><td>Métro</td><td>SAINT-PLACIDE</td><td>2391205</td><td>4</td><td>null</td><td>null</td><td>null</td><td>null</td><td>Paris</td><td>6</td></tr><tr><td>25</td><td>145</td><td>Métro</td><td>LOUISE MICHEL</td><td>2319185</td><td>3</td><td>null</td><td>null</td><td>null</td><td>null</td><td>Levallois-Perret</td><td>null</td></tr><tr><td>26</td><td>150</td><td>Métro</td><td>CENSIER-DAUBENTON</td><td>2291843</td><td>7</td><td>null</td><td>null</td><td>null</td><td>null</td><td>Paris</td><td>6</td></tr><tr><td>27</td><td>155</td><td>Métro</td><td>MALAKOFF-PLATEAU DE VANVES</td><td>2242320</td><td>13</td><td>null</td><td>null</td><td>null</td><td>null</td><td>Malakoff</td><td>null</td></tr><tr><td>28</td><td>158</td><td>Métro</td><td>GUY MOQUET</td><td>2205313</td><td>13</td><td>null</td><td>null</td><td>null</td><td>null</td><td>Paris</td><td>17</td></tr><tr><td>29</td><td>161</td><td>Métro</td><td>BOULOGNE-PONT DE SAINT-CLOUD</td><td>2182738</td><td>10</td><td>null</td><td>null</td><td>null</td><td>null</td><td>Boulogne Billancourt</td><td>null</td></tr><tr><td>30</td><td>172</td><td>Métro</td><td>ARGENTINE</td><td>2079212</td><td>1</td><td>null</td><td>null</td><td>null</td><td>null</td><td>Paris</td><td>17</td></tr><tr><td>31</td><td>173</td><td>Métro</td><td>SIMPLON</td><td>2056501</td><td>4</td><td>null</td><td>null</td><td>null</td><td>null</td><td>Paris</td><td>18</td></tr><tr><td>32</td><td>185</td><td>Métro</td><td>SAINT-AUGUSTIN</td><td>1934106</td><td>9</td><td>null</td><td>null</td><td>null</td><td>null</td><td>Paris</td><td>8</td></tr><tr><td>33</td><td>186</td><td>Métro</td><td>PORTE DOREE</td><td>1918182</td><td>8</td><td>null</td><td>null</td><td>null</td><td>null</td><td>Paris</td><td>12</td></tr><tr><td>34</td><td>187</td><td>Métro</td><td>CHAMPS-ELYSEES-CLEMENCEAU</td><td>1909005</td><td>1</td><td>13</td><td>null</td><td>null</td><td>null</td><td>Paris</td><td>8</td></tr><tr><td>35</td><td>189</td><td>Métro</td><td>LES AGNETTES</td><td>1890356</td><td>13</td><td>null</td><td>null</td><td>null</td><td>null</td><td>Asnières sur Seine</td><td>null</td></tr><tr><td>36</td><td>194</td><td>Métro</td><td>TUILERIES</td><td>1859552</td><td>1</td><td>null</td><td>null</td><td>null</td><td>null</td><td>Paris</td><td>1</td></tr><tr><td>37</td><td>198</td><td>Métro</td><td>LA FOURCHE</td><td>1829271</td><td>13</td><td>null</td><td>null</td><td>null</td><td>null</td><td>Paris</td><td>8</td></tr><tr><td>38</td><td>233</td><td>Métro</td><td>ABBESSES</td><td>1513884</td><td>12</td><td>null</td><td>null</td><td>null</td><td>null</td><td>Paris</td><td>18</td></tr><tr><td>39</td><td>241</td><td>Métro</td><td>MALESHERBES</td><td>1427143</td><td>3</td><td>null</td><td>null</td><td>null</td><td>null</td><td>Paris</td><td>17</td></tr><tr><td>40</td><td>257</td><td>Métro</td><td>CLUNY LA SORBONNE</td><td>1261818</td><td>10</td><td>null</td><td>null</td><td>null</td><td>null</td><td>Paris</td><td>5</td></tr><tr><td>41</td><td>259</td><td>Métro</td><td>RASPAIL</td><td>1238357</td><td>4</td><td>6</td><td>null</td><td>null</td><td>null</td><td>Paris</td><td>14</td></tr><tr><td>42</td><td>260</td><td>Métro</td><td>BOISSIERE</td><td>1224181</td><td>6</td><td>null</td><td>null</td><td>null</td><td>null</td><td>Paris</td><td>16</td></tr><tr><td>43</td><td>263</td><td>Métro</td><td>MABILLON</td><td>1195051</td><td>10</td><td>null</td><td>null</td><td>null</td><td>null</td><td>Paris</td><td>6</td></tr><tr><td>44</td><td>267</td><td>Métro</td><td>SAINT-SEBASTIEN-FROISSART</td><td>1151192</td><td>8</td><td>null</td><td>null</td><td>null</td><td>null</td><td>Paris</td><td>3</td></tr><tr><td>45</td><td>278</td><td>Métro</td><td>SEGUR</td><td>1100151</td><td>10</td><td>null</td><td>null</td><td>null</td><td>null</td><td>Paris</td><td>15</td></tr><tr><td>46</td><td>280</td><td>Métro</td><td>TRINITE-D'ESTIENNE D'ORVES</td><td>1051982</td><td>12</td><td>null</td><td>null</td><td>null</td><td>null</td><td>Paris</td><td>9</td></tr><tr><td>47</td><td>284</td><td>Métro</td><td>CITE</td><td>1004657</td><td>4</td><td>null</td><td>null</td><td>null</td><td>null</td><td>Paris</td><td>4</td></tr><tr><td>48</td><td>290</td><td>Métro</td><td>VARENNE</td><td>782697</td><td>13</td><td>null</td><td>null</td><td>null</td><td>null</td><td>Paris</td><td>7</td></tr><tr><td>49</td><td>291</td><td>Métro</td><td>SAINT-GEORGES</td><td>751555</td><td>12</td><td>null</td><td>null</td><td>null</td><td>null</td><td>Paris</td><td>9</td></tr><tr><td>⋮ </td><td>⋮ </td><td>⋮ </td><td>⋮ </td><td>⋮ </td><td>⋮ </td><td>⋮ </td><td>⋮ </td><td>⋮ </td><td>⋮ </td><td>⋮ </td><td>⋮ </td></tr><tr><td>321</td><td>138</td><td>Métro</td><td>RUE DE LA POMPE</td><td>2449458</td><td>9</td><td>null</td><td>null</td><td>null</td><td>null</td><td>Paris</td><td>16</td></tr><tr><td>322</td><td>139</td><td>Métro</td><td>MARX DORMOY</td><td>2425928</td><td>12</td><td>null</td><td>null</td><td>null</td><td>null</td><td>Paris</td><td>18</td></tr><tr><td>323</td><td>142</td><td>Métro</td><td>SAINT-GERMAIN DES PRES</td><td>2378860</td><td>4</td><td>null</td><td>null</td><td>null</td><td>null</td><td>Paris</td><td>6</td></tr><tr><td>324</td><td>144</td><td>Métro</td><td>BOBIGNY-PANTIN-RAYMOND QUENEAU</td><td>2335465</td><td>5</td><td>null</td><td>null</td><td>null</td><td>null</td><td>Pantin</td><td>null</td></tr><tr><td>325</td><td>152</td><td>Métro</td><td>BOUCICAUT</td><td>2288055</td><td>8</td><td>null</td><td>null</td><td>null</td><td>null</td><td>Paris</td><td>15</td></tr><tr><td>326</td><td>166</td><td>Métro</td><td>COURONNES</td><td>2151515</td><td>2</td><td>null</td><td>null</td><td>null</td><td>null</td><td>Paris</td><td>11</td></tr><tr><td>327</td><td>168</td><td>Métro</td><td>CRETEIL-POINTE DU LAC</td><td>2114438</td><td>8</td><td>null</td><td>null</td><td>null</td><td>null</td><td>Créteil</td><td>null</td></tr><tr><td>328</td><td>177</td><td>Métro</td><td>PORTE DAUPHINE</td><td>2021656</td><td>2</td><td>null</td><td>null</td><td>null</td><td>null</td><td>Paris</td><td>16</td></tr><tr><td>329</td><td>178</td><td>Métro</td><td>SAINT-MAUR</td><td>2004445</td><td>3</td><td>null</td><td>null</td><td>null</td><td>null</td><td>Paris</td><td>11</td></tr><tr><td>330</td><td>183</td><td>Métro</td><td>FRONT POPULAIRE</td><td>1948542</td><td>12</td><td>null</td><td>null</td><td>null</td><td>null</td><td>Saint Denis / Aubervilliers</td><td>null</td></tr><tr><td>331</td><td>193</td><td>Métro</td><td>PORTE DE LA CHAPELLE</td><td>1866281</td><td>12</td><td>null</td><td>null</td><td>null</td><td>null</td><td>Paris</td><td>18</td></tr><tr><td>332</td><td>196</td><td>Métro</td><td>PLACE MONGE</td><td>1837996</td><td>7</td><td>null</td><td>null</td><td>null</td><td>null</td><td>Paris</td><td>6</td></tr><tr><td>333</td><td>197</td><td>Métro</td><td>RUE DES BOULETS</td><td>1832442</td><td>9</td><td>null</td><td>null</td><td>null</td><td>null</td><td>Paris</td><td>11</td></tr><tr><td>334</td><td>201</td><td>Métro</td><td>JACQUES BONSERGENT</td><td>1743989</td><td>5</td><td>null</td><td>null</td><td>null</td><td>null</td><td>Paris</td><td>10</td></tr><tr><td>335</td><td>203</td><td>Métro</td><td>VOLONTAIRES</td><td>1734848</td><td>12</td><td>null</td><td>null</td><td>null</td><td>null</td><td>Paris</td><td>15</td></tr><tr><td>336</td><td>205</td><td>Métro</td><td>BOURSE</td><td>1725043</td><td>3</td><td>null</td><td>null</td><td>null</td><td>null</td><td>Paris</td><td>2</td></tr><tr><td>337</td><td>209</td><td>Métro</td><td>CORENTIN CARIOU</td><td>1697076</td><td>7</td><td>null</td><td>null</td><td>null</td><td>null</td><td>Paris</td><td>19</td></tr><tr><td>338</td><td>210</td><td>Métro</td><td>LOURMEL</td><td>1696432</td><td>8</td><td>null</td><td>null</td><td>null</td><td>null</td><td>Paris</td><td>15</td></tr><tr><td>339</td><td>211</td><td>Métro</td><td>ROME</td><td>1696331</td><td>2</td><td>null</td><td>null</td><td>null</td><td>null</td><td>Paris</td><td>17</td></tr><tr><td>340</td><td>212</td><td>Métro</td><td>LE PELETIER</td><td>1677832</td><td>7</td><td>null</td><td>null</td><td>null</td><td>null</td><td>Paris</td><td>9</td></tr><tr><td>341</td><td>216</td><td>Métro</td><td>GAITE</td><td>1644148</td><td>13</td><td>null</td><td>null</td><td>null</td><td>null</td><td>Paris</td><td>14</td></tr><tr><td>342</td><td>217</td><td>Métro</td><td>TELEGRAPHE</td><td>1636898</td><td>11</td><td>null</td><td>null</td><td>null</td><td>null</td><td>Paris</td><td>20</td></tr><tr><td>343</td><td>225</td><td>Métro</td><td>SAINT-SULPICE</td><td>1571987</td><td>4</td><td>null</td><td>null</td><td>null</td><td>null</td><td>Paris</td><td>6</td></tr><tr><td>344</td><td>227</td><td>Métro</td><td>LOUIS BLANC</td><td>1548029</td><td>7</td><td>7bis</td><td>null</td><td>null</td><td>null</td><td>Paris</td><td>10</td></tr><tr><td>345</td><td>229</td><td>Métro</td><td>BROCHANT</td><td>1543298</td><td>13</td><td>null</td><td>null</td><td>null</td><td>null</td><td>Paris</td><td>17</td></tr><tr><td>346</td><td>235</td><td>Métro</td><td>WAGRAM</td><td>1508617</td><td>3</td><td>null</td><td>null</td><td>null</td><td>null</td><td>Paris</td><td>17</td></tr><tr><td>347</td><td>244</td><td>Métro</td><td>JASMIN</td><td>1418238</td><td>9</td><td>null</td><td>null</td><td>null</td><td>null</td><td>Paris</td><td>16</td></tr><tr><td>348</td><td>255</td><td>Métro</td><td>SOLFERINO</td><td>1269143</td><td>12</td><td>null</td><td>null</td><td>null</td><td>null</td><td>Paris</td><td>7</td></tr><tr><td>349</td><td>261</td><td>Métro</td><td>SAINT-FRANCOIS-XAVIER</td><td>1213378</td><td>13</td><td>null</td><td>null</td><td>null</td><td>null</td><td>Paris</td><td>7</td></tr><tr><td>350</td><td>265</td><td>Métro</td><td>QUATRE-SEPTEMBRE</td><td>1165004</td><td>3</td><td>null</td><td>null</td><td>null</td><td>null</td><td>Paris</td><td>2</td></tr><tr><td>351</td><td>269</td><td>Métro</td><td>LIEGE</td><td>1143956</td><td>13</td><td>null</td><td>null</td><td>null</td><td>null</td><td>Paris</td><td>8</td></tr><tr><td>352</td><td>274</td><td>Métro</td><td>MONTGALLET</td><td>1108395</td><td>8</td><td>null</td><td>null</td><td>null</td><td>null</td><td>Paris</td><td>12</td></tr><tr><td>353</td><td>281</td><td>Métro</td><td>AVENUE EMILE ZOLA</td><td>1041233</td><td>10</td><td>null</td><td>null</td><td>null</td><td>null</td><td>Paris</td><td>15</td></tr><tr><td>354</td><td>285</td><td>Métro</td><td>MIRABEAU</td><td>1001302</td><td>10</td><td>null</td><td>null</td><td>null</td><td>null</td><td>Paris</td><td>16</td></tr><tr><td>355</td><td>295</td><td>Métro</td><td>FALGUIERE</td><td>650291</td><td>12</td><td>null</td><td>null</td><td>null</td><td>null</td><td>Paris</td><td>15</td></tr><tr><td>356</td><td>297</td><td>Métro</td><td>CHARDON-LAGACHE</td><td>482053</td><td>10</td><td>null</td><td>null</td><td>null</td><td>null</td><td>Paris</td><td>16</td></tr><tr><td>357</td><td>6</td><td>RER</td><td>VAL DE FONTENAY</td><td>10096433</td><td>A</td><td>null</td><td>null</td><td>null</td><td>null</td><td>Fontenay-sous-Bois</td><td>null</td></tr><tr><td>358</td><td>9</td><td>RER</td><td>VINCENNES</td><td>5523693</td><td>A</td><td>null</td><td>null</td><td>null</td><td>null</td><td>Vincennes</td><td>null</td></tr><tr><td>359</td><td>19</td><td>RER</td><td>VAL D'EUROPE</td><td>3576573</td><td>A</td><td>null</td><td>null</td><td>null</td><td>null</td><td>Serris</td><td>null</td></tr><tr><td>360</td><td>21</td><td>RER</td><td>SAINT-GERMAIN-EN-LAYE</td><td>3337962</td><td>A</td><td>null</td><td>null</td><td>null</td><td>null</td><td>Saint-Germain-en-Laye</td><td>null</td></tr><tr><td>361</td><td>28</td><td>RER</td><td>CHAMPIGNY</td><td>2833616</td><td>A</td><td>null</td><td>null</td><td>null</td><td>null</td><td>Saint-Maur des Fossés</td><td>null</td></tr><tr><td>362</td><td>32</td><td>RER</td><td>LAPLACE</td><td>2414948</td><td>B</td><td>null</td><td>null</td><td>null</td><td>null</td><td>Arcueil</td><td>null</td></tr><tr><td>363</td><td>37</td><td>RER</td><td>NOISIEL</td><td>2273213</td><td>A</td><td>null</td><td>null</td><td>null</td><td>null</td><td>Noisiel</td><td>null</td></tr><tr><td>364</td><td>41</td><td>RER</td><td>BRY-SUR-MARNE</td><td>1925748</td><td>A</td><td>null</td><td>null</td><td>null</td><td>null</td><td>Bry-sur-Marne</td><td>null</td></tr><tr><td>365</td><td>42</td><td>RER</td><td>ORSAY-VILLE</td><td>1776712</td><td>B</td><td>null</td><td>null</td><td>null</td><td>null</td><td>Orsay</td><td>null</td></tr><tr><td>366</td><td>48</td><td>RER</td><td>LA VARENNE-CHENNEVIERES</td><td>1552324</td><td>A</td><td>null</td><td>null</td><td>null</td><td>null</td><td>saint-Maur des Fossés</td><td>null</td></tr><tr><td>367</td><td>49</td><td>RER</td><td>GENTILLY</td><td>1521999</td><td>B</td><td>null</td><td>null</td><td>null</td><td>null</td><td>Gentilly</td><td>null</td></tr><tr><td>368</td><td>50</td><td>RER</td><td>LE VESINET-LE PECQ</td><td>1436318</td><td>A</td><td>null</td><td>null</td><td>null</td><td>null</td><td>Le Vésinet</td><td>null</td></tr><tr><td>369</td><td>62</td><td>RER</td><td>GIF-SUR-YVETTE</td><td>442255</td><td>B</td><td>null</td><td>null</td><td>null</td><td>null</td><td>Gif sur Yvette</td><td>null</td></tr><tr><td>370</td><td>64</td><td>RER</td><td>MASSY-VERRIERES</td><td>394292</td><td>B</td><td>null</td><td>null</td><td>null</td><td>null</td><td>Massy</td><td>null</td></tr></tbody></table>"
      ],
      "text/plain": [
       "index\tRang\tRéseau\tStation\tTrafic\tCorrespondance_1\tCorrespondance_2\tCorrespondance_3\tCorrespondance_4\tCorrespondance_5\tVille\tArrondissement pour Paris\n",
       "0\t7\tMétro\tREPUBLIQUE\t11079708\t3\t5\t8\t9\t11\tParis\t11\n",
       "1\t9\tMétro\tLA DEFENSE\t9256802\t1\t\t\t\t\tPuteaux\t\n",
       "2\t13\tMétro\tHOTEL DE VILLE\t7251729\t1\t11\t\t\t\tParis\t4\n",
       "3\t30\tMétro\tVILLEJUIF-LOUIS ARAGON\t5218070\t7\t\t\t\t\tVillejuif\t\n",
       "4\t40\tMétro\tPALAIS-ROYAL\t4822599\t1\t7\t\t\t\tParis\t1\n",
       "5\t54\tMétro\tBASILIQUE DE SAINT-DENIS\t3991395\t13\t\t\t\t\tSaint Denis\t\n",
       "6\t76\tMétro\tPLAISANCE\t3521753\t13\t\t\t\t\tParis\t14\n",
       "7\t80\tMétro\tODEON\t3478491\t4\t10\t\t\t\tParis\t6\n",
       "8\t86\tMétro\tCONCORDE\t3401219\t1\t8\t12\t\t\tParis\t8\n",
       "9\t92\tMétro\tCRETEIL-PREFECTURE\t3330602\t8\t\t\t\t\tCréteil\t\n",
       "10\t94\tMétro\tLAUMIERE\t3258568\t5\t\t\t\t\tParis\t19\n",
       "11\t96\tMétro\tOBERKAMPF\t3205110\t5\t9\t\t\t\tParis\t11\n",
       "12\t99\tMétro\tFORT D'AUBERVILLIERS\t3103518\t7\t\t\t\t\tAubervilliers\t\n",
       "13\t100\tMétro\tALESIA\t3098136\t4\t\t\t\t\tParis\t14\n",
       "14\t101\tMétro\tPORTE DE BAGNOLET\t3085790\t3\t\t\t\t\tParis\t20\n",
       "15\t105\tMétro\tPASTEUR\t3026286\t6\t12\t\t\t\tParis\t9\n",
       "16\t113\tMétro\tMAIRIE DES LILAS\t2894622\t11\t\t\t\t\tLes Lilas\t\n",
       "17\t116\tMétro\tOURCQ\t2862337\t5\t\t\t\t\tParis\t19\n",
       "18\t121\tMétro\tECOLE MILITAIRE\t2805976\t8\t\t\t\t\tParis\t7\n",
       "19\t123\tMétro\tVICTOR HUGO\t2801041\t2\t\t\t\t\tParis\t16\n",
       "20\t126\tMétro\tPORTE DE LA VILLETTE\t2706288\t7\t\t\t\t\tParis\t19\n",
       "21\t128\tMétro\tBOULOGNE-JEAN JAURES\t2700354\t10\t\t\t\t\tBoulogne Billancourt\t\n",
       "22\t131\tMétro\tLEDRU-ROLLIN\t2570283\t8\t\t\t\t\tParis\t12\n",
       "23\t137\tMétro\tALEXANDRE DUMAS\t2476608\t2\t\t\t\t\tParis\t11\n",
       "24\t141\tMétro\tSAINT-PLACIDE\t2391205\t4\t\t\t\t\tParis\t6\n",
       "25\t145\tMétro\tLOUISE MICHEL\t2319185\t3\t\t\t\t\tLevallois-Perret\t\n",
       "26\t150\tMétro\tCENSIER-DAUBENTON\t2291843\t7\t\t\t\t\tParis\t6\n",
       "27\t155\tMétro\tMALAKOFF-PLATEAU DE VANVES\t2242320\t13\t\t\t\t\tMalakoff\t\n",
       "28\t158\tMétro\tGUY MOQUET\t2205313\t13\t\t\t\t\tParis\t17\n",
       "29\t161\tMétro\tBOULOGNE-PONT DE SAINT-CLOUD\t2182738\t10\t\t\t\t\tBoulogne Billancourt\t\n",
       "30\t172\tMétro\tARGENTINE\t2079212\t1\t\t\t\t\tParis\t17\n",
       "31\t173\tMétro\tSIMPLON\t2056501\t4\t\t\t\t\tParis\t18\n",
       "32\t185\tMétro\tSAINT-AUGUSTIN\t1934106\t9\t\t\t\t\tParis\t8\n",
       "33\t186\tMétro\tPORTE DOREE\t1918182\t8\t\t\t\t\tParis\t12\n",
       "34\t187\tMétro\tCHAMPS-ELYSEES-CLEMENCEAU\t1909005\t1\t13\t\t\t\tParis\t8\n",
       "35\t189\tMétro\tLES AGNETTES\t1890356\t13\t\t\t\t\tAsnières sur Seine\t\n",
       "36\t194\tMétro\tTUILERIES\t1859552\t1\t\t\t\t\tParis\t1\n",
       "37\t198\tMétro\tLA FOURCHE\t1829271\t13\t\t\t\t\tParis\t8\n",
       "38\t233\tMétro\tABBESSES\t1513884\t12\t\t\t\t\tParis\t18\n",
       "39\t241\tMétro\tMALESHERBES\t1427143\t3\t\t\t\t\tParis\t17\n",
       "40\t257\tMétro\tCLUNY LA SORBONNE\t1261818\t10\t\t\t\t\tParis\t5\n",
       "41\t259\tMétro\tRASPAIL\t1238357\t4\t6\t\t\t\tParis\t14\n",
       "42\t260\tMétro\tBOISSIERE\t1224181\t6\t\t\t\t\tParis\t16\n",
       "43\t263\tMétro\tMABILLON\t1195051\t10\t\t\t\t\tParis\t6\n",
       "44\t267\tMétro\tSAINT-SEBASTIEN-FROISSART\t1151192\t8\t\t\t\t\tParis\t3\n",
       "45\t278\tMétro\tSEGUR\t1100151\t10\t\t\t\t\tParis\t15\n",
       "46\t280\tMétro\tTRINITE-D'ESTIENNE D'ORVES\t1051982\t12\t\t\t\t\tParis\t9\n",
       "47\t284\tMétro\tCITE\t1004657\t4\t\t\t\t\tParis\t4\n",
       "48\t290\tMétro\tVARENNE\t782697\t13\t\t\t\t\tParis\t7\n",
       "49\t291\tMétro\tSAINT-GEORGES\t751555\t12\t\t\t\t\tParis\t9\n",
       "⋮ \t⋮ \t⋮ \t⋮ \t⋮ \t⋮ \t⋮ \t⋮ \t⋮ \t⋮ \t⋮ \t⋮ \n",
       "321\t138\tMétro\tRUE DE LA POMPE\t2449458\t9\t\t\t\t\tParis\t16\n",
       "322\t139\tMétro\tMARX DORMOY\t2425928\t12\t\t\t\t\tParis\t18\n",
       "323\t142\tMétro\tSAINT-GERMAIN DES PRES\t2378860\t4\t\t\t\t\tParis\t6\n",
       "324\t144\tMétro\tBOBIGNY-PANTIN-RAYMOND QUENEAU\t2335465\t5\t\t\t\t\tPantin\t\n",
       "325\t152\tMétro\tBOUCICAUT\t2288055\t8\t\t\t\t\tParis\t15\n",
       "326\t166\tMétro\tCOURONNES\t2151515\t2\t\t\t\t\tParis\t11\n",
       "327\t168\tMétro\tCRETEIL-POINTE DU LAC\t2114438\t8\t\t\t\t\tCréteil\t\n",
       "328\t177\tMétro\tPORTE DAUPHINE\t2021656\t2\t\t\t\t\tParis\t16\n",
       "329\t178\tMétro\tSAINT-MAUR\t2004445\t3\t\t\t\t\tParis\t11\n",
       "330\t183\tMétro\tFRONT POPULAIRE\t1948542\t12\t\t\t\t\tSaint Denis / Aubervilliers\t\n",
       "331\t193\tMétro\tPORTE DE LA CHAPELLE\t1866281\t12\t\t\t\t\tParis\t18\n",
       "332\t196\tMétro\tPLACE MONGE\t1837996\t7\t\t\t\t\tParis\t6\n",
       "333\t197\tMétro\tRUE DES BOULETS\t1832442\t9\t\t\t\t\tParis\t11\n",
       "334\t201\tMétro\tJACQUES BONSERGENT\t1743989\t5\t\t\t\t\tParis\t10\n",
       "335\t203\tMétro\tVOLONTAIRES\t1734848\t12\t\t\t\t\tParis\t15\n",
       "336\t205\tMétro\tBOURSE\t1725043\t3\t\t\t\t\tParis\t2\n",
       "337\t209\tMétro\tCORENTIN CARIOU\t1697076\t7\t\t\t\t\tParis\t19\n",
       "338\t210\tMétro\tLOURMEL\t1696432\t8\t\t\t\t\tParis\t15\n",
       "339\t211\tMétro\tROME\t1696331\t2\t\t\t\t\tParis\t17\n",
       "340\t212\tMétro\tLE PELETIER\t1677832\t7\t\t\t\t\tParis\t9\n",
       "341\t216\tMétro\tGAITE\t1644148\t13\t\t\t\t\tParis\t14\n",
       "342\t217\tMétro\tTELEGRAPHE\t1636898\t11\t\t\t\t\tParis\t20\n",
       "343\t225\tMétro\tSAINT-SULPICE\t1571987\t4\t\t\t\t\tParis\t6\n",
       "344\t227\tMétro\tLOUIS BLANC\t1548029\t7\t7bis\t\t\t\tParis\t10\n",
       "345\t229\tMétro\tBROCHANT\t1543298\t13\t\t\t\t\tParis\t17\n",
       "346\t235\tMétro\tWAGRAM\t1508617\t3\t\t\t\t\tParis\t17\n",
       "347\t244\tMétro\tJASMIN\t1418238\t9\t\t\t\t\tParis\t16\n",
       "348\t255\tMétro\tSOLFERINO\t1269143\t12\t\t\t\t\tParis\t7\n",
       "349\t261\tMétro\tSAINT-FRANCOIS-XAVIER\t1213378\t13\t\t\t\t\tParis\t7\n",
       "350\t265\tMétro\tQUATRE-SEPTEMBRE\t1165004\t3\t\t\t\t\tParis\t2\n",
       "351\t269\tMétro\tLIEGE\t1143956\t13\t\t\t\t\tParis\t8\n",
       "352\t274\tMétro\tMONTGALLET\t1108395\t8\t\t\t\t\tParis\t12\n",
       "353\t281\tMétro\tAVENUE EMILE ZOLA\t1041233\t10\t\t\t\t\tParis\t15\n",
       "354\t285\tMétro\tMIRABEAU\t1001302\t10\t\t\t\t\tParis\t16\n",
       "355\t295\tMétro\tFALGUIERE\t650291\t12\t\t\t\t\tParis\t15\n",
       "356\t297\tMétro\tCHARDON-LAGACHE\t482053\t10\t\t\t\t\tParis\t16\n",
       "357\t6\tRER\tVAL DE FONTENAY\t10096433\tA\t\t\t\t\tFontenay-sous-Bois\t\n",
       "358\t9\tRER\tVINCENNES\t5523693\tA\t\t\t\t\tVincennes\t\n",
       "359\t19\tRER\tVAL D'EUROPE\t3576573\tA\t\t\t\t\tSerris\t\n",
       "360\t21\tRER\tSAINT-GERMAIN-EN-LAYE\t3337962\tA\t\t\t\t\tSaint-Germain-en-Laye\t\n",
       "361\t28\tRER\tCHAMPIGNY\t2833616\tA\t\t\t\t\tSaint-Maur des Fossés\t\n",
       "362\t32\tRER\tLAPLACE\t2414948\tB\t\t\t\t\tArcueil\t\n",
       "363\t37\tRER\tNOISIEL\t2273213\tA\t\t\t\t\tNoisiel\t\n",
       "364\t41\tRER\tBRY-SUR-MARNE\t1925748\tA\t\t\t\t\tBry-sur-Marne\t\n",
       "365\t42\tRER\tORSAY-VILLE\t1776712\tB\t\t\t\t\tOrsay\t\n",
       "366\t48\tRER\tLA VARENNE-CHENNEVIERES\t1552324\tA\t\t\t\t\tsaint-Maur des Fossés\t\n",
       "367\t49\tRER\tGENTILLY\t1521999\tB\t\t\t\t\tGentilly\t\n",
       "368\t50\tRER\tLE VESINET-LE PECQ\t1436318\tA\t\t\t\t\tLe Vésinet\t\n",
       "369\t62\tRER\tGIF-SUR-YVETTE\t442255\tB\t\t\t\t\tGif sur Yvette\t\n",
       "370\t64\tRER\tMASSY-VERRIERES\t394292\tB\t\t\t\t\tMassy\t"
      ]
     },
     "execution_count": 2,
     "metadata": {},
     "output_type": "execute_result"
    }
   ],
   "source": [
    "SELECT * FROM metro;"
   ]
  }
 ],
 "metadata": {
  "interpreter": {
   "hash": "31f2aee4e71d21fbe5cf8b01ff0e069b9275f58929596ceb00d14d90e3e16cd6"
  },
  "kernelspec": {
   "display_name": "Python 3.7.3 64-bit",
   "language": "python",
   "name": "python3"
  },
  "language_info": {
   "name": "python",
   "version": "3.7.3"
  }
 },
 "nbformat": 4,
 "nbformat_minor": 2
}
