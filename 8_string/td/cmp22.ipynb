{
 "cells": [
  {
   "cell_type": "markdown",
   "metadata": {},
   "source": [
    "# <center><a href='https://notebook.basthon.fr/?from=https://raw.githubusercontent.com/mp2i-fsm/mp2i-2021/main/8_string/td/cmp22.ipynb'>Mines Pont 2022 <img src=https://framagit.org/uploads/-/system/project/avatar/55763/basthon_shadow.png width=100></a></center>\n",
    "\n",
    "[Sujet](https://www.concoursminesponts.fr/resources/Info-Option-MP-2022.pdf)"
   ]
  },
  {
   "cell_type": "markdown",
   "metadata": {},
   "source": [
    "## Une mesure des erreurs de saisie\n",
    "\n",
    "### Une fonction mystère"
   ]
  },
  {
   "cell_type": "code",
   "execution_count": 2,
   "metadata": {},
   "outputs": [
    {
     "data": {
      "text/plain": [
       "val mystere : int list -> int = <fun>"
      ]
     },
     "execution_count": 2,
     "metadata": {},
     "output_type": "execute_result"
    }
   ],
   "source": [
    "let rec mystere z = match z with\n",
    "(* La fonction mystere calcule ... *)\n",
    "| [] -> max_int\n",
    "| [a] -> a\n",
    "| a::b::y -> mystere ((if a <=b then a else b)::y);;"
   ]
  },
  {
   "cell_type": "code",
   "execution_count": 3,
   "metadata": {
    "scrolled": true
   },
   "outputs": [
    {
     "data": {
      "text/plain": [
       "val mini : int list -> int = <fun>"
      ]
     },
     "execution_count": 3,
     "metadata": {},
     "output_type": "execute_result"
    }
   ],
   "source": [
    "let rec mini = function\n",
    "    | [] -> max_int\n",
    "    | e::q -> min e (mini q)"
   ]
  },
  {
   "cell_type": "code",
   "execution_count": 4,
   "metadata": {},
   "outputs": [
    {
     "data": {
      "text/plain": [
       "type mot = char list"
      ]
     },
     "execution_count": 4,
     "metadata": {},
     "output_type": "execute_result"
    }
   ],
   "source": [
    "type mot = char list;;"
   ]
  },
  {
   "cell_type": "code",
   "execution_count": 7,
   "metadata": {},
   "outputs": [
    {
     "data": {
      "text/plain": [
       "val array_of_mot : char list -> char array = <fun>"
      ]
     },
     "execution_count": 7,
     "metadata": {},
     "output_type": "execute_result"
    }
   ],
   "source": [
    "let array_of_mot w =\n",
    "    let t = Array.make (List.length w) ' ' in\n",
    "    let rec aux l n = match l with\n",
    "        | [] -> ()\n",
    "        | e::q -> t.(n) <- e; aux q (n + 1) in\n",
    "    aux w 0;\n",
    "    t;;"
   ]
  },
  {
   "cell_type": "code",
   "execution_count": 8,
   "metadata": {},
   "outputs": [
    {
     "data": {
      "text/plain": [
       "- : char array = [|'t'; 'e'; 's'; 't'|]"
      ]
     },
     "execution_count": 8,
     "metadata": {},
     "output_type": "execute_result"
    }
   ],
   "source": [
    "array_of_mot ['t'; 'e'; 's'; 't']"
   ]
  },
  {
   "cell_type": "markdown",
   "metadata": {},
   "source": [
    "### Distance d'édition de Levenshtein"
   ]
  },
  {
   "cell_type": "code",
   "execution_count": 35,
   "metadata": {},
   "outputs": [
    {
     "name": "stderr",
     "output_type": "stream",
     "text": [
      "Line 12, characters 4-25:\n",
      "Warning 10: this expression should have type unit.\n"
     ]
    },
    {
     "data": {
      "text/plain": [
       "val distance : char list -> char list -> int array array = <fun>"
      ]
     },
     "execution_count": 35,
     "metadata": {},
     "output_type": "execute_result"
    }
   ],
   "source": [
    "let distance b c =\n",
    "    let b, c = array_of_mot b, array_of_mot c in\n",
    "    let nb, nc = Array.length b, Array.length c in\n",
    "    let d = Array.make_matrix nb nc (-1) in\n",
    "    let rec aux i j = (* renvoie d(i, j) *)\n",
    "        if i = 0 then d.(i).(j) <- j\n",
    "        else if j = 0 then d.(i).(j) <- i\n",
    "        else if d.(i).(j) <> -1 then ()\n",
    "        else if b.(i) = c.(j) then d.(i).(j) <- aux (i - 1) (j - 1)\n",
    "        else d.(i).(j) <- 1 + (min (aux (i - 1) j) (min (aux (i - 1) (j - 1)) (aux i (j - 1))));\n",
    "        d.(i).(j) in        \n",
    "    aux (nb - 1) (nc - 1);\n",
    "    d"
   ]
  },
  {
   "cell_type": "code",
   "execution_count": 36,
   "metadata": {},
   "outputs": [
    {
     "data": {
      "text/plain": [
       "- : int array array =\n",
       "[|[|0; 1; 2; 3; 4; 5; -1|]; [|1; 0; 1; 2; 3; 4; -1|];\n",
       "  [|2; 1; 0; 1; 2; 3; -1|]; [|3; 2; 1; 1; 1; 2; -1|];\n",
       "  [|4; 3; 2; 2; 2; 2; -1|]; [|5; 4; 3; 3; 3; 3; 2|];\n",
       "  [|-1; -1; -1; -1; 3; 4; 3|]|]"
      ]
     },
     "execution_count": 36,
     "metadata": {},
     "output_type": "execute_result"
    }
   ],
   "source": [
    "distance ['c'; 'o'; 'r'; 'e'; 'k'; 't'; 'e'] ['c'; 'o'; 'r'; 'r'; 'e'; 'c'; 't']"
   ]
  },
  {
   "cell_type": "code",
   "execution_count": null,
   "metadata": {},
   "outputs": [],
   "source": [
    "distance ['n';'u';'i';'t'] ['b'; 'r';'u';'i';'t']"
   ]
  }
 ],
 "metadata": {
  "kernelspec": {
   "display_name": "OCaml",
   "language": "ocaml",
   "name": "ocaml"
  }
 },
 "nbformat": 4,
 "nbformat_minor": 2
}
