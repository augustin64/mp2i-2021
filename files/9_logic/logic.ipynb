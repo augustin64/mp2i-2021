{
 "cells": [
  {
   "cell_type": "markdown",
   "metadata": {},
   "source": [
    "# <center><a href='https://notebook.basthon.fr/?from=https://raw.githubusercontent.com/mp2i-info/mp2i-info.github.io/main/files/9_logic/logic.ipynb'>Code : Formules logiques <img src=https://framagit.org/uploads/-/system/project/avatar/55763/basthon_shadow.png width=100></a></center>\n",
    "\n",
    "## Syntaxe des formules logiques "
   ]
  },
  {
   "cell_type": "code",
   "execution_count": 16,
   "metadata": {
    "vscode": {
     "languageId": "ocaml"
    }
   },
   "outputs": [
    {
     "data": {
      "text/plain": [
       "type 'a formula =\n",
       "    T\n",
       "  | F\n",
       "  | Var of 'a\n",
       "  | Not of 'a formula\n",
       "  | And of 'a formula * 'a formula\n",
       "  | Or of 'a formula * 'a formula\n"
      ]
     },
     "execution_count": 16,
     "metadata": {},
     "output_type": "execute_result"
    }
   ],
   "source": [
    "type 'a formula = \n",
    "    | T | F (* true, false *)\n",
    "    | Var of 'a (* variable *)\n",
    "    | Not of 'a formula\n",
    "    | And of 'a formula * 'a formula\n",
    "    | Or of 'a formula * 'a formula"
   ]
  },
  {
   "cell_type": "markdown",
   "metadata": {},
   "source": [
    "## Substitution"
   ]
  },
  {
   "cell_type": "code",
   "execution_count": 17,
   "metadata": {
    "vscode": {
     "languageId": "ocaml"
    }
   },
   "outputs": [
    {
     "data": {
      "text/plain": [
       "val sub : 'a formula -> 'a -> 'a formula -> 'a formula = <fun>\n"
      ]
     },
     "execution_count": 17,
     "metadata": {},
     "output_type": "execute_result"
    }
   ],
   "source": [
    "let rec sub f1 x f2 = (* f1[x <- f2] *)\n",
    "    match f1 with\n",
    "    | T | F -> f1\n",
    "    | Var y -> if y = x then f2 else f1\n",
    "    | Not f3 -> Not (sub f3 x f2)\n",
    "    | And(f3, f4) -> And(sub f3 x f2, sub f4 x f2)\n",
    "    | Or(f3, f4) -> Or(sub f3 x f2, sub f4 x f2)"
   ]
  },
  {
   "cell_type": "markdown",
   "metadata": {},
   "source": [
    "## Quantificateur"
   ]
  },
  {
   "cell_type": "code",
   "execution_count": 18,
   "metadata": {
    "vscode": {
     "languageId": "ocaml"
    }
   },
   "outputs": [
    {
     "data": {
      "text/plain": [
       "val forall : 'a -> 'a formula -> 'a formula = <fun>\n"
      ]
     },
     "execution_count": 18,
     "metadata": {},
     "output_type": "execute_result"
    },
    {
     "data": {
      "text/plain": [
       "val exists : 'a -> 'a formula -> 'a formula = <fun>\n"
      ]
     },
     "execution_count": 18,
     "metadata": {},
     "output_type": "execute_result"
    }
   ],
   "source": [
    "let forall x f = And(sub f x T, sub f x F)\n",
    "let exists x f = Or(sub f x T, sub f x F)"
   ]
  },
  {
   "cell_type": "markdown",
   "metadata": {},
   "source": [
    "On pourrait aussi ajouter des quantificateurs à la définition des formules (remarque : on pourrait aussi ajouter l'implication) :"
   ]
  },
  {
   "cell_type": "code",
   "execution_count": 19,
   "metadata": {
    "vscode": {
     "languageId": "ocaml"
    }
   },
   "outputs": [],
   "source": [
    "(* type 'a formula_ext = \n",
    "    | T | F (* true, false *)\n",
    "    | Var of 'a (* variable *)\n",
    "    | Not of 'a formula\n",
    "    | And of 'a formula * 'a formula\n",
    "    | Or of 'a formula * 'a formula\n",
    "    | Forall of 'a * 'a formula\n",
    "    | Exists of 'a * 'a formula *)"
   ]
  },
  {
   "cell_type": "markdown",
   "metadata": {},
   "source": [
    "## Sémantique"
   ]
  },
  {
   "cell_type": "code",
   "execution_count": 21,
   "metadata": {
    "vscode": {
     "languageId": "ocaml"
    }
   },
   "outputs": [
    {
     "data": {
      "text/plain": [
       "val eval : ('a -> bool) -> 'a formula -> bool = <fun>\n"
      ]
     },
     "execution_count": 21,
     "metadata": {},
     "output_type": "execute_result"
    }
   ],
   "source": [
    "let rec eval v = function\n",
    "    | T -> true\n",
    "    | F -> false\n",
    "    | Var x -> v x\n",
    "    | Not p -> not (eval v p)\n",
    "    | And(p, q) -> eval v p && eval v q\n",
    "    | Or(p, q) -> eval v p || eval v q"
   ]
  },
  {
   "cell_type": "markdown",
   "metadata": {},
   "source": [
    "## Résolution de SAT par force brute\n",
    "\n",
    "On code les valuations dans les entiers (en passant par la représentation en base 2) pour pouvoir plus facilement énumérer toutes les valuations :"
   ]
  },
  {
   "cell_type": "code",
   "execution_count": 40,
   "metadata": {
    "vscode": {
     "languageId": "ocaml"
    }
   },
   "outputs": [
    {
     "data": {
      "text/plain": [
       "exception Sat of (int -> bool)\n"
      ]
     },
     "execution_count": 40,
     "metadata": {},
     "output_type": "execute_result"
    },
    {
     "data": {
      "text/plain": [
       "val sat : int formula -> int -> (int -> bool) option = <fun>\n"
      ]
     },
     "execution_count": 40,
     "metadata": {},
     "output_type": "execute_result"
    }
   ],
   "source": [
    "exception Sat of (int -> bool);;\n",
    "\n",
    "let sat f n = (* n : nombre de variables. On suppose que les variables sont des entiers entre 0 et n - 1 *)\n",
    "    try for i = 0 to Int.shift_left 1 n - 1 do\n",
    "        let v = fun k -> Int.logand i (Int.shift_left 1 k) != 0 in\n",
    "        if eval v f then raise (Sat v)\n",
    "    done;\n",
    "    None\n",
    "    with Sat v -> Some v"
   ]
  },
  {
   "cell_type": "code",
   "execution_count": 41,
   "metadata": {
    "vscode": {
     "languageId": "ocaml"
    }
   },
   "outputs": [
    {
     "data": {
      "text/plain": [
       "- : (int -> bool) option = None\n"
      ]
     },
     "execution_count": 41,
     "metadata": {},
     "output_type": "execute_result"
    },
    {
     "name": "stdout",
     "output_type": "stream",
     "text": [
      "false false\n"
     ]
    },
    {
     "data": {
      "text/plain": [
       "- : unit = ()\n"
      ]
     },
     "execution_count": 41,
     "metadata": {},
     "output_type": "execute_result"
    }
   ],
   "source": [
    "sat (And(Var 1, And(Or(Var 0, Not (Var 0)), Not (Var 1)))) 2;;\n",
    "match sat (And(Or(Var 0, Not(Var 1)), And(Or(Not(Var 0), Var 2), Or(Var 1, Not(Var 2))))) 2 with\n",
    "    | Some v -> Format.printf \"%b %b@.\" (v 0) (v 1)\n",
    "    | None -> failwith \"error\""
   ]
  },
  {
   "cell_type": "markdown",
   "metadata": {},
   "source": [
    "## Algorithme de Quine"
   ]
  },
  {
   "cell_type": "code",
   "execution_count": 14,
   "metadata": {
    "vscode": {
     "languageId": "ocaml"
    }
   },
   "outputs": [
    {
     "data": {
      "text/plain": [
       "type litteral = V of int | NV of int\n"
      ]
     },
     "execution_count": 14,
     "metadata": {},
     "output_type": "execute_result"
    },
    {
     "data": {
      "text/plain": [
       "type cnf = litteral list list\n"
      ]
     },
     "execution_count": 14,
     "metadata": {},
     "output_type": "execute_result"
    }
   ],
   "source": [
    "type litteral = V of int | NV of int;;\n",
    "type cnf = litteral list list;;"
   ]
  },
  {
   "cell_type": "code",
   "execution_count": 15,
   "metadata": {
    "vscode": {
     "languageId": "ocaml"
    }
   },
   "outputs": [
    {
     "data": {
      "text/plain": [
       "val var : int -> bool -> litteral = <fun>\n"
      ]
     },
     "execution_count": 15,
     "metadata": {},
     "output_type": "execute_result"
    },
    {
     "data": {
      "text/plain": [
       "val subst : litteral list list -> int -> bool -> litteral list list option =\n",
       "  <fun>\n"
      ]
     },
     "execution_count": 15,
     "metadata": {},
     "output_type": "execute_result"
    },
    {
     "data": {
      "text/plain": [
       "val get_var : litteral list list -> int = <fun>\n"
      ]
     },
     "execution_count": 15,
     "metadata": {},
     "output_type": "execute_result"
    }
   ],
   "source": [
    "let var x b = if b then V x else NV x;;\n",
    "\n",
    "let rec subst f x b = match f with\n",
    "  | [] -> Some []\n",
    "  | c::q -> let c = List.filter ((<>) (var x (not b))) c in\n",
    "    match subst q x b with\n",
    "      | None -> None\n",
    "      | Some s -> \n",
    "        if c = [] then None\n",
    "        else if List.mem (var x b) c then Some s\n",
    "        else Some (c::s);;\n",
    "\n",
    "let get_var = function\n",
    "  | ((V x)::_)::_ | ((NV x)::_)::_ -> x\n",
    "  | _ -> failwith \"get_var\""
   ]
  },
  {
   "cell_type": "code",
   "execution_count": 16,
   "metadata": {
    "vscode": {
     "languageId": "ocaml"
    }
   },
   "outputs": [
    {
     "data": {
      "text/plain": [
       "val quine : litteral list list -> bool = <fun>\n"
      ]
     },
     "execution_count": 16,
     "metadata": {},
     "output_type": "execute_result"
    }
   ],
   "source": [
    "let rec quine f =\n",
    "  if f = [] then true\n",
    "  else \n",
    "    let x = get_var f in\n",
    "    List.exists (fun v -> match subst f x v with\n",
    "      | Some s -> quine s\n",
    "      | None -> false) [false; true];"
   ]
  },
  {
   "cell_type": "code",
   "execution_count": 21,
   "metadata": {
    "vscode": {
     "languageId": "ocaml"
    }
   },
   "outputs": [
    {
     "data": {
      "text/plain": [
       "- : bool = true\n"
      ]
     },
     "execution_count": 21,
     "metadata": {},
     "output_type": "execute_result"
    },
    {
     "data": {
      "text/plain": [
       "- : bool = true\n"
      ]
     },
     "execution_count": 21,
     "metadata": {},
     "output_type": "execute_result"
    },
    {
     "data": {
      "text/plain": [
       "- : bool = true\n"
      ]
     },
     "execution_count": 21,
     "metadata": {},
     "output_type": "execute_result"
    }
   ],
   "source": [
    "quine [[V 0; NV 1]; [NV 0; V 1]; [NV 0; NV 1]; [V 0; V 2]];;\n",
    "quine [[V 0; V 1; V 2]; [V 0; NV 1]; [V 1; NV 2]];;\n",
    "not (quine [[V 0; V 1; V 2]; [V 0; NV 1]; [V 1; NV 2]; [V 2; NV 0]; [NV 0; NV 1; NV 2]]);;"
   ]
  }
 ],
 "metadata": {
  "kernelspec": {
   "display_name": "OCaml default",
   "language": "OCaml",
   "name": "ocaml-jupyter"
  },
  "language_info": {
   "codemirror_mode": "text/x-ocaml",
   "file_extension": ".ml",
   "mimetype": "text/x-ocaml",
   "name": "OCaml",
   "nbconverter_exporter": null,
   "pygments_lexer": "OCaml",
   "version": "4.08.1"
  }
 },
 "nbformat": 4,
 "nbformat_minor": 4
}
