{
 "cells": [
  {
   "cell_type": "markdown",
   "id": "53e0f92c",
   "metadata": {},
   "source": [
    "# <center><a href='https://notebook.basthon.fr/?from=https://raw.githubusercontent.com/mp2i-info/mp2i-info.github.io/main/files/5_arbre/5_heap/heap.ipynb'>Tests sur les tas binaires max <img src=https://framagit.org/uploads/-/system/project/avatar/55763/basthon_shadow.png width=100></a></center>"
   ]
  },
  {
   "cell_type": "code",
   "execution_count": 19,
   "id": "c6abd9d1-ff2e-49fb-b68d-f246cba751e9",
   "metadata": {},
   "outputs": [
    {
     "name": "stdout",
     "output_type": "stream",
     "text": [
      "type 'a tree = E | N of 'a * 'a tree * 'a tree\n",
      "val tree_to_tex : ?file_out:string -> int tree -> unit = <fun>\n",
      "type 'a heap = { a : 'a array; mutable n : int; }\n",
      "val draw_heap : ?file_out:string -> int heap -> unit = <fun>\n"
     ]
    }
   ],
   "source": [
    "#use \"/home/jovyan/mp2i-info.github.io/5_arbre/draw/draw_heap.ml\""
   ]
  },
  {
   "cell_type": "code",
   "execution_count": 20,
   "id": "1b6003b5-2b77-4638-a9df-d9f45a23ec50",
   "metadata": {},
   "outputs": [
    {
     "data": {
      "text/plain": [
       "val pred : int -> int = <fun>\n"
      ]
     },
     "execution_count": 20,
     "metadata": {},
     "output_type": "execute_result"
    },
    {
     "data": {
      "text/plain": [
       "val swap : 'a heap -> int -> int -> unit = <fun>\n"
      ]
     },
     "execution_count": 20,
     "metadata": {},
     "output_type": "execute_result"
    }
   ],
   "source": [
    "let pred i = (i - 1)/2;;\n",
    "let swap heap i j =\n",
    "    let tmp = heap.a.(i) in\n",
    "    heap.a.(i) <- heap.a.(j);\n",
    "    heap.a.(j) <- tmp;;"
   ]
  },
  {
   "cell_type": "code",
   "execution_count": 21,
   "id": "e0f3ec9c-5b68-4a15-9fe4-a63e98b26310",
   "metadata": {},
   "outputs": [
    {
     "data": {
      "text/plain": [
       "val up : 'a heap -> int -> unit = <fun>\n"
      ]
     },
     "execution_count": 21,
     "metadata": {},
     "output_type": "execute_result"
    }
   ],
   "source": [
    "let rec up heap i =\n",
    "    let p = pred i in\n",
    "    if i <> 0 && heap.a.(p) < heap.a.(i) then (\n",
    "        swap heap i p;\n",
    "        up heap p\n",
    "    )"
   ]
  },
  {
   "cell_type": "code",
   "execution_count": 22,
   "id": "72ee47b5-3f91-42db-a639-4ff176194441",
   "metadata": {},
   "outputs": [
    {
     "data": {
      "text/plain": [
       "val down : int heap -> int -> unit = <fun>\n"
      ]
     },
     "execution_count": 22,
     "metadata": {},
     "output_type": "execute_result"
    }
   ],
   "source": [
    "let rec down heap i =\n",
    "    let get j = (if j < heap.n then heap.a.(j) else min_int), j in\n",
    "    let m, j = max (get (2*i + 1)) (get (2*i + 2)) in\n",
    "    if heap.a.(i) < m then (\n",
    "        swap heap i j;\n",
    "        down heap j\n",
    "    )"
   ]
  },
  {
   "cell_type": "code",
   "execution_count": 23,
   "id": "28a4a4ae-8cf1-446d-b516-f7c5c8123478",
   "metadata": {},
   "outputs": [
    {
     "data": {
      "text/plain": [
       "val add : 'a heap -> 'a -> unit = <fun>\n"
      ]
     },
     "execution_count": 23,
     "metadata": {},
     "output_type": "execute_result"
    }
   ],
   "source": [
    "let add heap e =\n",
    "    heap.a.(heap.n) <- e;\n",
    "    up heap heap.n;\n",
    "    heap.n <- heap.n + 1;;"
   ]
  },
  {
   "cell_type": "code",
   "execution_count": 24,
   "id": "3f5f2c40",
   "metadata": {},
   "outputs": [
    {
     "data": {
      "text/plain": [
       "val array_to_heap : 'a array -> 'a heap = <fun>\n"
      ]
     },
     "execution_count": 24,
     "metadata": {},
     "output_type": "execute_result"
    },
    {
     "data": {
      "text/plain": [
       "val h : int heap = {a = [|8; 6; 3; 1; 4; 2|]; n = 6}\n"
      ]
     },
     "execution_count": 24,
     "metadata": {},
     "output_type": "execute_result"
    },
    {
     "data": {
      "text/plain": [
       "- : unit = ()\n"
      ]
     },
     "execution_count": 24,
     "metadata": {},
     "output_type": "execute_result"
    }
   ],
   "source": [
    "let array_to_heap a =\n",
    "    let heap = { a=a; n=0 } in\n",
    "    Array.iter (add heap) a;\n",
    "    heap;;\n",
    "    \n",
    "let h = array_to_heap [|4; 1; 2; 8; 6; 3|];;\n",
    "draw_heap ~file_out:\"heap_ex\" h"
   ]
  },
  {
   "cell_type": "markdown",
   "id": "14183a41",
   "metadata": {},
   "source": [
    "<center><img src=heap_ex.png width=80></center>"
   ]
  },
  {
   "cell_type": "code",
   "execution_count": 25,
   "id": "f98a5193-09a9-4ee8-a578-c36798b7fe9b",
   "metadata": {},
   "outputs": [
    {
     "data": {
      "text/plain": [
       "val take_max : int heap -> int = <fun>\n"
      ]
     },
     "execution_count": 25,
     "metadata": {},
     "output_type": "execute_result"
    },
    {
     "data": {
      "text/plain": [
       "- : int = 8\n"
      ]
     },
     "execution_count": 25,
     "metadata": {},
     "output_type": "execute_result"
    }
   ],
   "source": [
    "let take_max heap =\n",
    "    swap heap 0 (heap.n - 1);\n",
    "    heap.n <- heap.n - 1;\n",
    "    down heap 0;\n",
    "    heap.a.(heap.n);;\n",
    "    \n",
    "take_max h;;"
   ]
  },
  {
   "cell_type": "code",
   "execution_count": 26,
   "id": "e5fe6260-2f56-4613-8030-796cb2857c54",
   "metadata": {},
   "outputs": [
    {
     "data": {
      "text/plain": [
       "- : unit = ()\n"
      ]
     },
     "execution_count": 26,
     "metadata": {},
     "output_type": "execute_result"
    }
   ],
   "source": [
    "draw_heap ~file_out:\"heap_del\" h"
   ]
  },
  {
   "cell_type": "markdown",
   "id": "6e640b40",
   "metadata": {},
   "source": [
    "<center>\n",
    "    <img style=\"padding: 30px;\" src=heap_ex.png width=80>\n",
    "    <img src=heap_del.png style=\"padding: 30px;\" width=80><br>\n",
    "    Affichage du tas avant et après appel de del_max\n",
    "</center>"
   ]
  }
 ],
 "metadata": {
  "kernelspec": {
   "display_name": "OCaml default",
   "language": "OCaml",
   "name": "ocaml-jupyter"
  },
  "language_info": {
   "codemirror_mode": "text/x-ocaml",
   "file_extension": ".ml",
   "mimetype": "text/x-ocaml",
   "name": "OCaml",
   "nbconverter_exporter": null,
   "pygments_lexer": "OCaml",
   "version": "4.08.1"
  }
 },
 "nbformat": 4,
 "nbformat_minor": 5
}
