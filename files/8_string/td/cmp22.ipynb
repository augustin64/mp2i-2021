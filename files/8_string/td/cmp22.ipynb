{
 "cells": [
  {
   "cell_type": "markdown",
   "metadata": {},
   "source": [
    "# <center><a href='https://notebook.basthon.fr/?from=https://raw.githubusercontent.com/mp2i-info/mp2i-info.github.io/main/8_string/td/cmp22.ipynb'>Mines Pont 2022 <img src=https://framagit.org/uploads/-/system/project/avatar/55763/basthon_shadow.png width=100></a></center>\n",
    "\n",
    "[Sujet](https://www.concoursminesponts.fr/resources/Info-Option-MP-2022.pdf)"
   ]
  },
  {
   "cell_type": "markdown",
   "metadata": {},
   "source": [
    "## Une mesure des erreurs de saisie\n",
    "\n",
    "### Une fonction mystère"
   ]
  },
  {
   "cell_type": "code",
   "execution_count": 1,
   "metadata": {
    "vscode": {
     "languageId": "ocaml"
    }
   },
   "outputs": [
    {
     "data": {
      "text/plain": [
       "val mystere : int list -> int = <fun>\n"
      ]
     },
     "execution_count": 1,
     "metadata": {},
     "output_type": "execute_result"
    }
   ],
   "source": [
    "let rec mystere z = match z with\n",
    "(* La fonction mystere calcule ... *)\n",
    "| [] -> max_int\n",
    "| [a] -> a\n",
    "| a::b::y -> mystere ((if a <= b then a else b)::y);;"
   ]
  },
  {
   "cell_type": "markdown",
   "metadata": {},
   "source": [
    "Q2. À chaque appel récursif de `mystere`, la taille de la liste en argument diminue de $1$. Si `z` est une liste de taille $n$, il faut donc $n$ appels de `mystere` avant d'arriver sur le cas de base de la liste réduit à un élément."
   ]
  },
  {
   "cell_type": "markdown",
   "metadata": {},
   "source": [
    "Q3. Posons, pour $n \\geq 1$ :\n",
    "$$H_n \\text{ : Si z est une liste d'entiers de taille } n, \\text{ mystere z renvoie le minimum de z}$$\n",
    "On peut démontrer $H_n$ par récurrence sur $n$."
   ]
  },
  {
   "cell_type": "markdown",
   "metadata": {},
   "source": [
    "Q4. Comme `mystere` est récursif terminal (l'appel récursif est la dernière opération réalisée), la fonction est automatiquemen dérécursifiée. Il n'y a donc pas de problème de pile d'appel. De plus, une liste étant persistante, chaque ajout à une liste (`...::y`) demande une complexité en espace O($1$) (la mémoire est partagée : il n'y a pas besoin de copier la liste).  \n",
    "Comme on le fait $n$ fois, on obtient une complexité mémoire en O($n$).  \n",
    "Il faut aussi prendre en compte l'espace mémoire pour stocker l'entrée (d'après l'énoncé) qui est aussi O($n$).  \n",
    "D'où la complexité totale en espace : $\\boxed{\\text{O}(n)}$."
   ]
  },
  {
   "cell_type": "markdown",
   "metadata": {},
   "source": [
    "### Distance d'édition de Levenshtein"
   ]
  },
  {
   "cell_type": "code",
   "execution_count": 3,
   "metadata": {
    "vscode": {
     "languageId": "ocaml"
    }
   },
   "outputs": [
    {
     "data": {
      "text/plain": [
       "type mot = char list\n"
      ]
     },
     "execution_count": 3,
     "metadata": {},
     "output_type": "execute_result"
    }
   ],
   "source": [
    "type mot = char list;;"
   ]
  },
  {
   "cell_type": "code",
   "execution_count": 4,
   "metadata": {
    "vscode": {
     "languageId": "ocaml"
    }
   },
   "outputs": [
    {
     "data": {
      "text/plain": [
       "val array_of_mot : char list -> char array = <fun>\n"
      ]
     },
     "execution_count": 4,
     "metadata": {},
     "output_type": "execute_result"
    }
   ],
   "source": [
    "(* Q7 *)\n",
    "let array_of_mot w =\n",
    "    let t = Array.make (List.length w) ' ' in\n",
    "    let rec aux l n = match l with\n",
    "        | [] -> ()\n",
    "        | e::q -> t.(n) <- e; aux q (n + 1) in\n",
    "    aux w 0;\n",
    "    t;;"
   ]
  },
  {
   "cell_type": "code",
   "execution_count": 5,
   "metadata": {
    "vscode": {
     "languageId": "ocaml"
    }
   },
   "outputs": [
    {
     "data": {
      "text/plain": [
       "- : char array = [|'t'; 'e'; 's'; 't'|]\n"
      ]
     },
     "execution_count": 5,
     "metadata": {},
     "output_type": "execute_result"
    }
   ],
   "source": [
    "array_of_mot ['t'; 'e'; 's'; 't']"
   ]
  },
  {
   "cell_type": "code",
   "execution_count": 37,
   "metadata": {
    "vscode": {
     "languageId": "ocaml"
    }
   },
   "outputs": [
    {
     "data": {
      "text/plain": [
       "val distance : char list -> char list -> int = <fun>\n"
      ]
     },
     "execution_count": 37,
     "metadata": {},
     "output_type": "execute_result"
    }
   ],
   "source": [
    "(* Q8 *)\n",
    "let distance b c =\n",
    "    let b, c = array_of_mot b, array_of_mot c in\n",
    "    let nb, nc = Array.length b, Array.length c in\n",
    "    let d = Array.make_matrix nb nc (-1) in\n",
    "    let rec aux i j = (* renvoie d(i, j) *)\n",
    "        if i = -1 then j + 1\n",
    "        else if j = -1 then i + 1\n",
    "        else if d.(i).(j) <> -1 then d.(i).(j)\n",
    "        else if b.(i) = c.(j) then (d.(i).(j) <- aux (i - 1) (j - 1); d.(i).(j))\n",
    "        else (d.(i).(j) <- 1 + min (aux (i - 1) j) (min (aux (i - 1) (j - 1)) (aux i (j - 1))); \n",
    "              d.(i).(j)) in\n",
    "    aux (nb - 1) (nc - 1)"
   ]
  },
  {
   "cell_type": "code",
   "execution_count": 38,
   "metadata": {
    "vscode": {
     "languageId": "ocaml"
    }
   },
   "outputs": [
    {
     "data": {
      "text/plain": [
       "- : int = 3\n"
      ]
     },
     "execution_count": 38,
     "metadata": {},
     "output_type": "execute_result"
    }
   ],
   "source": [
    "distance ['c'; 'o'; 'r'; 'e'; 'k'; 't'; 'e'] ['c'; 'o'; 'r'; 'r'; 'e'; 'c'; 't']"
   ]
  },
  {
   "cell_type": "code",
   "execution_count": 39,
   "metadata": {
    "vscode": {
     "languageId": "ocaml"
    }
   },
   "outputs": [
    {
     "data": {
      "text/plain": [
       "- : int = 2\n"
      ]
     },
     "execution_count": 39,
     "metadata": {},
     "output_type": "execute_result"
    }
   ],
   "source": [
    "distance ['n';'u';'i';'t'] ['b'; 'r';'u';'i';'t']"
   ]
  },
  {
   "cell_type": "markdown",
   "metadata": {},
   "source": [
    "# Fouille dans un trie"
   ]
  },
  {
   "cell_type": "markdown",
   "metadata": {},
   "source": [
    "Q12. ABR ou table de hachage. Insertion dans un ABR en O($h$) (O($\\log(n)$) si équilibré). Insertion dans une table de hachage en O(1)."
   ]
  },
  {
   "cell_type": "code",
   "execution_count": 40,
   "metadata": {
    "vscode": {
     "languageId": "ocaml"
    }
   },
   "outputs": [
    {
     "data": {
      "text/plain": [
       "module CharMap :\n",
       "  sig\n",
       "    type key = Char.t\n",
       "    type 'a t = 'a Map.Make(Char).t\n",
       "    val empty : 'a t\n",
       "    val is_empty : 'a t -> bool\n",
       "    val mem : key -> 'a t -> bool\n",
       "    val add : key -> 'a -> 'a t -> 'a t\n",
       "    val update : key -> ('a option -> 'a option) -> 'a t -> 'a t\n",
       "    val singleton : key -> 'a -> 'a t\n",
       "    val remove : key -> 'a t -> 'a t\n",
       "    val merge :\n",
       "      (key -> 'a option -> 'b option -> 'c option) -> 'a t -> 'b t -> 'c t\n",
       "    val union : (key -> 'a -> 'a -> 'a option) -> 'a t -> 'a t -> 'a t\n",
       "    val compare : ('a -> 'a -> int) -> 'a t -> 'a t -> int\n",
       "    val equal : ('a -> 'a -> bool) -> 'a t -> 'a t -> bool\n",
       "    val iter : (key -> 'a -> unit) -> 'a t -> unit\n",
       "    val fold : (key -> 'a -> 'b -> 'b) -> 'a t -> 'b -> 'b\n",
       "    val for_all : (key -> 'a -> bool) -> 'a t -> bool\n",
       "    val exists : (key -> 'a -> bool) -> 'a t -> bool\n",
       "    val filter : (key -> 'a -> bool) -> 'a t -> 'a t\n",
       "    val partition : (key -> 'a -> bool) -> 'a t -> 'a t * 'a t\n",
       "    val cardinal : 'a t -> int\n",
       "    val bindings : 'a t -> (key * 'a) list\n",
       "    val min_binding : 'a t -> key * 'a\n",
       "    val min_binding_opt : 'a t -> (key * 'a) option\n",
       "    val max_binding : 'a t -> key * 'a\n",
       "    val max_binding_opt : 'a t -> (key * 'a) option\n",
       "    val choose : 'a t -> key * 'a\n",
       "    val choose_opt : 'a t -> (key * 'a) option\n",
       "    val split : key -> 'a t -> 'a t * 'a option * 'a t\n",
       "    val find : key -> 'a t -> 'a\n",
       "    val find_opt : key -> 'a t -> 'a option\n",
       "    val find_first : (key -> bool) -> 'a t -> key * 'a\n",
       "    val find_first_opt : (key -> bool) -> 'a t -> (key * 'a) option\n",
       "    val find_last : (key -> bool) -> 'a t -> key * 'a\n",
       "    val find_last_opt : (key -> bool) -> 'a t -> (key * 'a) option\n",
       "    val map : ('a -> 'b) -> 'a t -> 'b t\n",
       "    val mapi : (key -> 'a -> 'b) -> 'a t -> 'b t\n",
       "    val to_seq : 'a t -> (key * 'a) Seq.t\n",
       "    val to_seq_from : key -> 'a t -> (key * 'a) Seq.t\n",
       "    val add_seq : (key * 'a) Seq.t -> 'a t -> 'a t\n",
       "    val of_seq : (key * 'a) Seq.t -> 'a t\n",
       "  end\n"
      ]
     },
     "execution_count": 40,
     "metadata": {},
     "output_type": "execute_result"
    }
   ],
   "source": [
    "module CharMap = Map.Make(Char)"
   ]
  },
  {
   "cell_type": "code",
   "execution_count": 41,
   "metadata": {
    "vscode": {
     "languageId": "ocaml"
    }
   },
   "outputs": [
    {
     "data": {
      "text/plain": [
       "type trie = Node of trie CharMap.t\n"
      ]
     },
     "execution_count": 41,
     "metadata": {},
     "output_type": "execute_result"
    }
   ],
   "source": [
    "type trie = Node of trie CharMap.t"
   ]
  },
  {
   "cell_type": "code",
   "execution_count": 44,
   "metadata": {
    "vscode": {
     "languageId": "ocaml"
    }
   },
   "outputs": [
    {
     "data": {
      "text/plain": [
       "val trie_vide : trie = Node <abstr>\n"
      ]
     },
     "execution_count": 44,
     "metadata": {},
     "output_type": "execute_result"
    },
    {
     "data": {
      "text/plain": [
       "val trie_mot_vide : trie = Node <abstr>\n"
      ]
     },
     "execution_count": 44,
     "metadata": {},
     "output_type": "execute_result"
    }
   ],
   "source": [
    "(* Q13 *)\n",
    "let trie_vide = Node CharMap.empty;;\n",
    "let trie_mot_vide = Node (CharMap.add '$' trie_vide CharMap.empty)"
   ]
  },
  {
   "cell_type": "code",
   "execution_count": 45,
   "metadata": {
    "vscode": {
     "languageId": "ocaml"
    }
   },
   "outputs": [
    {
     "data": {
      "text/plain": [
       "val trie_singleton : CharMap.key -> trie = <fun>\n"
      ]
     },
     "execution_count": 45,
     "metadata": {},
     "output_type": "execute_result"
    }
   ],
   "source": [
    "(* Q14 *)\n",
    "let trie_singleton x = Node (CharMap.add x trie_mot_vide CharMap.empty)"
   ]
  },
  {
   "cell_type": "code",
   "execution_count": 46,
   "metadata": {
    "vscode": {
     "languageId": "ocaml"
    }
   },
   "outputs": [
    {
     "data": {
      "text/plain": [
       "val trie_mem : char list -> trie -> bool = <fun>\n"
      ]
     },
     "execution_count": 46,
     "metadata": {},
     "output_type": "execute_result"
    }
   ],
   "source": [
    "(* Q15 *)\n",
    "let rec trie_mem (c : char list) (Node tcm) = match c with\n",
    "    | [] -> CharMap.find_opt '$' tcm <> None\n",
    "    | e::q -> match CharMap.find_opt e tcm with\n",
    "                | None -> false\n",
    "                | Some a -> trie_mem q a"
   ]
  },
  {
   "cell_type": "code",
   "execution_count": 74,
   "metadata": {
    "vscode": {
     "languageId": "ocaml"
    }
   },
   "outputs": [
    {
     "data": {
      "text/plain": [
       "val trie_add : CharMap.key list -> trie -> trie = <fun>\n"
      ]
     },
     "execution_count": 74,
     "metadata": {},
     "output_type": "execute_result"
    }
   ],
   "source": [
    "(* Q16 *)\n",
    "let rec trie_add c (Node tcm) = match c with\n",
    "    | [] -> Node (CharMap.add '$' trie_vide tcm)\n",
    "    | e::q -> \n",
    "        let t_e = match CharMap.find_opt e tcm with\n",
    "            | None -> trie_vide \n",
    "            | Some a -> a in\n",
    "        Node (CharMap.add e (trie_add q t_e) tcm)"
   ]
  },
  {
   "cell_type": "code",
   "execution_count": 75,
   "metadata": {
    "vscode": {
     "languageId": "ocaml"
    }
   },
   "outputs": [
    {
     "data": {
      "text/plain": [
       "val t : trie = Node <abstr>\n"
      ]
     },
     "execution_count": 75,
     "metadata": {},
     "output_type": "execute_result"
    }
   ],
   "source": [
    "let t = trie_add ['a'; 'b'; 'c'] (trie_singleton 'a')"
   ]
  },
  {
   "cell_type": "code",
   "execution_count": 76,
   "metadata": {
    "vscode": {
     "languageId": "ocaml"
    }
   },
   "outputs": [
    {
     "data": {
      "text/plain": [
       "- : bool = true\n"
      ]
     },
     "execution_count": 76,
     "metadata": {},
     "output_type": "execute_result"
    }
   ],
   "source": [
    "trie_mem ['a'; 'b'; 'c'] t && trie_mem ['a'] t && not (trie_mem ['a'; 'b'] t) && not (trie_mem ['b'] t)"
   ]
  }
 ],
 "metadata": {
  "kernelspec": {
   "display_name": "OCaml default",
   "language": "OCaml",
   "name": "ocaml-jupyter"
  },
  "language_info": {
   "codemirror_mode": "text/x-ocaml",
   "file_extension": ".ml",
   "mimetype": "text/x-ocaml",
   "name": "OCaml",
   "nbconverter_exporter": null,
   "pygments_lexer": "OCaml",
   "version": "4.08.1"
  }
 },
 "nbformat": 4,
 "nbformat_minor": 2
}
