{
 "cells": [
  {
   "cell_type": "markdown",
   "metadata": {},
   "source": [
    "# <center><a href='https://notebook.basthon.fr/?from=https://raw.githubusercontent.com/mp2i-fsm/mp2i-2021/main/8_string/2_compression/compression_code.ipynb'>Code : Compression de texte <img src=https://framagit.org/uploads/-/system/project/avatar/55763/basthon_shadow.png width=100></a></center>\n",
    "\n",
    "## Run-Length Encoding"
   ]
  },
  {
   "cell_type": "code",
   "execution_count": 1,
   "metadata": {
    "execution": {
     "iopub.execute_input": "2022-04-24T09:07:08.112995Z",
     "iopub.status.busy": "2022-04-24T09:07:08.112519Z",
     "iopub.status.idle": "2022-04-24T09:07:08.123612Z",
     "shell.execute_reply": "2022-04-24T09:07:08.123952Z"
    },
    "vscode": {
     "languageId": "json"
    }
   },
   "outputs": [
    {
     "data": {
      "text/plain": [
       "val rle_code : string -> (char * int) list = <fun>\n"
      ]
     },
     "execution_count": 1,
     "metadata": {},
     "output_type": "execute_result"
    }
   ],
   "source": [
    "let rle_code s =\n",
    "    let ind = ref s.[0] in\n",
    "    let nb = ref 1 in\n",
    "    let l = ref [] in\n",
    "    for i = 1 to String.length s - 1 do\n",
    "        if !ind <> s.[i] then (\n",
    "            l := (!ind, !nb)::!l;\n",
    "            ind := s.[i];\n",
    "            nb := 1\n",
    "        )\n",
    "        else incr nb\n",
    "    done;\n",
    "    List.rev ((!ind, !nb)::!l)"
   ]
  },
  {
   "cell_type": "code",
   "execution_count": 2,
   "metadata": {
    "execution": {
     "iopub.execute_input": "2022-04-24T09:07:08.127273Z",
     "iopub.status.busy": "2022-04-24T09:07:08.126860Z",
     "iopub.status.idle": "2022-04-24T09:07:08.130484Z",
     "shell.execute_reply": "2022-04-24T09:07:08.130790Z"
    },
    "vscode": {
     "languageId": "json"
    }
   },
   "outputs": [
    {
     "data": {
      "text/plain": [
       "val rle_decode : (char * int) list -> string = <fun>\n"
      ]
     },
     "execution_count": 2,
     "metadata": {},
     "output_type": "execute_result"
    }
   ],
   "source": [
    "let rec rle_decode = function\n",
    "    | [] -> \"\"\n",
    "    | (c, n)::q -> (String.make n c)^rle_decode q"
   ]
  },
  {
   "cell_type": "markdown",
   "metadata": {},
   "source": [
    "## Codage de Huffman\n",
    "\n",
    "### Construction de l'arbre de Huffman"
   ]
  },
  {
   "cell_type": "code",
   "execution_count": 3,
   "metadata": {
    "execution": {
     "iopub.execute_input": "2022-04-24T09:07:08.132418Z",
     "iopub.status.busy": "2022-04-24T09:07:08.132014Z",
     "iopub.status.idle": "2022-04-24T09:07:08.140693Z",
     "shell.execute_reply": "2022-04-24T09:07:08.140348Z"
    },
    "vscode": {
     "languageId": "json"
    }
   },
   "outputs": [
    {
     "data": {
      "text/plain": [
       "val get_frequences : string -> int array = <fun>\n"
      ]
     },
     "execution_count": 3,
     "metadata": {},
     "output_type": "execute_result"
    }
   ],
   "source": [
    "let get_frequences text =\n",
    "    let freq = Array.make 256 0 in\n",
    "    for i = 0 to String.length text - 1 do\n",
    "        freq.(Char.code text.[i]) <- freq.(Char.code text.[i]) + 1\n",
    "    done;\n",
    "    freq"
   ]
  },
  {
   "cell_type": "code",
   "execution_count": 4,
   "metadata": {
    "execution": {
     "iopub.execute_input": "2022-04-24T09:07:08.142234Z",
     "iopub.status.busy": "2022-04-24T09:07:08.141832Z",
     "iopub.status.idle": "2022-04-24T09:07:08.144374Z",
     "shell.execute_reply": "2022-04-24T09:07:08.143988Z"
    },
    "vscode": {
     "languageId": "ocaml"
    }
   },
   "outputs": [
    {
     "data": {
      "text/plain": [
       "type 'a tree = F of 'a | N of 'a tree * 'a tree\n"
      ]
     },
     "execution_count": 4,
     "metadata": {},
     "output_type": "execute_result"
    }
   ],
   "source": [
    "type 'a tree = F of 'a | N of 'a tree * 'a tree"
   ]
  },
  {
   "cell_type": "markdown",
   "metadata": {},
   "source": [
    "On va utiliser la file de priorité suivante :"
   ]
  },
  {
   "cell_type": "code",
   "execution_count": 5,
   "metadata": {
    "execution": {
     "iopub.execute_input": "2022-04-24T09:07:08.145982Z",
     "iopub.status.busy": "2022-04-24T09:07:08.145567Z",
     "iopub.status.idle": "2022-04-24T09:07:08.155495Z",
     "shell.execute_reply": "2022-04-24T09:07:08.155809Z"
    },
    "vscode": {
     "languageId": "ocaml"
    }
   },
   "outputs": [
    {
     "data": {
      "text/plain": [
       "module Q :\n",
       "  sig\n",
       "    type 'a t = E | N of 'a * 'a t * 'a t\n",
       "    val empty : unit -> 'a t ref\n",
       "    val is_empty : 'a t ref -> bool\n",
       "    val add : 'a -> 'a t ref -> unit\n",
       "    val take_min : 'a t ref -> 'a\n",
       "  end\n"
      ]
     },
     "execution_count": 5,
     "metadata": {},
     "output_type": "execute_result"
    }
   ],
   "source": [
    "module Q = struct\n",
    "  type 'a t = E | N of 'a * 'a t * 'a t\n",
    "  let empty () = ref E\n",
    "  let is_empty t = !t = E\n",
    "  let add x t =\n",
    "    let rec aux = function\n",
    "      | E -> N(x, E, E)\n",
    "      | N(r, g, d) -> if x < r then N(r, aux g, d) else N(r, g, aux d) in\n",
    "    t := aux !t\n",
    "  let take_min t = \n",
    "    let rec aux = function\n",
    "      | E -> failwith \"take_min\"\n",
    "      | N(r, g, d) -> if g = E then r, d \n",
    "                      else \n",
    "                        let m, g = aux g in\n",
    "                        m, N(r, g, d) in\n",
    "    let m, t_ = aux !t in \n",
    "    t := t_;\n",
    "    m\n",
    "end"
   ]
  },
  {
   "cell_type": "code",
   "execution_count": 6,
   "metadata": {
    "execution": {
     "iopub.execute_input": "2022-04-24T09:07:08.157361Z",
     "iopub.status.busy": "2022-04-24T09:07:08.156959Z",
     "iopub.status.idle": "2022-04-24T09:07:08.163269Z",
     "shell.execute_reply": "2022-04-24T09:07:08.163619Z"
    },
    "vscode": {
     "languageId": "ocaml"
    }
   },
   "outputs": [
    {
     "data": {
      "text/plain": [
       "val make_huffman_tree : int array -> char tree = <fun>\n"
      ]
     },
     "execution_count": 6,
     "metadata": {},
     "output_type": "execute_result"
    }
   ],
   "source": [
    "let make_huffman_tree freq =\n",
    "    let q = Q.empty () in\n",
    "    let n = ref 0 in\n",
    "    for i = 0 to 255 do \n",
    "        if freq.(i) > 0 then (\n",
    "            incr n;\n",
    "            Q.add (freq.(i), F(Char.chr i)) q\n",
    "        )\n",
    "    done;\n",
    "    for _ = 0 to !n - 2 do\n",
    "        let f1, t1 = Q.take_min q in\n",
    "        let f2, t2 = Q.take_min q in\n",
    "        Q.add (f1 + f2, N(t1, t2)) q\n",
    "    done;\n",
    "    snd (Q.take_min q)"
   ]
  },
  {
   "cell_type": "code",
   "execution_count": 7,
   "metadata": {
    "execution": {
     "iopub.execute_input": "2022-04-24T09:07:08.165047Z",
     "iopub.status.busy": "2022-04-24T09:07:08.164644Z",
     "iopub.status.idle": "2022-04-24T09:07:08.171316Z",
     "shell.execute_reply": "2022-04-24T09:07:08.171662Z"
    },
    "vscode": {
     "languageId": "ocaml"
    }
   },
   "outputs": [
    {
     "data": {
      "text/plain": [
       "val make_table : char tree -> int list array = <fun>\n"
      ]
     },
     "execution_count": 7,
     "metadata": {},
     "output_type": "execute_result"
    }
   ],
   "source": [
    "let make_table t =\n",
    "    let codes = Array.make 256 [] in\n",
    "    let rec aux path = function\n",
    "        | F(c) -> codes.(Char.code c) <- List.rev path\n",
    "        | N(g, d) -> aux (0::path) g; aux (1::path) d in\n",
    "    aux [] t;\n",
    "    codes"
   ]
  },
  {
   "cell_type": "markdown",
   "metadata": {},
   "source": [
    "### Compression"
   ]
  },
  {
   "cell_type": "code",
   "execution_count": 8,
   "metadata": {
    "execution": {
     "iopub.execute_input": "2022-04-24T09:07:08.173473Z",
     "iopub.status.busy": "2022-04-24T09:07:08.173056Z",
     "iopub.status.idle": "2022-04-24T09:07:08.177497Z",
     "shell.execute_reply": "2022-04-24T09:07:08.177821Z"
    },
    "vscode": {
     "languageId": "ocaml"
    }
   },
   "outputs": [
    {
     "data": {
      "text/plain": [
       "val compress_huffman : string -> int list * char tree = <fun>\n"
      ]
     },
     "execution_count": 8,
     "metadata": {},
     "output_type": "execute_result"
    }
   ],
   "source": [
    "let compress_huffman text = (* renvoyé le texte codé et l'arbre de Huffman *)\n",
    "    let freq = get_frequences text in\n",
    "    let t = make_huffman_tree freq in\n",
    "    let table = make_table t in\n",
    "    let rec aux i = \n",
    "        if i = String.length text then []\n",
    "        else table.(Char.code text.[i]) @ aux (i + 1) in\n",
    "    aux 0, t"
   ]
  },
  {
   "cell_type": "code",
   "execution_count": 9,
   "metadata": {
    "execution": {
     "iopub.execute_input": "2022-04-24T09:07:08.179679Z",
     "iopub.status.busy": "2022-04-24T09:07:08.179181Z",
     "iopub.status.idle": "2022-04-24T09:07:08.207934Z",
     "shell.execute_reply": "2022-04-24T09:07:08.207566Z"
    },
    "scrolled": true,
    "vscode": {
     "languageId": "ocaml"
    }
   },
   "outputs": [
    {
     "data": {
      "text/plain": [
       "val text : string =\n",
       "  \"Un algorithme est une suite finie et non ambiguë d'instructions et d'opérations permettant de résoudre une classe de problèmes. Le mot algorithme vient d'Al-Khwârizmî (en arabe : الخوارزمي)2, nom d'un mathématicien persan du IXe siècle. Le domaine qui étudie les algorithmes est ap\"... (* string length 620; truncated *)\n"
      ]
     },
     "execution_count": 9,
     "metadata": {},
     "output_type": "execute_result"
    },
    {
     "data": {
      "text/plain": [
       "val coded_text : int list =\n",
       "  [0; 0; 1; 0; 1; 1; 0; 0; 1; 0; 0; 1; 1; 1; 0; 0; 0; 1; 1; 0; 1; 1; 1; 0; 1;\n",
       "   0; 1; 1; 1; 1; 0; 0; 0; 0; 0; 1; 1; 1; 1; 1; 1; 0; 1; 1; 1; 1; 0; 1; 0; 1;\n",
       "   1; 1; 1; 1; 1; 1; 0; 0; 1; 0; 1; 0; 1; 0; 0; 0; 1; 0; 0; 0; 0; 1; 1; 1; 0;\n",
       "   1; 1; 0; 0; 1; 1; 1; 0; 0; 0; 0; 1; 1; 0; 1; 0; 1; 0; 0; 0; 0; 0; 1; 1; 1;\n",
       "   1; 0; 0; 1; 0; 1; 1; 1; 1; 0; 1; 0; 1; 0; 1; 0; 0; 1; 1; 0; 0; 0; 0; 1; 1;\n",
       "   0; 1; 1; 0; 0; 1; 1; 1; 0; 1; 1; 0; 1; 0; 1; 0; 0; 0; 1; 0; 1; 1; 0; 1; 1;\n",
       "   0; 0; 0; 0; 1; 1; 0; 0; 0; 0; 0; 0; 1; 1; 1; 0; 0; 0; 1; 1; 0; 1; 1; 0; 0;\n",
       "   1; 1; 1; 0; 0; 0; 0; 0; 1; 0; 1; 1; 0; 1; 1; 1; 1; 0; 1; 1; 1; 0; 0; 1; 0;\n",
       "   1; 0; 1; 1; 0; 1; 1; 1; 0; 0; 1; 0; 1; 1; 0; 0; 1; 0; 1; 0; 0; 0; 1; 1; 1;\n",
       "   0; 1; 1; 0; 1; 1; 0; 0; 1; 1; 0; 0; 0; 1; 1; 1; 0; 1; 1; 1; 1; 1; 1; 1; 1;\n",
       "   1; 0; 0; 1; 0; 1; 0; 1; 0; 1; 1; 0; 1; 1; 0; 1; 1; 0; 0; 0; 0; 0; 0; 1; 1;\n",
       "   0; 0; 0; 1; 1; 0; 0; 0; 1; 0; 1; 1; 0; 1; 1; 0; 0; 1; 0; 1; 0; 0; 0; 1;\n",
       "   ...]\n",
       "val t : char tree =\n",
       "  N\n",
       "   (N\n",
       "     (N (N (F 'o', F 's'),\n",
       "       N\n",
       "        (N\n",
       "          (N (N (F '\\217', N (F '-', F 'L')),\n",
       "            N (N (F 'v', F '\\167'), N (F '\\168', F '\\174'))),\n",
       "          N\n",
       "           (N (N (N (F '(', F ')'), N (F '2', F '3')),\n",
       "             N (N (F ':', F 'A'), N (F 'I', F 'K'))),\n",
       "           N (N (N (F 'O', F 'U'), N (F 'X', F 'j')),\n",
       "            N (N (F 'w', F 'x'), N (F 'y', F 'z'))))),\n",
       "        F 'n')),\n",
       "     N (F 'e',\n",
       "      N (F 'a',\n",
       "       N\n",
       "        (N\n",
       "          (N (N (N (F '\\132', F '\\133'), N (F '\\136', F '\\138')),\n",
       "            N (N (F '\\162', F '\\171'), N (F '\\177', F '\\178'))),\n",
       "          F '\\''),\n",
       "        N (F 'g', F 'h'))))),\n",
       "   N (N (F ' ', N (N (F 'd', N (F 'c', F '\\195')), F 'i')),\n",
       "    N (N (N (N (N (F 'b', F 'f'), N (F '\\169', F '\\216')), F 'm'), F 't'),\n",
       "     N (N (F 'u', F 'l'), N (N (F 'p', N (F ',', N (F '.', F 'q'))), F 'r')))))\n"
      ]
     },
     "execution_count": 9,
     "metadata": {},
     "output_type": "execute_result"
    }
   ],
   "source": [
    "let text = \"Un algorithme est une suite finie et non ambiguë d'instructions et d'opérations permettant de résoudre une classe de problèmes. Le mot algorithme vient d'Al-Khwârizmî (en arabe : الخوارزمي)2, nom d'un mathématicien persan du IXe siècle. Le domaine qui étudie les algorithmes est appelé l'algorithmique. On retrouve aujourd'hui des algorithmes dans de nombreuses applications telles que le fonctionnement des ordinateurs3, la cryptographie, le routage d'informations, la planification et l'utilisation optimale des ressources, le traitement d'images, le traitement de textes, la bio-informatique, etc. \";;\n",
    "let coded_text, t = compress_huffman text;;"
   ]
  },
  {
   "cell_type": "code",
   "execution_count": 10,
   "metadata": {
    "execution": {
     "iopub.execute_input": "2022-04-24T09:07:08.209821Z",
     "iopub.status.busy": "2022-04-24T09:07:08.209350Z",
     "iopub.status.idle": "2022-04-24T09:07:08.211267Z",
     "shell.execute_reply": "2022-04-24T09:07:08.211668Z"
    },
    "vscode": {
     "languageId": "ocaml"
    }
   },
   "outputs": [
    {
     "data": {
      "text/plain": [
       "- : int = 358\n"
      ]
     },
     "execution_count": 10,
     "metadata": {},
     "output_type": "execute_result"
    }
   ],
   "source": [
    "(List.length coded_text) / 8 (* nombre d'octets du texte compressé *)"
   ]
  },
  {
   "cell_type": "code",
   "execution_count": 11,
   "metadata": {
    "execution": {
     "iopub.execute_input": "2022-04-24T09:07:08.213363Z",
     "iopub.status.busy": "2022-04-24T09:07:08.212854Z",
     "iopub.status.idle": "2022-04-24T09:07:08.214965Z",
     "shell.execute_reply": "2022-04-24T09:07:08.214622Z"
    }
   },
   "outputs": [
    {
     "data": {
      "text/plain": [
       "- : int = 620\n"
      ]
     },
     "execution_count": 11,
     "metadata": {},
     "output_type": "execute_result"
    }
   ],
   "source": [
    "String.length \"Un algorithme est une suite finie et non ambiguë d'instructions et d'opérations permettant de résoudre une classe de problèmes. Le mot algorithme vient d'Al-Khwârizmî (en arabe : الخوارزمي)2, nom d'un mathématicien persan du IXe siècle. Le domaine qui étudie les algorithmes est appelé l'algorithmique. On retrouve aujourd'hui des algorithmes dans de nombreuses applications telles que le fonctionnement des ordinateurs3, la cryptographie, le routage d'informations, la planification et l'utilisation optimale des ressources, le traitement d'images, le traitement de textes, la bio-informatique, etc. \""
   ]
  },
  {
   "cell_type": "markdown",
   "metadata": {},
   "source": [
    "On est passé à une taille de 620 octets à 358, soit un gain de $\\approx 42$% :"
   ]
  },
  {
   "cell_type": "code",
   "execution_count": 12,
   "metadata": {
    "execution": {
     "iopub.execute_input": "2022-04-24T09:07:08.216674Z",
     "iopub.status.busy": "2022-04-24T09:07:08.216272Z",
     "iopub.status.idle": "2022-04-24T09:07:08.218028Z",
     "shell.execute_reply": "2022-04-24T09:07:08.218351Z"
    },
    "vscode": {
     "languageId": "ocaml"
    }
   },
   "outputs": [
    {
     "data": {
      "text/plain": [
       "- : float = 0.422580645161290347\n"
      ]
     },
     "execution_count": 12,
     "metadata": {},
     "output_type": "execute_result"
    }
   ],
   "source": [
    "1. -. 358./.620."
   ]
  },
  {
   "cell_type": "markdown",
   "metadata": {},
   "source": [
    "### Décompression"
   ]
  },
  {
   "cell_type": "code",
   "execution_count": 13,
   "metadata": {
    "execution": {
     "iopub.execute_input": "2022-04-24T09:07:08.219991Z",
     "iopub.status.busy": "2022-04-24T09:07:08.219581Z",
     "iopub.status.idle": "2022-04-24T09:07:08.227580Z",
     "shell.execute_reply": "2022-04-24T09:07:08.227916Z"
    },
    "vscode": {
     "languageId": "ocaml"
    }
   },
   "outputs": [
    {
     "data": {
      "text/plain": [
       "val decode_huffman : char tree -> int list -> string = <fun>\n"
      ]
     },
     "execution_count": 13,
     "metadata": {},
     "output_type": "execute_result"
    }
   ],
   "source": [
    "let rec decode_huffman t code =\n",
    "    let rec read_char t l = match t, l with\n",
    "        | F(c), _ -> c, l\n",
    "        | N(g, d), 0::q -> read_char g q\n",
    "        | N(g, d), 1::q -> read_char d q\n",
    "        | _ -> failwith \"codage incorrect\" in\n",
    "    if code = [] then \"\"\n",
    "    else let c, l = read_char t code in\n",
    "    (String.make 1 c)^decode_huffman t l"
   ]
  },
  {
   "cell_type": "code",
   "execution_count": 14,
   "metadata": {
    "execution": {
     "iopub.execute_input": "2022-04-24T09:07:08.229461Z",
     "iopub.status.busy": "2022-04-24T09:07:08.229062Z",
     "iopub.status.idle": "2022-04-24T09:07:08.231606Z",
     "shell.execute_reply": "2022-04-24T09:07:08.231198Z"
    },
    "scrolled": true,
    "vscode": {
     "languageId": "ocaml"
    }
   },
   "outputs": [
    {
     "data": {
      "text/plain": [
       "- : string =\n",
       "\"Un algorithme est une suite finie et non ambiguë d'instructions et d'opérations permettant de résoudre une classe de problèmes. Le mot algorithme vient d'Al-Khwârizmî (en arabe : الخوارزمي)2, nom d'un mathématicien persan du IXe siècle. Le domaine qui étudie les algorithmes est ap\"... (* string length 620; truncated *)\n"
      ]
     },
     "execution_count": 14,
     "metadata": {},
     "output_type": "execute_result"
    }
   ],
   "source": [
    "decode_huffman t coded_text"
   ]
  },
  {
   "cell_type": "markdown",
   "metadata": {},
   "source": [
    "### Sérialisation"
   ]
  },
  {
   "cell_type": "markdown",
   "metadata": {},
   "source": [
    "Pour pouvoir décompresser, il faut aussi stocker l'arbre de Huffman dans un fichier, en le sérialisant (transformation en chaîne de caractères) :"
   ]
  },
  {
   "cell_type": "code",
   "execution_count": 15,
   "metadata": {
    "execution": {
     "iopub.execute_input": "2022-04-24T09:07:08.233213Z",
     "iopub.status.busy": "2022-04-24T09:07:08.232809Z",
     "iopub.status.idle": "2022-04-24T09:07:08.236374Z",
     "shell.execute_reply": "2022-04-24T09:07:08.235989Z"
    },
    "vscode": {
     "languageId": "ocaml"
    }
   },
   "outputs": [
    {
     "data": {
      "text/plain": [
       "val serialize_tree : char tree -> char list = <fun>\n"
      ]
     },
     "execution_count": 15,
     "metadata": {},
     "output_type": "execute_result"
    }
   ],
   "source": [
    "let rec serialize_tree = function\n",
    "| F c -> ['*'; c]\n",
    "| N (g, d) -> '#'::(serialize_tree g)@serialize_tree d"
   ]
  },
  {
   "cell_type": "code",
   "execution_count": 16,
   "metadata": {
    "execution": {
     "iopub.execute_input": "2022-04-24T09:07:08.237890Z",
     "iopub.status.busy": "2022-04-24T09:07:08.237492Z",
     "iopub.status.idle": "2022-04-24T09:07:08.248002Z",
     "shell.execute_reply": "2022-04-24T09:07:08.247616Z"
    },
    "scrolled": true,
    "vscode": {
     "languageId": "ocaml"
    }
   },
   "outputs": [
    {
     "data": {
      "text/plain": [
       "val t_serial : char list =\n",
       "  ['#'; '#'; '#'; '#'; '*'; 'o'; '*'; 's'; '#'; '#'; '#'; '#'; '*'; '\\217';\n",
       "   '#'; '*'; '-'; '*'; 'L'; '#'; '#'; '*'; 'v'; '*'; '\\167'; '#'; '*';\n",
       "   '\\168'; '*'; '\\174'; '#'; '#'; '#'; '#'; '*'; '('; '*'; ')'; '#'; '*';\n",
       "   '2'; '*'; '3'; '#'; '#'; '*'; ':'; '*'; 'A'; '#'; '*'; 'I'; '*'; 'K'; '#';\n",
       "   '#'; '#'; '*'; 'O'; '*'; 'U'; '#'; '*'; 'X'; '*'; 'j'; '#'; '#'; '*'; 'w';\n",
       "   '*'; 'x'; '#'; '*'; 'y'; '*'; 'z'; '*'; 'n'; '#'; '*'; 'e'; '#'; '*'; 'a';\n",
       "   '#'; '#'; '#'; '#'; '#'; '*'; '\\132'; '*'; '\\133'; '#'; '*'; '\\136'; '*';\n",
       "   '\\138'; '#'; '#'; '*'; '\\162'; '*'; '\\171'; '#'; '*'; '\\177'; '*'; '\\178';\n",
       "   '*'; '\\''; '#'; '*'; 'g'; '*'; 'h'; '#'; '#'; '*'; ' '; '#'; '#'; '*';\n",
       "   'd'; '#'; '*'; 'c'; '*'; '\\195'; '*'; 'i'; '#'; '#'; '#'; '#'; '#'; '*';\n",
       "   'b'; '*'; 'f'; '#'; '*'; '\\169'; '*'; '\\216'; '*'; 'm'; '*'; 't'; '#';\n",
       "   '#'; '*'; 'u'; '*'; 'l'; '#'; '#'; '*'; 'p'; '#'; '*'; ','; '#'; '*'; '.';\n",
       "   '*'; 'q'; '*'; 'r']\n"
      ]
     },
     "execution_count": 16,
     "metadata": {},
     "output_type": "execute_result"
    }
   ],
   "source": [
    "let t_serial = serialize_tree t"
   ]
  },
  {
   "cell_type": "code",
   "execution_count": 17,
   "metadata": {
    "execution": {
     "iopub.execute_input": "2022-04-24T09:07:08.249560Z",
     "iopub.status.busy": "2022-04-24T09:07:08.249153Z",
     "iopub.status.idle": "2022-04-24T09:07:08.280548Z",
     "shell.execute_reply": "2022-04-24T09:07:08.280154Z"
    },
    "vscode": {
     "languageId": "ocaml"
    }
   },
   "outputs": [
    {
     "data": {
      "text/plain": [
       "- : char tree =\n",
       "N\n",
       " (N\n",
       "   (N (N (F 'o', F 's'),\n",
       "     N\n",
       "      (N\n",
       "        (N (N (F '\\217', N (F '-', F 'L')),\n",
       "          N (N (F 'v', F '\\167'), N (F '\\168', F '\\174'))),\n",
       "        N\n",
       "         (N (N (N (F '(', F ')'), N (F '2', F '3')),\n",
       "           N (N (F ':', F 'A'), N (F 'I', F 'K'))),\n",
       "         N (N (N (F 'O', F 'U'), N (F 'X', F 'j')),\n",
       "          N (N (F 'w', F 'x'), N (F 'y', F 'z'))))),\n",
       "      F 'n')),\n",
       "   N (F 'e',\n",
       "    N (F 'a',\n",
       "     N\n",
       "      (N\n",
       "        (N (N (N (F '\\132', F '\\133'), N (F '\\136', F '\\138')),\n",
       "          N (N (F '\\162', F '\\171'), N (F '\\177', F '\\178'))),\n",
       "        F '\\''),\n",
       "      N (F 'g', F 'h'))))),\n",
       " N (N (F ' ', N (N (F 'd', N (F 'c', F '\\195')), F 'i')),\n",
       "  N (N (N (N (N (F 'b', F 'f'), N (F '\\169', F '\\216')), F 'm'), F 't'),\n",
       "   N (N (F 'u', F 'l'), N (N (F 'p', N (F ',', N (F '.', F 'q'))), F 'r')))))\n"
      ]
     },
     "execution_count": 17,
     "metadata": {},
     "output_type": "execute_result"
    }
   ],
   "source": [
    "let deserialize l = \n",
    "    let rec read_tree = function\n",
    "        | '*'::c::q -> F(c), q\n",
    "        | '#'::q -> let g, q1 = read_tree q in\n",
    "                    let d, q2 = read_tree q1 in\n",
    "                    N(g, d), q2 \n",
    "        | _ -> failwith \"deserialize\" in\n",
    "    fst (read_tree l) in\n",
    "deserialize t_serial"
   ]
  },
  {
   "cell_type": "markdown",
   "metadata": {},
   "source": [
    "## LZW"
   ]
  },
  {
   "cell_type": "code",
   "execution_count": 18,
   "metadata": {
    "execution": {
     "iopub.execute_input": "2022-04-24T09:07:08.282608Z",
     "iopub.status.busy": "2022-04-24T09:07:08.282065Z",
     "iopub.status.idle": "2022-04-24T09:07:08.297849Z",
     "shell.execute_reply": "2022-04-24T09:07:08.297475Z"
    },
    "vscode": {
     "languageId": "ocaml"
    }
   },
   "outputs": [
    {
     "data": {
      "text/plain": [
       "val lzw_code : string -> int list * (int, string) Hashtbl.t = <fun>\n"
      ]
     },
     "execution_count": 18,
     "metadata": {},
     "output_type": "execute_result"
    }
   ],
   "source": [
    "let lzw_code s =\n",
    "  let n = String.length s in\n",
    "  let d = Hashtbl.create 13 in\n",
    "  let dinv = Hashtbl.create 13 in\n",
    "  let max_code = ref 0 in\n",
    "  let add_code k v =\n",
    "      Hashtbl.add d k v;\n",
    "      Hashtbl.add dinv v k in\n",
    "  for i = 0 to n - 1 do (* initialize d *)\n",
    "    if not (Hashtbl.mem d (String.sub s i 1)) then (\n",
    "      add_code (String.sub s i 1) !max_code;\n",
    "      incr max_code\n",
    "    )\n",
    "  done;\n",
    "  let rec aux i = (* returns compression of s[i:] *)\n",
    "    if i >= String.length s then []\n",
    "    else\n",
    "      let rec max_suffix j =\n",
    "        if j = n || not (Hashtbl.mem d (String.sub s i (j - i + 1))) then j\n",
    "        else max_suffix (j + 1) in\n",
    "      let j = max_suffix i in\n",
    "      let w = String.sub s i (j - i) in\n",
    "      if j < n then (\n",
    "        let w' = String.sub s i (j - i + 1) in\n",
    "        add_code w' (!max_code + 1);\n",
    "        incr max_code;\n",
    "      );\n",
    "      (Hashtbl.find d w)::aux j\n",
    "  in\n",
    "  aux 0, dinv"
   ]
  },
  {
   "cell_type": "code",
   "execution_count": 19,
   "metadata": {
    "execution": {
     "iopub.execute_input": "2022-04-24T09:07:08.299785Z",
     "iopub.status.busy": "2022-04-24T09:07:08.299281Z",
     "iopub.status.idle": "2022-04-24T09:07:08.302657Z",
     "shell.execute_reply": "2022-04-24T09:07:08.302298Z"
    },
    "vscode": {
     "languageId": "ocaml"
    }
   },
   "outputs": [
    {
     "data": {
      "text/plain": [
       "val lzw_decode : ('a, string) Hashtbl.t -> 'a list -> string = <fun>\n"
      ]
     },
     "execution_count": 19,
     "metadata": {},
     "output_type": "execute_result"
    }
   ],
   "source": [
    "let rec lzw_decode dinv = function\n",
    "    | [] -> \"\"\n",
    "    | e::q -> (Hashtbl.find dinv e)^lzw_decode dinv q"
   ]
  },
  {
   "cell_type": "code",
   "execution_count": 20,
   "metadata": {
    "execution": {
     "iopub.execute_input": "2022-04-24T09:07:08.304485Z",
     "iopub.status.busy": "2022-04-24T09:07:08.304046Z",
     "iopub.status.idle": "2022-04-24T09:07:08.311609Z",
     "shell.execute_reply": "2022-04-24T09:07:08.311185Z"
    }
   },
   "outputs": [
    {
     "data": {
      "text/plain": [
       "val code : int list =\n",
       "  [0; 1; 2; 3; 4; 5; 6; 7; 8; 9; 10; 11; 12; 2; 12; 13; 9; 2; 14; 1; 70; 13;\n",
       "   14; 66; 70; 15; 8; 1; 8; 70; 12; 74; 1; 6; 59; 3; 11; 16; 8; 5; 14; 17;\n",
       "   18; 2; 19; 20; 84; 73; 7; 14; 21; 9; 8; 91; 13; 71; 74; 102; 6; 22; 17;\n",
       "   23; 7; 3; 109; 111; 2; 22; 12; 7; 69; 9; 9; 3; 1; 114; 70; 7; 118; 13; 6;\n",
       "   14; 19; 7; 70; 76; 70; 21; 4; 3; 13; 13; 70; 19; 70; 22; 7; 6; 16; 4; 17;\n",
       "   24; 69; 13; 25; 2; 26; 70; 11; 6; 74; 61; 63; 65; 67; 69; 2; 27; 86; 132;\n",
       "   101; 20; 28; 4; 29; 30; 10; 31; 17; 32; 65; 33; 11; 17; 34; 2; 35; 12; 92;\n",
       "   120; 16; 70; 36; 2; 37; 38; 39; 40; 37; 34; 39; 41; 202; 37; 42; 37; 43;\n",
       "   39; 44; 39; 45; 46; 47; 48; 2; 90; 11; 178; 76; 2; 11; 121; 10; 118; 228;\n",
       "   109; 21; 176; 124; 126; 13; 131; 101; 14; 2; 49; 50; 78; 8; 158; 145; 12;\n",
       "   162; 164; 101; 6; 228; 84; 70; 51; 80; 2; 118; 9; 139; 86; 2; 4; 72; 60;\n",
       "   62; 64; 66; 68; 266; 72; 168; 22; 125; 157; 23; 264; 20; 169; 269; 172; 8;\n",
       "   257; 249; 2; 52; 59; 141; 9; 154; 14; 27; 70; 3; 14; 53; 138; 7; 102; 10;\n",
       "   258; 151; 112; 281; 171; 271; 112; 19; 131; 309; 70; 223; 16; 141; 14;\n",
       "   149; 305; 275; 4; 8; 21; 121; 110; 1; 112; 9; 12; 4; 265; 112; 285; 264;\n",
       "   82; 91; 108; 325; 77; 69; 177; 304; 2; 64; 19; 84; 121; 12; 14; 7; 13; 54;\n",
       "   221; 146; 2; 21; ...]\n",
       "val dinv : (int, string) Hashtbl.t = <abstr>\n"
      ]
     },
     "execution_count": 20,
     "metadata": {},
     "output_type": "execute_result"
    }
   ],
   "source": [
    "let code, dinv = lzw_code text"
   ]
  },
  {
   "cell_type": "code",
   "execution_count": 21,
   "metadata": {
    "execution": {
     "iopub.execute_input": "2022-04-24T09:07:08.313216Z",
     "iopub.status.busy": "2022-04-24T09:07:08.312809Z",
     "iopub.status.idle": "2022-04-24T09:07:08.315442Z",
     "shell.execute_reply": "2022-04-24T09:07:08.315036Z"
    }
   },
   "outputs": [
    {
     "data": {
      "text/plain": [
       "- : string =\n",
       "\"Un algorithme est une suite finie et non ambiguë d'instructions et d'opérations permettant de résoudre une classe de problèmes. Le mot algorithme vient d'Al-Khwârizmî (en arabe : الخوارزمي)2, nom d'un mathématicien persan du IXe siècle. Le domaine qui étudie les algorithmes est ap\"... (* string length 620; truncated *)\n"
      ]
     },
     "execution_count": 21,
     "metadata": {},
     "output_type": "execute_result"
    }
   ],
   "source": [
    "lzw_decode dinv code"
   ]
  },
  {
   "cell_type": "code",
   "execution_count": 22,
   "metadata": {
    "execution": {
     "iopub.execute_input": "2022-04-24T09:07:08.317053Z",
     "iopub.status.busy": "2022-04-24T09:07:08.316648Z",
     "iopub.status.idle": "2022-04-24T09:07:08.318311Z",
     "shell.execute_reply": "2022-04-24T09:07:08.318633Z"
    }
   },
   "outputs": [
    {
     "data": {
      "text/plain": [
       "- : int = 385\n"
      ]
     },
     "execution_count": 22,
     "metadata": {},
     "output_type": "execute_result"
    }
   ],
   "source": [
    "List.length code"
   ]
  },
  {
   "cell_type": "markdown",
   "metadata": {},
   "source": [
    "Le facteur de compression est cette fois de $\\approx 38\\%$ (soit légèrement moins bien que la compression de Huffman) :"
   ]
  },
  {
   "cell_type": "code",
   "execution_count": 23,
   "metadata": {
    "execution": {
     "iopub.execute_input": "2022-04-24T09:07:08.320148Z",
     "iopub.status.busy": "2022-04-24T09:07:08.319744Z",
     "iopub.status.idle": "2022-04-24T09:07:08.322110Z",
     "shell.execute_reply": "2022-04-24T09:07:08.321732Z"
    }
   },
   "outputs": [
    {
     "data": {
      "text/plain": [
       "- : float = 0.379032258064516125\n"
      ]
     },
     "execution_count": 23,
     "metadata": {},
     "output_type": "execute_result"
    }
   ],
   "source": [
    "1. -. 385./.620."
   ]
  }
 ],
 "metadata": {
  "kernelspec": {
   "display_name": "OCaml default",
   "language": "OCaml",
   "name": "ocaml-jupyter"
  },
  "language_info": {
   "codemirror_mode": "text/x-ocaml",
   "file_extension": ".ml",
   "mimetype": "text/x-ocaml",
   "name": "OCaml",
   "nbconverter_exporter": null,
   "pygments_lexer": "OCaml",
   "version": "4.08.1"
  }
 },
 "nbformat": 4,
 "nbformat_minor": 4
}
