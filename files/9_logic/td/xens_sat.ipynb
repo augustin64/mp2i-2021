{
 "cells": [
  {
   "cell_type": "markdown",
   "metadata": {},
   "source": [
    "# <center><a href='https://notebook.basthon.fr/?from=https://raw.githubusercontent.com/mp2i-info/mp2i-info.github.io/main/files/9_logic/td/xens_sat.ipynb'>X-ENS 2016 (Problème SAT) : Corrigé <img src=https://framagit.org/uploads/-/system/project/avatar/55763/basthon_shadow.png width=100></a></center>\n",
    "\n",
    "## Préliminaires"
   ]
  },
  {
   "cell_type": "code",
   "execution_count": 1,
   "metadata": {
    "vscode": {
     "languageId": "ocaml"
    }
   },
   "outputs": [
    {
     "data": {
      "text/plain": [
       "type litteral = V of int | NV of int\n"
      ]
     },
     "execution_count": 1,
     "metadata": {},
     "output_type": "execute_result"
    },
    {
     "data": {
      "text/plain": [
       "type clause = litteral list\n"
      ]
     },
     "execution_count": 1,
     "metadata": {},
     "output_type": "execute_result"
    },
    {
     "data": {
      "text/plain": [
       "type fnc = clause list\n"
      ]
     },
     "execution_count": 1,
     "metadata": {},
     "output_type": "execute_result"
    }
   ],
   "source": [
    "type litteral =\n",
    "|V of int (* variable *)\n",
    "|NV of int;; (* negation de variable *)\n",
    "type clause = litteral list;;\n",
    "type fnc = clause list;;"
   ]
  },
  {
   "cell_type": "code",
   "execution_count": 2,
   "metadata": {
    "vscode": {
     "languageId": "ocaml"
    }
   },
   "outputs": [
    {
     "data": {
      "text/plain": [
       "val max_clause : litteral list -> int = <fun>\n"
      ]
     },
     "execution_count": 2,
     "metadata": {},
     "output_type": "execute_result"
    },
    {
     "data": {
      "text/plain": [
       "val var_max : litteral list list -> int = <fun>\n"
      ]
     },
     "execution_count": 2,
     "metadata": {},
     "output_type": "execute_result"
    }
   ],
   "source": [
    "let rec max_clause = function\n",
    "    | [] -> min_int\n",
    "    | (V x)::q' | (NV x)::q' -> max x (max_clause q');;\n",
    "\n",
    "let rec var_max f = match f with\n",
    "    | [] -> min_int\n",
    "    | c::q -> max (max_clause c) (var_max q)"
   ]
  },
  {
   "cell_type": "code",
   "execution_count": 3,
   "metadata": {
    "vscode": {
     "languageId": "ocaml"
    }
   },
   "outputs": [
    {
     "data": {
      "text/plain": [
       "type trileen = Vrai | Faux | Indetermine\n"
      ]
     },
     "execution_count": 3,
     "metadata": {},
     "output_type": "execute_result"
    }
   ],
   "source": [
    "type trileen = Vrai|Faux|Indetermine;;"
   ]
  },
  {
   "cell_type": "markdown",
   "metadata": {},
   "source": [
    "## Partie I. Résolution de 1-SAT"
   ]
  },
  {
   "cell_type": "code",
   "execution_count": 4,
   "metadata": {
    "vscode": {
     "languageId": "ocaml"
    }
   },
   "outputs": [
    {
     "data": {
      "text/plain": [
       "val un_sat : litteral list list -> bool = <fun>\n"
      ]
     },
     "execution_count": 4,
     "metadata": {},
     "output_type": "execute_result"
    }
   ],
   "source": [
    "let un_sat f =\n",
    "    let t = Array.make (1 + var_max f) Indetermine in\n",
    "    let rec aux = function\n",
    "        | [] -> true\n",
    "        | [V x]::q -> if t.(x) = Faux then false else (t.(x) <- Vrai; aux q)\n",
    "        | [NV x]::q -> if t.(x) = Vrai then false else (t.(x) <- Faux; aux q)\n",
    "        | _ -> failwith \"not 1SAT\" in\n",
    "    aux f"
   ]
  },
  {
   "cell_type": "code",
   "execution_count": 5,
   "metadata": {
    "vscode": {
     "languageId": "ocaml"
    }
   },
   "outputs": [
    {
     "data": {
      "text/plain": [
       "- : bool = true\n"
      ]
     },
     "execution_count": 5,
     "metadata": {},
     "output_type": "execute_result"
    }
   ],
   "source": [
    "let f = [[V 0]; [NV 1]; [NV 1]] in\n",
    "un_sat f"
   ]
  },
  {
   "cell_type": "markdown",
   "metadata": {},
   "source": [
    "## Partie II. Résolution de 2-SAT"
   ]
  },
  {
   "cell_type": "code",
   "execution_count": 6,
   "metadata": {
    "vscode": {
     "languageId": "ocaml"
    }
   },
   "outputs": [
    {
     "data": {
      "text/plain": [
       "val dfs_tri : int list array -> int list = <fun>\n"
      ]
     },
     "execution_count": 6,
     "metadata": {},
     "output_type": "execute_result"
    }
   ],
   "source": [
    "let dfs_tri g =\n",
    "    let deja_vu = Array.make (Array.length g) false in\n",
    "    let resultat = ref [] in\n",
    "    let rec dfs_rec i =\n",
    "        if not deja_vu.(i) then (\n",
    "            deja_vu.(i) <- true;\n",
    "        List.iter dfs_rec g.(i); (* voir page 2 pour la d´efinition de do list *)\n",
    "        resultat := i :: !resultat;\n",
    "        ) in\n",
    "    for i = 0 to Array.length g - 1 do dfs_rec i done;\n",
    "    !resultat;;"
   ]
  },
  {
   "cell_type": "code",
   "execution_count": 7,
   "metadata": {
    "vscode": {
     "languageId": "ocaml"
    }
   },
   "outputs": [
    {
     "data": {
      "text/plain": [
       "val renverser : int list array -> int list array = <fun>\n"
      ]
     },
     "execution_count": 7,
     "metadata": {},
     "output_type": "execute_result"
    }
   ],
   "source": [
    "let renverser g =\n",
    "    let n = Array.length g in\n",
    "    let t = Array.make n [] in\n",
    "    for i = 0 to n - 1 do\n",
    "        List.iter (fun v -> t.(v) <- i::t.(v)) g.(i)\n",
    "    done;\n",
    "    t"
   ]
  },
  {
   "cell_type": "code",
   "execution_count": 8,
   "metadata": {
    "vscode": {
     "languageId": "ocaml"
    }
   },
   "outputs": [
    {
     "data": {
      "text/plain": [
       "val dfs_cfc : int list array -> int list -> int list list = <fun>\n"
      ]
     },
     "execution_count": 8,
     "metadata": {},
     "output_type": "execute_result"
    }
   ],
   "source": [
    "(* 6 *)\n",
    "let dfs_cfc g l = \n",
    "    let deja_vu = Array.make (Array.length g) false in\n",
    "    let dfs g v =\n",
    "        let resultat = ref [] in\n",
    "        let rec dfs_rec i =\n",
    "            if not deja_vu.(i) then (\n",
    "                deja_vu.(i) <- true;\n",
    "            List.iter dfs_rec g.(i); (* voir page 2 pour la d´efinition de do list *)\n",
    "            resultat := i :: !resultat;\n",
    "            ) in\n",
    "        dfs_rec v;\n",
    "        !resultat in\n",
    "    List.map (dfs g) l\n",
    "    |> List.filter ((<>) [])"
   ]
  },
  {
   "cell_type": "code",
   "execution_count": 9,
   "metadata": {
    "vscode": {
     "languageId": "ocaml"
    }
   },
   "outputs": [
    {
     "data": {
      "text/plain": [
       "val g : int list array =\n",
       "  [|[]; [4; 3]; [3]; [2; 0]; [0; 1]; [2; 7]; [5; 1; 2]; [6]|]\n"
      ]
     },
     "execution_count": 9,
     "metadata": {},
     "output_type": "execute_result"
    }
   ],
   "source": [
    "let g = [|[]; [4; 3]; [3]; [2; 0]; [0; 1]; [2; 7]; [5; 1; 2]; [6]|]"
   ]
  },
  {
   "cell_type": "code",
   "execution_count": 10,
   "metadata": {
    "vscode": {
     "languageId": "ocaml"
    }
   },
   "outputs": [
    {
     "data": {
      "text/plain": [
       "val cfc : int list array -> int list list = <fun>\n"
      ]
     },
     "execution_count": 10,
     "metadata": {},
     "output_type": "execute_result"
    }
   ],
   "source": [
    "let cfc g =\n",
    "    let l = dfs_tri g in\n",
    "    let g' = renverser g in\n",
    "    dfs_cfc g' l"
   ]
  },
  {
   "cell_type": "code",
   "execution_count": 11,
   "metadata": {
    "vscode": {
     "languageId": "ocaml"
    }
   },
   "outputs": [
    {
     "data": {
      "text/plain": [
       "- : int list list = [[5; 6; 7]; [1; 4]; [3; 2]; [0]]\n"
      ]
     },
     "execution_count": 11,
     "metadata": {},
     "output_type": "execute_result"
    }
   ],
   "source": [
    "cfc g"
   ]
  },
  {
   "cell_type": "code",
   "execution_count": 17,
   "metadata": {
    "vscode": {
     "languageId": "ocaml"
    }
   },
   "outputs": [
    {
     "data": {
      "text/plain": [
       "val f : litteral list list = [[V 1; V 2]; [V 0]; [V 2; NV 2]; [NV 2; V 0]]\n"
      ]
     },
     "execution_count": 17,
     "metadata": {},
     "output_type": "execute_result"
    }
   ],
   "source": [
    "(* Q 12 *)\n",
    "let f = [[V 1; V 2]; [V 0]; [V 2; NV 2]; [NV 2; V 0]] "
   ]
  },
  {
   "cell_type": "code",
   "execution_count": 18,
   "metadata": {
    "vscode": {
     "languageId": "ocaml"
    }
   },
   "outputs": [
    {
     "data": {
      "text/plain": [
       "val sat_vers_graphe : litteral list list -> int list array = <fun>\n"
      ]
     },
     "execution_count": 18,
     "metadata": {},
     "output_type": "execute_result"
    }
   ],
   "source": [
    "(* Q13 *)\n",
    "let sat_vers_graphe f =\n",
    "    let m = var_max f in\n",
    "    let g = Array.make (2*(m + 1)) [] in\n",
    "    let add i e = g.(i) <- e::g.(i) in\n",
    "    let rec aux = function\n",
    "        | [] -> g\n",
    "        | [V i]::q -> add (2*i + 1) (2*i); aux q\n",
    "        | [NV i]::q -> add (2*i) (2*i + 1); aux q\n",
    "        | [V i; V j]::q -> add (2*i + 1) (2*j); add (2*j + 1) (2*i); aux q\n",
    "        | [NV i; NV j]::q -> add (2*i) (2*j + 1); add (2*j) (2*i + 1); aux q\n",
    "        | [V i; NV j]::q when i = j -> aux q\n",
    "        | [V i; NV j]::q -> add (2*i + 1) (2*j + 1); add (2*j) (2*i); aux q\n",
    "        | [a; b]::q -> aux ([b; a]::q)\n",
    "        | _::q -> aux q in\n",
    "    aux f"
   ]
  },
  {
   "cell_type": "code",
   "execution_count": 19,
   "metadata": {
    "vscode": {
     "languageId": "ocaml"
    }
   },
   "outputs": [
    {
     "data": {
      "text/plain": [
       "- : int list array = [|[]; [5; 0]; []; [4]; [0]; [2]|]\n"
      ]
     },
     "execution_count": 19,
     "metadata": {},
     "output_type": "execute_result"
    }
   ],
   "source": [
    "sat_vers_graphe f"
   ]
  },
  {
   "cell_type": "code",
   "execution_count": 20,
   "metadata": {
    "vscode": {
     "languageId": "ocaml"
    }
   },
   "outputs": [
    {
     "data": {
      "text/plain": [
       "val deux_sat : litteral list list -> bool = <fun>\n"
      ]
     },
     "execution_count": 20,
     "metadata": {},
     "output_type": "execute_result"
    }
   ],
   "source": [
    "let deux_sat f =\n",
    "    let t = Array.make (Array.length g /2) 0 in (* t.(i) = xi ou not xi déjà vu *) \n",
    "    let rec aux i cc = match cc with\n",
    "        | [] -> true\n",
    "        | c::q -> let rec aux2 = function \n",
    "            | [] -> true\n",
    "            | v::q -> if t.(v / 2) = i then false\n",
    "                else (t.(v/2) <- i; aux2 q) in\n",
    "            (aux2 c) && aux (i + 1) q in\n",
    "    f |> sat_vers_graphe |> cfc |> aux 1 "
   ]
  },
  {
   "cell_type": "code",
   "execution_count": 21,
   "metadata": {
    "vscode": {
     "languageId": "ocaml"
    }
   },
   "outputs": [
    {
     "data": {
      "text/plain": [
       "val f2 : litteral list list =\n",
       "  [[V 1; V 2]; [V 0]; [V 2; NV 2]; [NV 2; V 0]; [NV 0]]\n"
      ]
     },
     "execution_count": 21,
     "metadata": {},
     "output_type": "execute_result"
    }
   ],
   "source": [
    "let f2 = [[V 1; V 2]; [V 0]; [V 2; NV 2]; [NV 2; V 0]; [NV 0]]"
   ]
  },
  {
   "cell_type": "code",
   "execution_count": 22,
   "metadata": {
    "vscode": {
     "languageId": "ocaml"
    }
   },
   "outputs": [
    {
     "data": {
      "text/plain": [
       "- : bool = false\n"
      ]
     },
     "execution_count": 22,
     "metadata": {},
     "output_type": "execute_result"
    }
   ],
   "source": [
    "deux_sat f2"
   ]
  },
  {
   "cell_type": "markdown",
   "metadata": {},
   "source": [
    "## Partie III. Résolution de k-SAT pour k arbitraire"
   ]
  },
  {
   "cell_type": "code",
   "execution_count": 23,
   "metadata": {
    "vscode": {
     "languageId": "ocaml"
    }
   },
   "outputs": [
    {
     "data": {
      "text/plain": [
       "type trileen = Vrai | Faux | Indetermine\n"
      ]
     },
     "execution_count": 23,
     "metadata": {},
     "output_type": "execute_result"
    }
   ],
   "source": [
    "type trileen =\n",
    "|Vrai\n",
    "|Faux\n",
    "|Indetermine;;"
   ]
  },
  {
   "cell_type": "code",
   "execution_count": 24,
   "metadata": {
    "vscode": {
     "languageId": "ocaml"
    }
   },
   "outputs": [
    {
     "data": {
      "text/plain": [
       "val et : trileen -> trileen -> trileen = <fun>\n"
      ]
     },
     "execution_count": 24,
     "metadata": {},
     "output_type": "execute_result"
    },
    {
     "data": {
      "text/plain": [
       "val non : trileen -> trileen = <fun>\n"
      ]
     },
     "execution_count": 24,
     "metadata": {},
     "output_type": "execute_result"
    },
    {
     "data": {
      "text/plain": [
       "val ou : trileen -> trileen -> trileen = <fun>\n"
      ]
     },
     "execution_count": 24,
     "metadata": {},
     "output_type": "execute_result"
    }
   ],
   "source": [
    "let et f g = match f, g with\n",
    "    | Vrai, Vrai -> Vrai\n",
    "    | Faux, _ | _, Faux -> Faux\n",
    "    | _ -> Indetermine;;\n",
    "let non = function\n",
    "    | Vrai -> Faux\n",
    "    | Faux -> Vrai\n",
    "    | Indetermine -> Indetermine;;\n",
    "let ou f g = match f, g with\n",
    "    | Vrai, _ | _, Vrai -> Vrai\n",
    "    | Faux, Faux -> Faux\n",
    "    | _ -> Indetermine"
   ]
  },
  {
   "cell_type": "code",
   "execution_count": 25,
   "metadata": {
    "vscode": {
     "languageId": "ocaml"
    }
   },
   "outputs": [
    {
     "data": {
      "text/plain": [
       "val eval_clause : trileen array -> litteral list -> trileen = <fun>\n"
      ]
     },
     "execution_count": 25,
     "metadata": {},
     "output_type": "execute_result"
    },
    {
     "data": {
      "text/plain": [
       "val eval : litteral list list -> trileen array -> trileen = <fun>\n"
      ]
     },
     "execution_count": 25,
     "metadata": {},
     "output_type": "execute_result"
    }
   ],
   "source": [
    "let rec eval_clause v = function\n",
    "    | [] -> Faux\n",
    "    | (V x)::q -> ou v.(x) (eval_clause v q)\n",
    "    | (NV x)::q -> ou (non v.(x)) (eval_clause v q);;\n",
    "    \n",
    "let rec eval f v = match f with\n",
    "    | [] -> Vrai\n",
    "    | c::q -> et (eval_clause v c) (eval q v)"
   ]
  },
  {
   "cell_type": "code",
   "execution_count": 30,
   "metadata": {
    "vscode": {
     "languageId": "ocaml"
    }
   },
   "outputs": [
    {
     "data": {
      "text/plain": [
       "val k_sat : litteral list list -> bool = <fun>\n"
      ]
     },
     "execution_count": 30,
     "metadata": {},
     "output_type": "execute_result"
    }
   ],
   "source": [
    "let k_sat f =\n",
    "  let t = Array.make (1 + var_max f) Indetermine in\n",
    "  let rec aux i =\n",
    "    if i > List.length f then true\n",
    "    else match eval f t with\n",
    "      | Vrai -> true\n",
    "      | Faux -> false\n",
    "      | Indetermine -> (t.(i) <- Vrai; aux (i + 1)) || (t.(i) <- Faux; aux (i + 1)) in\n",
    "  aux 0"
   ]
  },
  {
   "cell_type": "code",
   "execution_count": 33,
   "metadata": {
    "vscode": {
     "languageId": "ocaml"
    }
   },
   "outputs": [
    {
     "data": {
      "text/plain": [
       "- : bool = true\n"
      ]
     },
     "execution_count": 33,
     "metadata": {},
     "output_type": "execute_result"
    },
    {
     "data": {
      "text/plain": [
       "- : bool = true\n"
      ]
     },
     "execution_count": 33,
     "metadata": {},
     "output_type": "execute_result"
    }
   ],
   "source": [
    "not (k_sat [[V 0]; [NV 1]; [V 1]]);;\n",
    "k_sat [[V 0; NV 1; V 0]; [NV 0]; [V 1; V 2]];;"
   ]
  }
 ],
 "metadata": {
  "kernelspec": {
   "display_name": "OCaml default",
   "language": "OCaml",
   "name": "ocaml-jupyter"
  },
  "language_info": {
   "codemirror_mode": "text/x-ocaml",
   "file_extension": ".ml",
   "mimetype": "text/x-ocaml",
   "name": "OCaml",
   "nbconverter_exporter": null,
   "pygments_lexer": "OCaml",
   "version": "4.08.1"
  }
 },
 "nbformat": 4,
 "nbformat_minor": 2
}
