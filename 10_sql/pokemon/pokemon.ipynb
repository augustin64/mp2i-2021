{
 "cells": [
  {
   "cell_type": "markdown",
   "metadata": {},
   "source": [
    "# <center><a href='https://notebook.basthon.fr/sql/?from=https://raw.githubusercontent.com/mp2i-fsm/mp2i-2021/main/10_sql/pokemon/pokemon.ipynb&module=https://raw.githubusercontent.com/mp2i-fsm/mp2i-2021/main/10_sql/pokemon/pokemon.sql'>Exemple : Pokémon <img src=https://framagit.org/uploads/-/system/project/avatar/55763/basthon_shadow.png width=100></a></center>\n",
    "[**Diagramme de la base de donnée**](https://dbdiagram.io/d/62853fe17f945876b6459548)\n",
    "\n",
    "Les données ont été obtenues sur [https://github.com/bthouverez/Pokemon-BDD](https://github.com/bthouverez/Pokemon-BDD)\n",
    "\n",
    "Voici une commande pour afficher le schéma de chaque table :"
   ]
  },
  {
   "cell_type": "code",
   "execution_count": null,
   "metadata": {
    "vscode": {
     "languageId": "sql"
    }
   },
   "outputs": [],
   "source": [
    ".schema"
   ]
  },
  {
   "cell_type": "markdown",
   "metadata": {},
   "source": [
    "Les clés primaires sont indiquées avec `PRIMARY KEY`.  \n",
    "Dans la table `evolue_en`, `FOREIGN KEY(pokemon_evol_id) REFERENCES pokemons(id)` indique que `pokemon_evol_id` est une clé étrangère de `evolue_en` et qu'elle fait référence à la clé primaire `id` de la table `pokemons`."
   ]
  },
  {
   "cell_type": "markdown",
   "metadata": {},
   "source": [
    "## Opérations ensemblistes\n",
    "\n",
    "### Union : UNION\n",
    "\n",
    "Pour obtenir une table contenant les pokémons et les dresseurs :"
   ]
  },
  {
   "cell_type": "code",
   "execution_count": null,
   "metadata": {
    "vscode": {
     "languageId": "sql"
    }
   },
   "outputs": [],
   "source": [
    "SELECT * FROM pokemons UNION SELECT * FROM dresseurs"
   ]
  },
  {
   "cell_type": "markdown",
   "metadata": {},
   "source": [
    "### Intersection : INTERSECT\n",
    "\n",
    "Il n'y a aucun pokémon qui est aussi un dresseur :"
   ]
  },
  {
   "cell_type": "code",
   "execution_count": null,
   "metadata": {
    "vscode": {
     "languageId": "sql"
    }
   },
   "outputs": [],
   "source": [
    "SELECT * FROM pokemons INTERSECT SELECT * FROM dresseurs"
   ]
  },
  {
   "cell_type": "markdown",
   "metadata": {},
   "source": [
    "### Différence : EXCEPT"
   ]
  },
  {
   "cell_type": "markdown",
   "metadata": {},
   "source": [
    "Comme aucun pokémon n'est un dresseur, prendre la différence renvoie la même table que `pokemons` :"
   ]
  },
  {
   "cell_type": "code",
   "execution_count": null,
   "metadata": {
    "vscode": {
     "languageId": "sql"
    }
   },
   "outputs": [],
   "source": [
    "SELECT * FROM pokemons EXCEPT SELECT * FROM dresseurs"
   ]
  },
  {
   "cell_type": "markdown",
   "metadata": {},
   "source": [
    "## Produit cartésien\n",
    "\n",
    "Un produit cartésien de deux tables R1 et R2 donne toutes les façons de combiner un enregistrement de R1 et un enregistrement de R2 :"
   ]
  },
  {
   "cell_type": "code",
   "execution_count": null,
   "metadata": {
    "vscode": {
     "languageId": "sql"
    }
   },
   "outputs": [],
   "source": [
    "SELECT * FROM types, dresseurs"
   ]
  },
  {
   "cell_type": "markdown",
   "metadata": {},
   "source": [
    "**Remarque** : La requête ci-dessus n'a aucun intérêt, c'est juste un exemple de produit cartésien..."
   ]
  },
  {
   "cell_type": "markdown",
   "metadata": {},
   "source": [
    "## Ambigüité\n",
    "\n",
    "Si la même colonne est présente dans plusieurs tables, il faut lever l'ambigüité en préfixant par le nom de la table :"
   ]
  },
  {
   "cell_type": "code",
   "execution_count": null,
   "metadata": {
    "vscode": {
     "languageId": "sql"
    }
   },
   "outputs": [],
   "source": [
    "SELECT nom FROM pokemons, dresseurs -- nom est un attribut des 2 tables"
   ]
  },
  {
   "cell_type": "code",
   "execution_count": null,
   "metadata": {
    "vscode": {
     "languageId": "sql"
    }
   },
   "outputs": [],
   "source": [
    "SELECT pokemons.nom FROM pokemons, dresseurs -- ok"
   ]
  },
  {
   "cell_type": "markdown",
   "metadata": {},
   "source": [
    "## Jointure simple"
   ]
  },
  {
   "cell_type": "markdown",
   "metadata": {
    "tags": [
     "exo"
    ]
   },
   "source": [
    "**Exercice** : Écrire une requête SQL pour afficher le nom de chaque pokémon avec son niveau d'évolution."
   ]
  },
  {
   "cell_type": "markdown",
   "metadata": {},
   "source": [
    "## Renommage\n",
    "\n",
    "Il est possible de renommer un attribut avec `AS` :"
   ]
  },
  {
   "cell_type": "code",
   "execution_count": null,
   "metadata": {
    "vscode": {
     "languageId": "sql"
    }
   },
   "outputs": [],
   "source": [
    "SELECT libelle as nom, pp as point_de_pouvoir\n",
    "FROM attaques"
   ]
  },
  {
   "cell_type": "markdown",
   "metadata": {},
   "source": [
    "Si on renomme une colonne, il faut ensuite y faire référence avec le nouveau nom :"
   ]
  },
  {
   "cell_type": "code",
   "execution_count": null,
   "metadata": {
    "vscode": {
     "languageId": "sql"
    }
   },
   "outputs": [],
   "source": [
    "SELECT libelle as nom, pp as point_de_pouvoir\n",
    "FROM attaques\n",
    "WHERE point_de_pouvoir > 35"
   ]
  },
  {
   "cell_type": "markdown",
   "metadata": {},
   "source": [
    "On peut aussi renommer une table :"
   ]
  },
  {
   "cell_type": "code",
   "execution_count": null,
   "metadata": {
    "scrolled": true,
    "vscode": {
     "languageId": "sql"
    }
   },
   "outputs": [],
   "source": [
    "SELECT d.niveau FROM detient_pokemons AS d"
   ]
  },
  {
   "cell_type": "markdown",
   "metadata": {
    "tags": [
     "exo"
    ]
   },
   "source": [
    "**Exercice** : Écrire une requête SQL pour afficher le nom de chaque attaque avec son type."
   ]
  },
  {
   "cell_type": "markdown",
   "metadata": {},
   "source": [
    "## Jointures multiples\n",
    "\n",
    "Si on a besoin de $3$ tables (ou plus), on peut enchaîner plusieurs `JOIN` :\n",
    "```sql\n",
    "FROM ... \n",
    "JOIN ... ON ... = ... \n",
    "JOIN ... ON ... = ...\n",
    "```"
   ]
  },
  {
   "cell_type": "markdown",
   "metadata": {
    "tags": [
     "exo"
    ]
   },
   "source": [
    "**Exercice** : Afficher chaque dresseur avec chacun de ses pokémons."
   ]
  },
  {
   "cell_type": "markdown",
   "metadata": {},
   "source": [
    "## Auto-jointure\n",
    "\n",
    "Parfois, il est nécessaire d'utiliser plusieurs fois la même table, donc de joindre une table avec elle-même."
   ]
  },
  {
   "cell_type": "markdown",
   "metadata": {
    "tags": [
     "exo"
    ]
   },
   "source": [
    "**Exercice** : Afficher chaque pokémon avec son évolution et son niveau d'évolution."
   ]
  },
  {
   "cell_type": "markdown",
   "metadata": {},
   "source": [
    "## LEFT JOIN"
   ]
  },
  {
   "cell_type": "markdown",
   "metadata": {
    "tags": [
     "exo"
    ]
   },
   "source": [
    "**Exercice** : Écrire une requête SQL pour afficher chaque pokémon avec son évolution. S'il n'a pas d'évolution, on affichera `null`."
   ]
  }
 ],
 "metadata": {
  "celltoolbar": "Tags",
  "kernelspec": {
   "display_name": "SQL",
   "language": "sql",
   "name": "sql"
  }
 },
 "nbformat": 4,
 "nbformat_minor": 2
}
