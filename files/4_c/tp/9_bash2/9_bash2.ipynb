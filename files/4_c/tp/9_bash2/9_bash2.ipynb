{
 "cells": [
  {
   "cell_type": "markdown",
   "id": "db367279-4804-41aa-9779-69d87eab5563",
   "metadata": {},
   "source": [
    "# <center><a href='https://notebook.basthon.fr/?from=https://raw.githubusercontent.com/mp2i-info/mp2i-info.github.io/main/files/4_c/tp/9_bash2/9_bash2.ipynb'>TP 9 : Réécriture de commandes du terminal <img src=https://framagit.org/uploads/-/system/project/avatar/55763/basthon_shadow.png width=100></a></center>\n",
    "\n",
    "Dans ce TP, on veut réécrire les fonctions classiques du terminal (revoir TP 6 et TP 7).\n",
    "\n",
    "Pour cela, on va utiliser deux arguments pour la fonction `main` :  \n",
    "- `argv` : tableau de chaîne de caractères (donc un tableau un tableaux, puisque une chaîne de caractères est un tableau). Le premier élément de `argv` est le nom du programme qui exécute `main`.  \n",
    "- `argc` : taille de `argv`\n",
    "\n",
    "Par exemple, voici comment on pourrait réécrire la commande `echo` du terminal (qui se contente d'afficher ses arguments) :"
   ]
  },
  {
   "cell_type": "code",
   "execution_count": 5,
   "id": "397d073d-4a8d-4bfc-b7ef-c4f1e47fa9ae",
   "metadata": {},
   "outputs": [
    {
     "name": "stdout",
     "output_type": "stream",
     "text": [
      "#include <stdio.h>\n",
      "\n",
      "int main(int argc, char* argv[]) {\n",
      "    for(int i = 1; i < argc; i++)\n",
      "        printf(\"%s \", argv[i]);\n",
      "}"
     ]
    }
   ],
   "source": [
    "! cat echo/echo.c"
   ]
  },
  {
   "cell_type": "code",
   "execution_count": 6,
   "id": "30a83982-89bc-48e0-ad00-51b8d4dad3bc",
   "metadata": {},
   "outputs": [],
   "source": [
    "! gcc echo/echo.c -o echo/echo"
   ]
  },
  {
   "cell_type": "code",
   "execution_count": 7,
   "id": "bf9c618c-d3e9-475a-9a67-92b220024f5a",
   "metadata": {},
   "outputs": [
    {
     "name": "stdout",
     "output_type": "stream",
     "text": [
      "hello world "
     ]
    }
   ],
   "source": [
    "! ./echo/echo hello world"
   ]
  },
  {
   "cell_type": "markdown",
   "id": "514ff862-9674-4f8f-856c-fc72820937bb",
   "metadata": {},
   "source": [
    "## `cat`"
   ]
  },
  {
   "cell_type": "markdown",
   "id": "16c41e42-9557-4830-8619-c327bb659927",
   "metadata": {
    "tags": [
     "exo"
    ]
   },
   "source": [
    "**Exercice** : Réécrire la commande `cat`, qui prend en argument un chemin de fichier et affiche son contenu.  \n",
    "On pourra lire 50 caractères par 50 caractères dans le fichier (`fscanf(f, \"%50s\", s)`)."
   ]
  },
  {
   "cell_type": "code",
   "execution_count": 33,
   "id": "e1cd8e7a-7775-41f8-bfc5-a0426a3b71a0",
   "metadata": {},
   "outputs": [
    {
     "name": "stdout",
     "output_type": "stream",
     "text": [
      "./cat/cat#include<stdio.h>intmain(intargc,char*argv[]){printf(\"%s\",argv[0]);FILE*f=fopen(argv[1],\"r\");chars[50];while(fscanf(f,\"%50s\",s)!=EOF)printf(\"%s\",s);}"
     ]
    }
   ],
   "source": [
    "! ./cat/cat cat/cat.c"
   ]
  },
  {
   "cell_type": "markdown",
   "id": "339db4dd-a03c-428a-931a-438519806a04",
   "metadata": {},
   "source": [
    "## `grep`"
   ]
  },
  {
   "cell_type": "markdown",
   "id": "1b3a82d2-c530-4c20-a582-062fc3e336cd",
   "metadata": {
    "tags": [
     "exo"
    ]
   },
   "source": [
    "**Exercice** : Réécrire une variante de `grep`, avec 2 paramètres (un mot dans un chemin de fichier) et qui affiche les positions où le mot apparaît dans le fichier.  "
   ]
  },
  {
   "cell_type": "code",
   "execution_count": 43,
   "id": "bb2f2d58-b3cc-456c-ba01-dccd77c353d9",
   "metadata": {},
   "outputs": [],
   "source": [
    "!gcc grep/grep.c -o grep/grep"
   ]
  },
  {
   "cell_type": "code",
   "execution_count": 44,
   "id": "dd4f93e3-c152-475c-abbb-baf54beaae22",
   "metadata": {},
   "outputs": [
    {
     "name": "stdout",
     "output_type": "stream",
     "text": [
      "342#include<stdio.h>#include<stdlib.h>intmain(intargc,char*argv[]){FILE*f=fopen(argv[1],\"r\");intn=0;for(charc;fscanf(f,\"%c\",&c)!=EOF;n++);fclose(f);f=fopen(argv[1],\"r\");printf(\"%d\",n);char*s=malloc(n*sizeof(char));while(fscanf(f,\"%s\",s)!=EOF)printf(\"%s\",s);}"
     ]
    }
   ],
   "source": [
    "! ./grep/grep grep/grep.c "
   ]
  },
  {
   "cell_type": "markdown",
   "id": "458c5527-eb9e-4eef-aa72-0729ac7b7a25",
   "metadata": {},
   "source": [
    "## `ls`"
   ]
  },
  {
   "cell_type": "markdown",
   "id": "baabae04-2f66-4231-bdaa-e9031b080cba",
   "metadata": {},
   "source": [
    "**Exercice** : Réécrire `ls` pour lister les fichiers dans le répertoire courant. On pourra utiliser [getcwd](http://manpagesfr.free.fr/man/man3/getcwd.3.html) et [directory_iterator](https://en.cppreference.com/w/cpp/filesystem/directory_iterator) (qui est du C++ : il faut donc compiler avec g++ au lieu de gcc)."
   ]
  }
 ],
 "metadata": {
  "kernelspec": {
   "display_name": "C++14",
   "language": "C++14",
   "name": "xcpp14"
  },
  "language_info": {
   "codemirror_mode": "text/x-c++src",
   "file_extension": ".cpp",
   "mimetype": "text/x-c++src",
   "name": "c++",
   "version": "14"
  }
 },
 "nbformat": 4,
 "nbformat_minor": 5
}
