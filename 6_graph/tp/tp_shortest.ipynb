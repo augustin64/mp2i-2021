{
 "cells": [
  {
   "cell_type": "markdown",
   "metadata": {},
   "source": [
    "# <center><a href='https://mybinder.org/v2/gh/fortierq/binder-mp2i/main?urlpath=git-pull%3Frepo%3Dhttps%253A%252F%252Fgithub.com%252Fmp2i-fsm%252Fmp2i-2021%26urlpath%3Dlab%252Ftree%252Fmp2i-2021%252F6_graph%252Ftp%252Ftp_shortest.ipynb%26branch%3Dmain'>TP : Plus courts chemins et programmation dynamique <img src=https://mybinder.org/badge.svg></a></center>\n",
    "\n",
    "Le projet Euler est un site qui regroupe des problèmes de math/info. Commencez par vous inscrire sur https://projecteuler.net/register"
   ]
  },
  {
   "cell_type": "markdown",
   "metadata": {},
   "source": [
    "## Projet Euler : Problème 81"
   ]
  },
  {
   "cell_type": "markdown",
   "metadata": {
    "tags": []
   },
   "source": [
    "Résoudre le [problème 81](https://projecteuler.net/index.php?section=problems&id=81). Pour vous aider, voici une fonction pour charger la matrice :"
   ]
  },
  {
   "cell_type": "code",
   "execution_count": 1,
   "metadata": {
    "execution": {
     "iopub.execute_input": "2022-03-22T17:30:40.330775Z",
     "iopub.status.busy": "2022-03-22T17:30:40.330106Z",
     "iopub.status.idle": "2022-03-22T17:30:40.341626Z",
     "shell.execute_reply": "2022-03-22T17:30:40.342025Z"
    }
   },
   "outputs": [
    {
     "data": {
      "text/plain": [
       "val load_file : unit -> int array array = <fun>\n"
      ]
     },
     "execution_count": 1,
     "metadata": {},
     "output_type": "execute_result"
    }
   ],
   "source": [
    "let load_file () = \n",
    "  let f = open_in \"p081_matrix.txt\" in\n",
    "    let rec read () =\n",
    "      try (\n",
    "        let l = input_line f \n",
    "        |> String.split_on_char ',' \n",
    "        |> Array.of_list\n",
    "        |> Array.map int_of_string in\n",
    "        l::read ()\n",
    "      )\n",
    "    with End_of_file -> [] in\n",
    "    read () |> Array.of_list;;"
   ]
  },
  {
   "cell_type": "markdown",
   "metadata": {},
   "source": [
    "## Projet Euler : Problème 83\n",
    "\n",
    "Résoudre de [problème 83](https://projecteuler.net/problem=83). Vous pouvez utiliser la même matrice que précédemment."
   ]
  },
  {
   "cell_type": "markdown",
   "metadata": {},
   "source": [
    "## Google Hash Code : Art optimal\n",
    "\n",
    "Donner une solution pour [https://primers.xyz/0](https://primers.xyz/0), en coloriant de façon répétée le plus grand carré de 1 jusqu'à ce que toute l'image soit dessinée. Utiliser pour cela l'algorithme de programmation dynamique vu en TD."
   ]
  }
 ],
 "metadata": {
  "kernelspec": {
   "display_name": "OCaml default",
   "language": "OCaml",
   "name": "ocaml-jupyter"
  },
  "language_info": {
   "codemirror_mode": "text/x-ocaml",
   "file_extension": ".ml",
   "mimetype": "text/x-ocaml",
   "name": "OCaml",
   "nbconverter_exporter": null,
   "pygments_lexer": "OCaml",
   "version": "4.08.1"
  }
 },
 "nbformat": 4,
 "nbformat_minor": 4
}
