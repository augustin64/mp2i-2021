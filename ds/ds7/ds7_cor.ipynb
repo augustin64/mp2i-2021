{
 "cells": [
  {
   "cell_type": "markdown",
   "metadata": {},
   "source": [
    "# <center><a href='https://notebook.basthon.fr/?from=https://raw.githubusercontent.com/mp2i-fsm/mp2i-2021/main/ds/ds7/ds7_cor.ipynb'>DS 7 corrigé : Transformée de Burrows-Wheeler et compression bzip <img src=https://framagit.org/uploads/-/system/project/avatar/55763/basthon_shadow.png width=100></a></center>\n",
    "\n",
    "## Partie I. Compression par redondance"
   ]
  },
  {
   "cell_type": "code",
   "execution_count": 1,
   "metadata": {
    "execution": {
     "iopub.execute_input": "2022-05-02T16:43:34.175001Z",
     "iopub.status.busy": "2022-05-02T16:43:34.174181Z",
     "iopub.status.idle": "2022-05-02T16:43:34.178318Z",
     "shell.execute_reply": "2022-05-02T16:43:34.175518Z"
    },
    "vscode": {
     "languageId": "ocaml"
    }
   },
   "outputs": [
    {
     "ename": "error",
     "evalue": "compile_error",
     "output_type": "error",
     "traceback": [
      "File \"[1]\", line 1, characters 34-36:\n1 | void print_array(int* t, int n) { // pour vérification\n                                      ^^\nError: Syntax error\n"
     ]
    }
   ],
   "source": [
    "void print_array(int* t, int n) { // pour vérification\n",
    "    for(int i = 0; i < n; i++)\n",
    "        printf(\"%d \", t[i]);\n",
    "}\n",
    "\n",
    "int t[] = {0, 0, 3, 2, 3, 3, 3, 3, 3, 3, 5};\n",
    "int n = 11;"
   ]
  },
  {
   "cell_type": "code",
   "execution_count": 2,
   "metadata": {
    "execution": {
     "iopub.execute_input": "2022-05-02T16:43:34.181059Z",
     "iopub.status.busy": "2022-05-02T16:43:34.180376Z",
     "iopub.status.idle": "2022-05-02T16:43:34.184450Z",
     "shell.execute_reply": "2022-05-02T16:43:34.183949Z"
    },
    "vscode": {
     "languageId": "ocaml"
    }
   },
   "outputs": [
    {
     "ename": "error",
     "evalue": "compile_error",
     "output_type": "error",
     "traceback": [
      "File \"[2]\", line 1, characters 0-2:\n1 | // Q1. (/1.5)\n    ^^\nError: Syntax error\n"
     ]
    }
   ],
   "source": [
    "// Q1. (/1.5)\n",
    "int* occurrences(int* t, int n) {\n",
    "    int* r = (int*)malloc(256*sizeof(int));\n",
    "    for(int i = 0; i < 256; i++)\n",
    "        r[i] = 0;\n",
    "    for(int i = 0; i < n; i++)\n",
    "        r[t[i]]++;\n",
    "    return r;\n",
    "}\n",
    "\n",
    "print_array(occurrences(t, n), 256)"
   ]
  },
  {
   "cell_type": "code",
   "execution_count": 3,
   "metadata": {
    "execution": {
     "iopub.execute_input": "2022-05-02T16:43:34.186575Z",
     "iopub.status.busy": "2022-05-02T16:43:34.185988Z",
     "iopub.status.idle": "2022-05-02T16:43:34.188244Z",
     "shell.execute_reply": "2022-05-02T16:43:34.187776Z"
    },
    "vscode": {
     "languageId": "ocaml"
    }
   },
   "outputs": [
    {
     "ename": "error",
     "evalue": "compile_error",
     "output_type": "error",
     "traceback": [
      "File \"[3]\", line 1, characters 0-2:\n1 | // Q2. (/1)\n    ^^\nError: Syntax error\n"
     ]
    }
   ],
   "source": [
    "// Q2. (/1)\n",
    "int min(int* t, int n) {\n",
    "    int* r = occurrences(t, n);\n",
    "    int m = 0;\n",
    "    for(int i = 1; i < 256; i++)\n",
    "        if(r[i] < r[m])\n",
    "            m = i;\n",
    "    return m;\n",
    "}\n",
    "\n",
    "min(t, n)"
   ]
  },
  {
   "cell_type": "code",
   "execution_count": 4,
   "metadata": {
    "execution": {
     "iopub.execute_input": "2022-05-02T16:43:34.190573Z",
     "iopub.status.busy": "2022-05-02T16:43:34.189833Z",
     "iopub.status.idle": "2022-05-02T16:43:34.192486Z",
     "shell.execute_reply": "2022-05-02T16:43:34.191912Z"
    },
    "vscode": {
     "languageId": "ocaml"
    }
   },
   "outputs": [
    {
     "ename": "error",
     "evalue": "compile_error",
     "output_type": "error",
     "traceback": [
      "File \"[4]\", line 1, characters 0-2:\n1 | // Q3. (/2)\n    ^^\nError: Syntax error\n"
     ]
    }
   ],
   "source": [
    "// Q3. (/2)\n",
    "int tailleCodage(int* t, int n) {\n",
    "    int nprime = 1;\n",
    "    for(int i = 0; i < n; i++) {\n",
    "        if(i < n - 1 && t[i] == t[i + 1]) {\n",
    "            while(t[i] == t[i + 1])\n",
    "                i++;\n",
    "            nprime += 3;\n",
    "        } else\n",
    "            nprime++;\n",
    "    }\n",
    "    return nprime;\n",
    "}\n",
    "\n",
    "tailleCodage(t, n)"
   ]
  },
  {
   "cell_type": "code",
   "execution_count": 5,
   "metadata": {
    "execution": {
     "iopub.execute_input": "2022-05-02T16:43:34.194746Z",
     "iopub.status.busy": "2022-05-02T16:43:34.194093Z",
     "iopub.status.idle": "2022-05-02T16:43:34.196829Z",
     "shell.execute_reply": "2022-05-02T16:43:34.196349Z"
    },
    "vscode": {
     "languageId": "ocaml"
    }
   },
   "outputs": [
    {
     "ename": "error",
     "evalue": "compile_error",
     "output_type": "error",
     "traceback": [
      "File \"[5]\", line 1, characters 0-2:\n1 | // Q4. (/3)\n    ^^\nError: Syntax error\n"
     ]
    }
   ],
   "source": [
    "// Q4. (/3)\n",
    "int* codage(int* t, int n) {\n",
    "    int mu = min(t, n);\n",
    "    int nprime = tailleCodage(t, n);\n",
    "    int* tprime = (int*)malloc(nprime*sizeof(int));\n",
    "    int k = 1;\n",
    "    tprime[0] = mu;\n",
    "    for(int j = 0; j < n; j++) {\n",
    "        if(j < n - 1 && t[j] == t[j + 1]) {\n",
    "            int i = j;\n",
    "            while(t[j] == t[i])\n",
    "                j++;\n",
    "            j--;\n",
    "            tprime[k++] = mu;\n",
    "            tprime[k++] = j - i;\n",
    "        }\n",
    "        tprime[k++] = t[j];\n",
    "    }\n",
    "    return tprime;\n",
    "}\n",
    "\n",
    "int* tprime = codage(t, n);\n",
    "int nprime = tailleCodage(t, n);\n",
    "print_array(tprime, nprime)"
   ]
  },
  {
   "cell_type": "code",
   "execution_count": 6,
   "metadata": {
    "execution": {
     "iopub.execute_input": "2022-05-02T16:43:34.198910Z",
     "iopub.status.busy": "2022-05-02T16:43:34.198339Z",
     "iopub.status.idle": "2022-05-02T16:43:34.200928Z",
     "shell.execute_reply": "2022-05-02T16:43:34.200412Z"
    },
    "vscode": {
     "languageId": "ocaml"
    }
   },
   "outputs": [
    {
     "ename": "error",
     "evalue": "compile_error",
     "output_type": "error",
     "traceback": [
      "File \"[6]\", line 1, characters 0-2:\n1 | // Q4. (/4)\n    ^^\nError: Syntax error\n"
     ]
    }
   ],
   "source": [
    "// Q4. (/4)\n",
    "int* decodage(int* tprime, int nprime) {\n",
    "    int mu = tprime[0];\n",
    "    \n",
    "    // calcul de la taille du tableau à créer\n",
    "    int n = 0;\n",
    "    for(int i = 1; i < nprime; i++) {\n",
    "        n++;\n",
    "        if(tprime[i] == mu)\n",
    "            n += tprime[(++i)++];\n",
    "    }\n",
    "    \n",
    "    int* t = (int*)malloc(n*sizeof(int));\n",
    "    \n",
    "    for(int i = 1, k = 0; k < n; i++) {\n",
    "        if(tprime[i] == mu) {\n",
    "            for(int j = 0; j <= tprime[i + 1]; j++)\n",
    "                t[k++] = tprime[i + 2];\n",
    "            i += 2;\n",
    "        }\n",
    "        else\n",
    "            t[k++] = tprime[i];\n",
    "    }\n",
    "    return t;\n",
    "}\n",
    "\n",
    "print_array(decodage(tprime, nprime), n)"
   ]
  },
  {
   "cell_type": "markdown",
   "metadata": {},
   "source": [
    "## Partie II. Transformation de Burrows-Wheeler"
   ]
  },
  {
   "cell_type": "code",
   "execution_count": 7,
   "metadata": {
    "execution": {
     "iopub.execute_input": "2022-05-02T16:43:34.203210Z",
     "iopub.status.busy": "2022-05-02T16:43:34.202549Z",
     "iopub.status.idle": "2022-05-02T16:43:34.213703Z",
     "shell.execute_reply": "2022-05-02T16:43:34.213173Z"
    },
    "vscode": {
     "languageId": "ocaml"
    }
   },
   "outputs": [
    {
     "data": {
      "text/plain": [
       "val occurrences : char array -> int array = <fun>\n"
      ]
     },
     "execution_count": 7,
     "metadata": {},
     "output_type": "execute_result"
    }
   ],
   "source": [
    "let occurrences t =\n",
    "  let n = Array.length t in\n",
    "  let r = Array.make 256 0 in\n",
    "  for i = 0 to n - 1 do\n",
    "    r.(Char.code t.(i)) <- r.(Char.code t.(i)) + 1\n",
    "  done;\n",
    "  r"
   ]
  },
  {
   "cell_type": "code",
   "execution_count": 8,
   "metadata": {
    "execution": {
     "iopub.execute_input": "2022-05-02T16:43:34.215783Z",
     "iopub.status.busy": "2022-05-02T16:43:34.215241Z",
     "iopub.status.idle": "2022-05-02T16:43:34.225562Z",
     "shell.execute_reply": "2022-05-02T16:43:34.224906Z"
    },
    "vscode": {
     "languageId": "ocaml"
    }
   },
   "outputs": [
    {
     "data": {
      "text/plain": [
       "val comparerRotations : string -> int -> int -> int = <fun>\n"
      ]
     },
     "execution_count": 8,
     "metadata": {},
     "output_type": "execute_result"
    },
    {
     "data": {
      "text/plain": [
       "val t : string = \"concours\"\n"
      ]
     },
     "execution_count": 8,
     "metadata": {},
     "output_type": "execute_result"
    }
   ],
   "source": [
    "(* Q6. (/2) *)\n",
    "let comparerRotations t i j =\n",
    "  let n = String.length t in\n",
    "  let res = ref 0 in\n",
    "  for k = 0 to n - 1 do\n",
    "    if !res = 0 then (\n",
    "      if t.[(i + k) mod n] < t.[(j + k) mod n]\n",
    "      then res := 1\n",
    "      else if t.[(i + k) mod n] > t.[(j + k) mod n]\n",
    "      then res := -1\n",
    "    )\n",
    "  done;\n",
    "  !res;;\n",
    "\n",
    "let t = \"concours\";;\n",
    "comparerRotations t 0 3"
   ]
  },
  {
   "cell_type": "code",
   "execution_count": 9,
   "metadata": {
    "execution": {
     "iopub.execute_input": "2022-05-02T16:43:34.227794Z",
     "iopub.status.busy": "2022-05-02T16:43:34.227191Z",
     "iopub.status.idle": "2022-05-02T16:43:34.235084Z",
     "shell.execute_reply": "2022-05-02T16:43:34.235620Z"
    }
   },
   "outputs": [
    {
     "data": {
      "text/plain": [
       "val triRotations : string -> int array = <fun>\n"
      ]
     },
     "execution_count": 9,
     "metadata": {},
     "output_type": "execute_result"
    },
    {
     "data": {
      "text/plain": [
       "val tri : int array = [|0; 3; 2; 1; 4; 6; 7; 5|]\n"
      ]
     },
     "execution_count": 9,
     "metadata": {},
     "output_type": "execute_result"
    },
    {
     "data": {
      "text/plain": [
       "- : int array = [|0; 3; 2; 1; 4; 6; 7; 5|]\n"
      ]
     },
     "execution_count": 9,
     "metadata": {},
     "output_type": "execute_result"
    }
   ],
   "source": [
    "let triRotations text = \n",
    "    let n = String.length text in\n",
    "    let rot = Array.init n (fun i -> i) in\n",
    "    Array.sort (fun i j -> comparerRotations text j i) rot;\n",
    "    rot;;\n",
    "    \n",
    "let tri = triRotations t;;\n",
    "tri"
   ]
  },
  {
   "cell_type": "code",
   "execution_count": 10,
   "metadata": {
    "execution": {
     "iopub.execute_input": "2022-05-02T16:43:34.237743Z",
     "iopub.status.busy": "2022-05-02T16:43:34.237124Z",
     "iopub.status.idle": "2022-05-02T16:43:34.245912Z",
     "shell.execute_reply": "2022-05-02T16:43:34.245294Z"
    },
    "vscode": {
     "languageId": "ocaml"
    }
   },
   "outputs": [
    {
     "data": {
      "text/plain": [
       "val codageBW : string -> char array * int = <fun>\n"
      ]
     },
     "execution_count": 10,
     "metadata": {},
     "output_type": "execute_result"
    },
    {
     "data": {
      "text/plain": [
       "val code : char array = [|'s'; 'n'; 'o'; 'c'; 'c'; 'u'; 'r'; 'o'|]\n"
      ]
     },
     "execution_count": 10,
     "metadata": {},
     "output_type": "execute_result"
    }
   ],
   "source": [
    "(* Q7. (/2) *)\n",
    "let codageBW text = (* O(nlog(n)) *)\n",
    "    let n = String.length text in\n",
    "    let tri = triRotations t in (* O(nlog(n)) *)\n",
    "    let ans = Array.make n 'a' in (* O(n) *)\n",
    "    let key = ref (-1) in\n",
    "    for i = 0 to n - 1 do (* O(n) *)\n",
    "        ans.(i) <- text.[(n - 1 + tri.(i)) mod n];\n",
    "        if ans.(i) = text.[0] && !key = -1\n",
    "        then key := i\n",
    "    done;\n",
    "    ans, !key;;\n",
    "\n",
    "let code, _ = codageBW t;;"
   ]
  },
  {
   "cell_type": "markdown",
   "metadata": {},
   "source": [
    "## Partie III. Transformation de Burrows-Wheeler inverse"
   ]
  },
  {
   "cell_type": "code",
   "execution_count": 11,
   "metadata": {
    "execution": {
     "iopub.execute_input": "2022-05-02T16:43:34.248990Z",
     "iopub.status.busy": "2022-05-02T16:43:34.248392Z",
     "iopub.status.idle": "2022-05-02T16:43:34.254441Z",
     "shell.execute_reply": "2022-05-02T16:43:34.253961Z"
    }
   },
   "outputs": [
    {
     "data": {
      "text/plain": [
       "val triCarsDe : char array -> char array = <fun>\n"
      ]
     },
     "execution_count": 11,
     "metadata": {},
     "output_type": "execute_result"
    },
    {
     "data": {
      "text/plain": [
       "- : char array = [|'c'; 'c'; 'n'; 'o'; 'o'; 'r'; 's'; 'u'|]\n"
      ]
     },
     "execution_count": 11,
     "metadata": {},
     "output_type": "execute_result"
    }
   ],
   "source": [
    "(* Q9 (/2) *)\n",
    "let triCarsDe tprime =\n",
    "    let n = Array.length tprime in\n",
    "    let triCars = Array.make n 'a' in\n",
    "    let occ = occurrences tprime  in\n",
    "    let k = ref 0 in\n",
    "    for i = 0 to Array.length occ - 1 do\n",
    "        for j = 0 to occ.(i) - 1 do\n",
    "            triCars.(!k) <- Char.chr i;\n",
    "            incr k\n",
    "        done;\n",
    "    done;\n",
    "    triCars;;\n",
    "    \n",
    "triCarsDe code"
   ]
  }
 ],
 "metadata": {
  "interpreter": {
   "hash": "638d2bb0c3d5a654c8dabbf1e544957f030902e91031027a7993b713e9c17aba"
  },
  "kernelspec": {
   "display_name": "OCaml default",
   "language": "OCaml",
   "name": "ocaml-jupyter"
  },
  "language_info": {
   "codemirror_mode": "text/x-ocaml",
   "file_extension": ".ml",
   "mimetype": "text/x-ocaml",
   "name": "OCaml",
   "nbconverter_exporter": null,
   "pygments_lexer": "OCaml",
   "version": "4.08.1"
  }
 },
 "nbformat": 4,
 "nbformat_minor": 4
}
